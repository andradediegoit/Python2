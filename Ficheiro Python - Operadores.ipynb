{
 "cells": [
  {
   "cell_type": "markdown",
   "metadata": {},
   "source": [
    "# Operadores\n",
    "# 1. Aritméticos"
   ]
  },
  {
   "cell_type": "code",
   "execution_count": 51,
   "metadata": {},
   "outputs": [],
   "source": [
    "soma = 3 + 2\n",
    "subtração = 3 - 2\n",
    "multiplicacao = 3 * 2.0\n",
    "divisao = 2 / 2\n",
    "resto_divisao = 3 % 2\n",
    "quociente_divisao = 3 // 2\n",
    "potencia = 3 ** 2"
   ]
  },
  {
   "cell_type": "markdown",
   "metadata": {},
   "source": [
    "# 2. Comparação"
   ]
  },
  {
   "cell_type": "code",
   "execution_count": 10,
   "metadata": {},
   "outputs": [
    {
     "data": {
      "text/plain": [
       "False"
      ]
     },
     "execution_count": 10,
     "metadata": {},
     "output_type": "execute_result"
    }
   ],
   "source": [
    "x = 0\n",
    "y = 1\n",
    "\n",
    "a = '1'\n",
    "b = 1\n",
    "\n",
    "x == y # Comparação entre duas variáveis, se são iguais\n",
    "x != y # Comparação entre duas variáveis, se são diferentes\n",
    "x > y # Comparação entre duas variáveis, se são x é maior que y\n",
    "x < y # Comparação entre duas variáveis, se são x é menor que y\n",
    "x >= y # Comparação entre duas variáveis, se são x é maior ou igual que y\n",
    "x <= y # Comparação entre duas variáveis, se são x é menor ou igual que y\n",
    "\n",
    "a == b # Operação possivel. Operadores de comparação também comparam tipos de dados"
   ]
  },
  {
   "cell_type": "markdown",
   "metadata": {},
   "source": [
    "# 3. Lógicos\n",
    "## 3.1. Operador AND"
   ]
  },
  {
   "cell_type": "code",
   "execution_count": 13,
   "metadata": {},
   "outputs": [
    {
     "data": {
      "text/plain": [
       "True"
      ]
     },
     "execution_count": 13,
     "metadata": {},
     "output_type": "execute_result"
    }
   ],
   "source": [
    "x = 0\n",
    "y = 1\n",
    "z = 2\n",
    "\n",
    "x >= 0 and y <= 1 and z == 2 # Comparação entre duas ou mais condições, em que o resultado é verdadeiro se todas as condições forem verdadeiras"
   ]
  },
  {
   "cell_type": "markdown",
   "metadata": {},
   "source": [
    "## 3.2. Operador OR"
   ]
  },
  {
   "cell_type": "code",
   "execution_count": 14,
   "metadata": {},
   "outputs": [
    {
     "data": {
      "text/plain": [
       "True"
      ]
     },
     "execution_count": 14,
     "metadata": {},
     "output_type": "execute_result"
    }
   ],
   "source": [
    "w = 3\n",
    "\n",
    "x != 0 or y < 1 or w >= 3 # Comparação entre duas ou mais condições, em que o resultado é verdadeiro se pelo menos uma condição for verdadeira"
   ]
  },
  {
   "cell_type": "markdown",
   "metadata": {},
   "source": [
    "## 3.3. Operador XOR"
   ]
  },
  {
   "cell_type": "code",
   "execution_count": 16,
   "metadata": {},
   "outputs": [
    {
     "data": {
      "text/plain": [
       "True"
      ]
     },
     "execution_count": 16,
     "metadata": {},
     "output_type": "execute_result"
    }
   ],
   "source": [
    "''' XOR - OR Exclusivo\n",
    "\n",
    "True ^ True = False\n",
    "False ^ True = True\n",
    "True ^ False = True\n",
    "False ^ False = False\n",
    "'''\n",
    "\n",
    "x = 10\n",
    "y = 20\n",
    "\n",
    "(x >= 10) ^ (y <= 19)"
   ]
  },
  {
   "cell_type": "markdown",
   "metadata": {},
   "source": [
    "## 3.4. Condição NOT"
   ]
  },
  {
   "cell_type": "code",
   "execution_count": 18,
   "metadata": {},
   "outputs": [
    {
     "data": {
      "text/plain": [
       "False"
      ]
     },
     "execution_count": 18,
     "metadata": {},
     "output_type": "execute_result"
    }
   ],
   "source": [
    "not(x != 0 or y >= 20)"
   ]
  },
  {
   "cell_type": "markdown",
   "metadata": {},
   "source": [
    "# 4. Operadores de membro"
   ]
  },
  {
   "cell_type": "code",
   "execution_count": 28,
   "metadata": {},
   "outputs": [
    {
     "name": "stdout",
     "output_type": "stream",
     "text": [
      "True\n",
      "False\n",
      "False\n",
      "True\n"
     ]
    }
   ],
   "source": [
    "listaH = ['Batman','Super-Homem','Homem-Aranha']\n",
    "\n",
    "print('Batman' in listaH) # Correspondência total\n",
    "\n",
    "print('Batman' not in listaH)\n",
    "\n",
    "print('Bat' in listaH)\n",
    "\n",
    "stringSuper = 'Batman'\n",
    "\n",
    "print('Bat' in stringSuper) # Correspondência total e parcial"
   ]
  },
  {
   "cell_type": "markdown",
   "metadata": {},
   "source": [
    "# 5. Operadores de atribuição"
   ]
  },
  {
   "cell_type": "code",
   "execution_count": 29,
   "metadata": {},
   "outputs": [],
   "source": [
    "contador = 5"
   ]
  },
  {
   "cell_type": "code",
   "execution_count": 37,
   "metadata": {},
   "outputs": [],
   "source": [
    "contador = contador + 1"
   ]
  },
  {
   "cell_type": "code",
   "execution_count": 40,
   "metadata": {},
   "outputs": [],
   "source": [
    "contador += 1 # Incrementar o valor da variável e atribui (contador = contador + 1)"
   ]
  },
  {
   "cell_type": "code",
   "execution_count": 44,
   "metadata": {},
   "outputs": [],
   "source": [
    "contador -= 1 # Decrementar o valor da variável e atribui (contador = contador - 1)"
   ]
  },
  {
   "cell_type": "code",
   "execution_count": 47,
   "metadata": {},
   "outputs": [],
   "source": [
    "contador *= 2 # Multiplicar o valor da variável e atribui (contador = contador * 2)"
   ]
  },
  {
   "cell_type": "code",
   "execution_count": 50,
   "metadata": {},
   "outputs": [],
   "source": [
    "contador /= 2 # Divide o valor da variável e atribui (contador = contador / 2)"
   ]
  },
  {
   "cell_type": "code",
   "execution_count": 52,
   "metadata": {},
   "outputs": [],
   "source": [
    "contador //= 2 # Quociente o valor da variável e atribui (contador = contador // 2)"
   ]
  },
  {
   "cell_type": "code",
   "execution_count": 55,
   "metadata": {},
   "outputs": [],
   "source": [
    "contador **= 2 # Quociente o valor da variável e atribui (contador = contador // 2)"
   ]
  },
  {
   "cell_type": "code",
   "execution_count": 56,
   "metadata": {},
   "outputs": [],
   "source": [
    "contador %= 2 # Quociente o valor da variável e atribui (contador = contador // 2)"
   ]
  },
  {
   "cell_type": "markdown",
   "metadata": {},
   "source": [
    "# 6. Operadores de identidade"
   ]
  },
  {
   "cell_type": "code",
   "execution_count": 62,
   "metadata": {},
   "outputs": [
    {
     "name": "stdout",
     "output_type": "stream",
     "text": [
      "False\n",
      "False\n",
      "True\n",
      "['Hello', 'Mundo']\n",
      "['Olá', 'Mundo']\n",
      "False\n"
     ]
    }
   ],
   "source": [
    "x = ['Olá','Mundo']\n",
    "y = ['Hello','World']\n",
    "z = ['Olá','Mundo']\n",
    "\n",
    "w = z\n",
    "\n",
    "print(x is y) # Verificação entre duas ou mais variáveis, se estão igualadas\n",
    "print(x is w) # As duas variáveis possuem o mesmo conteúdo, mas não se encontram igualadas\n",
    "\n",
    "print(w is z) # As duas variáveis possuem o mesmo conteúdo, mas e encontram-se igualadas\n",
    "\n",
    "w = z.copy() # Fazer cópia da variável original para não ser alterada\n",
    "\n",
    "\n",
    "w[0] = 'Hello'\n",
    "\n",
    "print(w)\n",
    "print(z)\n",
    "\n",
    "print(w is z) # As duas variáveis possuem o mesmo conteúdo, mas já não se encontram-se igualadas"
   ]
  }
 ],
 "metadata": {
  "kernelspec": {
   "display_name": "UFCD_10793_04_AG",
   "language": "python",
   "name": "python3"
  },
  "language_info": {
   "codemirror_mode": {
    "name": "ipython",
    "version": 3
   },
   "file_extension": ".py",
   "mimetype": "text/x-python",
   "name": "python",
   "nbconvert_exporter": "python",
   "pygments_lexer": "ipython3",
   "version": "3.11.7"
  }
 },
 "nbformat": 4,
 "nbformat_minor": 2
}
