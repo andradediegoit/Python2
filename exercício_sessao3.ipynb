{
 "cells": [
  {
   "cell_type": "markdown",
   "metadata": {},
   "source": [
    "\n",
    "#### 1. Usando o método de funções de passagem de argumentos arbitrários, crie um programa Python em que o utilizador:\n",
    "\n",
    "###### 1. Introduza 5 marcas de carros e 5 cores correspondentes, criando dois dicionários\n",
    "###### 2. De seguida, se o utilizador introduzir uma cor, o programa retorma a marca do carro corrspondente. Ao introduzir uma marca de carro, o programa retorna a cor correspondente.\n",
    "###### 3. Se existir cores ou marcas repetidas, o programa deverá apresentar todas as ocorrências \n",
    "###### 4. Pode utilizar o numero de funções que desejar"
   ]
  },
  {
   "cell_type": "code",
   "execution_count": 3,
   "metadata": {},
   "outputs": [
    {
     "name": "stdout",
     "output_type": "stream",
     "text": [
      "Escolha inválida. Tente novamente.\n",
      "Escolha inválida. Tente novamente.\n",
      "Escolha inválida. Tente novamente.\n",
      "As cores correspondentes são: ['vermelho']\n",
      "Escolha inválida. Tente novamente.\n"
     ]
    }
   ],
   "source": [
    "def criar_dicionarios():\n",
    "    marcas = {}\n",
    "    cores = {}\n",
    "    for _ in range(5):\n",
    "        marca = input(\"Introduza a marca do carro: \")\n",
    "        cor = input(\"Introduza a cor correspondente: \")\n",
    "        if cor in cores:\n",
    "            cores[cor].append(marca)\n",
    "        else:\n",
    "            cores[cor] = [marca]\n",
    "        \n",
    "        if marca in marcas:\n",
    "            marcas[marca].append(cor)\n",
    "        else:\n",
    "            marcas[marca] = [cor]\n",
    "    return marcas, cores\n",
    "\n",
    "def encontrar_carro_por_cor(cores, cor):\n",
    "    if cor in cores:\n",
    "        return cores[cor]\n",
    "    else:\n",
    "        return \"Não há carros com essa cor.\"\n",
    "\n",
    "def encontrar_cor_por_carro(marcas, marca):\n",
    "    if marca in marcas:\n",
    "        return marcas[marca]\n",
    "    else:\n",
    "        return \"Não há carros dessa marca.\"\n",
    "\n",
    "def main():\n",
    "    marcas, cores = criar_dicionarios()\n",
    "    \n",
    "    while True:\n",
    "        escolha = input(\"Digite 'marca' para pesquisar por marca ou 'cor' para pesquisar por cor: \").lower()\n",
    "        \n",
    "        if escolha == 'marca':\n",
    "            marca = input(\"Introduza a marca do carro: \")\n",
    "            print(\"As cores correspondentes são:\", encontrar_cor_por_carro(marcas, marca))\n",
    "        elif escolha == 'cor':\n",
    "            cor = input(\"Introduza a cor do carro: \")\n",
    "            print(\"As marcas correspondentes são:\", encontrar_carro_por_cor(cores, cor))\n",
    "        else:\n",
    "            print(\"Escolha inválida. Tente novamente.\")\n",
    "\n",
    "        continuar = input(\"Deseja continuar? (s/n): \").lower()\n",
    "        if continuar != 's':\n",
    "            break\n",
    "\n",
    "if __name__ == \"__main__\":\n",
    "    main()"
   ]
  }
 ],
 "metadata": {
  "kernelspec": {
   "display_name": "UFCD_10793_04_AG",
   "language": "python",
   "name": "python3"
  },
  "language_info": {
   "codemirror_mode": {
    "name": "ipython",
    "version": 3
   },
   "file_extension": ".py",
   "mimetype": "text/x-python",
   "name": "python",
   "nbconvert_exporter": "python",
   "pygments_lexer": "ipython3",
   "version": "3.12.1"
  }
 },
 "nbformat": 4,
 "nbformat_minor": 2
}
