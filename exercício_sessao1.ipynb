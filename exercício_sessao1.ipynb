{
 "cells": [
  {
   "cell_type": "markdown",
   "metadata": {},
   "source": [
    "## Exercícios Sessão 2 ( 1 - 8 )"
   ]
  },
  {
   "cell_type": "markdown",
   "metadata": {},
   "source": [
    "#### 1. Crie uma variável do tipo int, aplicando o método de atribuião direto:"
   ]
  },
  {
   "cell_type": "code",
   "execution_count": 4,
   "metadata": {},
   "outputs": [
    {
     "name": "stdout",
     "output_type": "stream",
     "text": [
      "123 321\n"
     ]
    }
   ],
   "source": [
    "p = 123\n",
    "z = 321\n",
    "\n",
    "print(p,z)"
   ]
  },
  {
   "cell_type": "markdown",
   "metadata": {},
   "source": [
    "#### 2. Crie uma variável do tipo str, usando método casting:"
   ]
  },
  {
   "cell_type": "code",
   "execution_count": 7,
   "metadata": {},
   "outputs": [
    {
     "name": "stdout",
     "output_type": "stream",
     "text": [
      "Diego Andrade\n"
     ]
    }
   ],
   "source": [
    "\n",
    "\n",
    "x1 = str('Diego')\n",
    "x2 = str('Andrade')\n",
    "\n",
    "print(x1 +' ' + x2)"
   ]
  },
  {
   "cell_type": "markdown",
   "metadata": {},
   "source": [
    "#### 3. Faça a conversão de uma VAR do tipo float para str, e faça o output do tipo de variável final"
   ]
  },
  {
   "cell_type": "code",
   "execution_count": 9,
   "metadata": {},
   "outputs": [
    {
     "name": "stdout",
     "output_type": "stream",
     "text": [
      "32.75\n"
     ]
    },
    {
     "data": {
      "text/plain": [
       "str"
      ]
     },
     "execution_count": 9,
     "metadata": {},
     "output_type": "execute_result"
    }
   ],
   "source": [
    "z = 32.75\n",
    "\n",
    "z1 = str(z)\n",
    "\n",
    "print(z1)\n",
    "type(z1)"
   ]
  },
  {
   "cell_type": "markdown",
   "metadata": {},
   "source": [
    "#### 4. Identifique quais os tipos de variáveis são corretos."
   ]
  },
  {
   "cell_type": "code",
   "execution_count": null,
   "metadata": {},
   "outputs": [],
   "source": [
    "\"\"\"\n",
    "A) hello_world = 2    - CORRETO\n",
    "B) 1hello_world = 2   - INCORRETO / VAR iciada com número\n",
    "C) Hello_World = 2    - CORRETO\n",
    "D) _hello-world = 2   - INCORRETO / VAR com caracter matemático (-)\n",
    "E) -hello_World = 2   - INCORRETO / VAR com caracter matemático (-)\n",
    "F) helloWorld = 2     - CORRETO \n",
    "\n",
    "\"\"\"\n",
    "\n",
    "\n",
    "hello_world = 2\n",
    "type(hello_world)\n",
    "\n",
    "1hello_world = 2\n",
    "type(1hello_world)\n",
    "\n",
    "Hello_World = 2\n",
    "type(Hello_World)\n",
    "\n",
    "_hello-world = 2\n",
    "type(_hello-world)\n",
    "\n",
    "-hello_World = 2\n",
    "type(-hello_World)\n",
    "\n",
    "helloWorld = 2\n",
    "type(helloWorld)\n"
   ]
  },
  {
   "cell_type": "markdown",
   "metadata": {},
   "source": [
    "#####  5. Faça um programa que o utilizador introduz o seu nome, e no output apresenta o mesmo e o tipo da variável que o seu nome ficou atribuido"
   ]
  },
  {
   "cell_type": "code",
   "execution_count": 39,
   "metadata": {},
   "outputs": [
    {
     "name": "stdout",
     "output_type": "stream",
     "text": [
      "O nome introduzido foi:  Diego e é uma VAR do tipo  <class 'str'>\n"
     ]
    }
   ],
   "source": [
    "myInput = input('Introduza seu nome, por favor:')\n",
    "\n",
    "print('O nome introduzido foi: ',myInput, 'e é uma VAR do tipo ', type(myInput))\n",
    "\n",
    "\n"
   ]
  },
  {
   "cell_type": "markdown",
   "metadata": {},
   "source": [
    "#### 6. Atribua o mesmo elemento a três variáveis distintas, usando apenas uma linha de comando"
   ]
  },
  {
   "cell_type": "code",
   "execution_count": 41,
   "metadata": {},
   "outputs": [
    {
     "name": "stdout",
     "output_type": "stream",
     "text": [
      "Diego Silva Andrade Santos\n"
     ]
    }
   ],
   "source": [
    "b1 = ' Silva'\n",
    "b2 = ' Andrade'\n",
    "b3 = ' Santos'\n",
    "\n",
    "print(myInput + b1 + b2 + b3)"
   ]
  },
  {
   "cell_type": "markdown",
   "metadata": {},
   "source": [
    "#### 7. Crie cinco variáveis do tipo str e coloque um output que apresente as mesmas, uma em cada linha."
   ]
  },
  {
   "cell_type": "code",
   "execution_count": 47,
   "metadata": {},
   "outputs": [
    {
     "name": "stdout",
     "output_type": "stream",
     "text": [
      "João \n",
      " Maria \n",
      " Pedro \n",
      " Márcia \n",
      " Diego\n"
     ]
    }
   ],
   "source": [
    "c1 = 'João'\n",
    "c2 = 'Maria'\n",
    "c3 = 'Pedro'\n",
    "c4 = 'Márcia'\n",
    "c5 = 'Diego'\n",
    "\n",
    "print(c1,'\\n',c2,'\\n',c3,'\\n',c4,'\\n',c5)"
   ]
  },
  {
   "cell_type": "markdown",
   "metadata": {},
   "source": [
    "#### 8. Atribua três numeros distintos a três variáveis distintas, usando apenas uma linha de comando. Coloque um output que apresente a soma dessas três variáveis."
   ]
  },
  {
   "cell_type": "code",
   "execution_count": null,
   "metadata": {},
   "outputs": [],
   "source": [
    "#"
   ]
  }
 ],
 "metadata": {
  "kernelspec": {
   "display_name": "UFCD_10793_04_AG",
   "language": "python",
   "name": "python3"
  },
  "language_info": {
   "codemirror_mode": {
    "name": "ipython",
    "version": 3
   },
   "file_extension": ".py",
   "mimetype": "text/x-python",
   "name": "python",
   "nbconvert_exporter": "python",
   "pygments_lexer": "ipython3",
   "version": "0.0.0"
  }
 },
 "nbformat": 4,
 "nbformat_minor": 2
}
