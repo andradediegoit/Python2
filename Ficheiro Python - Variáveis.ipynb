{
 "cells": [
  {
   "cell_type": "markdown",
   "metadata": {},
   "source": [
    "# 1.Variáveis\n",
    "## 1.1. Atribuição direta"
   ]
  },
  {
   "cell_type": "code",
   "execution_count": 25,
   "metadata": {},
   "outputs": [],
   "source": [
    "x = 10 # Atribuição direta de um numero inteiro\n",
    "y = 4.7 # Atribuição direta de um numero float\n",
    "s = 'Python' # Atribuição direta de um caracter ou conjunto de caracteres\n",
    "t = \"Python\" # Atribuição direta de um caracter ou conjunto de caracteres\n",
    "r = '4' # Diferente de inteiro. 4 é uma string\n",
    "w = '3' # Diferente de inteiro. 3 é uma string\n",
    "v = \"'3'\" # Colocação de aplica em string\n",
    "z = '\"3\"' # Colocação de aspas em string\n"
   ]
  },
  {
   "cell_type": "code",
   "execution_count": 26,
   "metadata": {},
   "outputs": [
    {
     "data": {
      "text/plain": [
       "'43Python'"
      ]
     },
     "execution_count": 26,
     "metadata": {},
     "output_type": "execute_result"
    }
   ],
   "source": [
    "r + w + s"
   ]
  },
  {
   "cell_type": "markdown",
   "metadata": {},
   "source": [
    "## 1.2. Atribuição por Construtor ou *Casting*"
   ]
  },
  {
   "cell_type": "code",
   "execution_count": 52,
   "metadata": {},
   "outputs": [
    {
     "name": "stdout",
     "output_type": "stream",
     "text": [
      "olá eu sou o \"João\".O seu apelido é 'Araújo'\n"
     ]
    }
   ],
   "source": [
    "x1 = int(y) # Converter float para inteiro\n",
    "x2 = float(x) # Converter inteiro para float\n",
    "\n",
    "x3 = int(w) # Coverter sitring para inteiro. Operação válida se string contiver apenas numeros\n",
    "\n",
    "# x4 = int(v) Operação inválida, uma vez que a string contem carateres\n",
    "\n",
    "x5 = float(w) # Converter string para float\n",
    "x6 = 27485487236782394874263784623784623\n",
    "x7 = str(x6)\n",
    "\n",
    "x8 = 'olá eu sou o \"João\".' + \"O seu apelido é 'Araújo'\" \n",
    "\n",
    "print(x8)\n"
   ]
  },
  {
   "cell_type": "markdown",
   "metadata": {},
   "source": [
    "## 1.3. Case sensitive"
   ]
  },
  {
   "cell_type": "code",
   "execution_count": 50,
   "metadata": {},
   "outputs": [],
   "source": [
    "a = 'João' # a diferente de A\n",
    "A = 'João'"
   ]
  },
  {
   "cell_type": "markdown",
   "metadata": {},
   "source": [
    "## 1.4. Tipos de variável"
   ]
  },
  {
   "cell_type": "code",
   "execution_count": 51,
   "metadata": {},
   "outputs": [
    {
     "data": {
      "text/plain": [
       "str"
      ]
     },
     "execution_count": 51,
     "metadata": {},
     "output_type": "execute_result"
    }
   ],
   "source": [
    "type(x7)"
   ]
  },
  {
   "cell_type": "markdown",
   "metadata": {},
   "source": [
    "## 1.5. Atribuição de multiplas variáveis\n",
    "### Com valores diferentes"
   ]
  },
  {
   "cell_type": "code",
   "execution_count": 54,
   "metadata": {},
   "outputs": [],
   "source": [
    "a, b, c, d = 25.32, 2, 3.5, 'Python'"
   ]
  },
  {
   "cell_type": "markdown",
   "metadata": {},
   "source": [
    "### Com o mesmo valor"
   ]
  },
  {
   "cell_type": "code",
   "execution_count": 55,
   "metadata": {},
   "outputs": [],
   "source": [
    "e = f = g = 'Araújo'"
   ]
  },
  {
   "cell_type": "markdown",
   "metadata": {},
   "source": [
    "## 1.6. Float com representação cientifica"
   ]
  },
  {
   "cell_type": "code",
   "execution_count": 58,
   "metadata": {},
   "outputs": [],
   "source": [
    "exp = 35e3 # 35 * 10^3\n",
    "\n",
    "exp2 = 35E-3 # 35 * 10^-3"
   ]
  },
  {
   "cell_type": "code",
   "execution_count": 59,
   "metadata": {},
   "outputs": [],
   "source": [
    "formula = 5 + 3 * 2\n",
    "\n",
    "formula2 = (5 + 3) * 2"
   ]
  },
  {
   "cell_type": "markdown",
   "metadata": {},
   "source": [
    "## 1.7. Nomes das variáveis"
   ]
  },
  {
   "cell_type": "code",
   "execution_count": 63,
   "metadata": {},
   "outputs": [],
   "source": [
    "xyz1 = 1\n",
    "\n",
    "_vst = 1\n",
    "\n",
    "x_y = 1\n",
    "\n",
    "primeiro_nome = 'João'\n",
    "\n",
    "primeiroNome = 'Pedro'\n",
    "\n",
    "# 1x = 40 - Errado\n",
    "# -x = 20 - Errado"
   ]
  },
  {
   "cell_type": "markdown",
   "metadata": {},
   "source": [
    "# 2. Comandos de input e output"
   ]
  },
  {
   "cell_type": "code",
   "execution_count": 65,
   "metadata": {},
   "outputs": [],
   "source": [
    "myInput = input('Introduza um numero, por favor')\n",
    "myInputInt = int(myInput)"
   ]
  },
  {
   "cell_type": "code",
   "execution_count": 67,
   "metadata": {},
   "outputs": [],
   "source": [
    "myInputUpdate = int(input('Introduza um numero, por favor')) * 2"
   ]
  },
  {
   "cell_type": "markdown",
   "metadata": {},
   "source": [
    "## Apresentação de dados por print\n",
    "## Tipos de dados diferentes"
   ]
  },
  {
   "cell_type": "code",
   "execution_count": 72,
   "metadata": {},
   "outputs": [
    {
     "name": "stdout",
     "output_type": "stream",
     "text": [
      "400\n",
      "O numero introduzido pelo utilizador foi: 400\n"
     ]
    }
   ],
   "source": [
    "print(myInputUpdate)\n",
    "\n",
    "print('O numero introduzido pelo utilizador foi:',myInputUpdate) # Apresentação de dados sem formação"
   ]
  },
  {
   "cell_type": "code",
   "execution_count": 73,
   "metadata": {},
   "outputs": [
    {
     "name": "stdout",
     "output_type": "stream",
     "text": [
      "O numero introduzido pelo utilizador foi: 400 print terminado\n"
     ]
    }
   ],
   "source": [
    "print('O numero introduzido pelo utilizador foi:',myInputUpdate, 'print terminado') # Apresentação de dados sem formação"
   ]
  },
  {
   "cell_type": "markdown",
   "metadata": {},
   "source": [
    "## Apresentação de dados por concatenação de strings"
   ]
  },
  {
   "cell_type": "code",
   "execution_count": 74,
   "metadata": {},
   "outputs": [],
   "source": [
    "in1, in2 = int(input('Introduza o primeiro numero')), int(input('Introduza o segundo numero'))"
   ]
  },
  {
   "cell_type": "code",
   "execution_count": 76,
   "metadata": {},
   "outputs": [
    {
     "name": "stdout",
     "output_type": "stream",
     "text": [
      "O primeiro numero introduzido foi:50\n",
      "O primeiro numero introduzido foi:80\n"
     ]
    }
   ],
   "source": [
    "print('O primeiro numero introduzido foi:' + str(in1)) # Concatenação de string com casting\n",
    "print('O primeiro numero introduzido foi:' + str(in2)) # Concatenação de string com casting"
   ]
  },
  {
   "cell_type": "code",
   "execution_count": 77,
   "metadata": {},
   "outputs": [
    {
     "name": "stdout",
     "output_type": "stream",
     "text": [
      "130\n"
     ]
    }
   ],
   "source": [
    "print(in1 + in2) # Operação aritmética de soma se conter inteiros ou float"
   ]
  },
  {
   "cell_type": "markdown",
   "metadata": {},
   "source": [
    "# ATENÇÃO!!!\n",
    "- Aplicar o comando print() para output de dados para o utilizador\n",
    "- Concatenação de texto através de variáveis do tipo str com sinal +\n",
    "- Sinal + com inteiros e floar aplica operação artitmética de soma"
   ]
  },
  {
   "cell_type": "markdown",
   "metadata": {},
   "source": [
    "# 3. Comandos de formatação\n",
    "## 3.1. Mudança de linha"
   ]
  },
  {
   "cell_type": "code",
   "execution_count": 1,
   "metadata": {},
   "outputs": [],
   "source": [
    "in1, in2 = int(input('Introduza o primeiro numero')), int(input('Introduza o segundo numero'))\n"
   ]
  },
  {
   "cell_type": "code",
   "execution_count": 2,
   "metadata": {},
   "outputs": [
    {
     "name": "stdout",
     "output_type": "stream",
     "text": [
      "O primeiro numero introduzido foi:25\n",
      "\n",
      "\n",
      "O primeiro numero introduzido foi:87\n"
     ]
    }
   ],
   "source": [
    "print('O primeiro numero introduzido foi:' + str(in1) + '\\n\\n\\nO primeiro numero introduzido foi:' + str(in2))"
   ]
  },
  {
   "cell_type": "markdown",
   "metadata": {},
   "source": [
    "## Especificar string ignorando os comandos especiais"
   ]
  },
  {
   "cell_type": "code",
   "execution_count": 3,
   "metadata": {},
   "outputs": [
    {
     "name": "stdout",
     "output_type": "stream",
     "text": [
      "O primeiro numero introduzido foi:25\\n\\n\\nO primeiro numero introduzido foi:87\n"
     ]
    }
   ],
   "source": [
    "print(r'O primeiro numero introduzido foi:' + str(in1) + r'\\n\\n\\nO primeiro numero introduzido foi:' + str(in2))"
   ]
  },
  {
   "cell_type": "markdown",
   "metadata": {},
   "source": [
    "## 3.2. Tabulação"
   ]
  },
  {
   "cell_type": "code",
   "execution_count": 6,
   "metadata": {},
   "outputs": [],
   "source": [
    "pnome, unome, idade,altura = input('Introduza o primeiro nome'), input('Introduza o ultimo nome'),\\\n",
    "int(input('Introduza a idade')), float(input('Introduza a altura'))"
   ]
  },
  {
   "cell_type": "code",
   "execution_count": 9,
   "metadata": {},
   "outputs": [
    {
     "name": "stdout",
     "output_type": "stream",
     "text": [
      "O primeiro nome introduzido foi:João\n",
      "\tO ultimo nome introduzido foi:Araújo\n",
      "\t\tA idade introduzida foi: 40 \n",
      "\t\t\tA altura introduzida é: 1.78\n"
     ]
    }
   ],
   "source": [
    "print('O primeiro nome introduzido foi:' + pnome + \n",
    "      '\\n\\tO ultimo nome introduzido foi:' + unome + \n",
    "      '\\n\\t\\tA idade introduzida foi:', idade, \n",
    "      '\\n\\t\\t\\tA altura introduzida é:',altura)"
   ]
  },
  {
   "cell_type": "markdown",
   "metadata": {},
   "source": [
    "## 3.3. Colocação de multiplas variáveis no mesmo print, na mesma string"
   ]
  },
  {
   "cell_type": "code",
   "execution_count": 10,
   "metadata": {},
   "outputs": [],
   "source": [
    "pnome, unome, idade,altura = input('Introduza o primeiro nome'), input('Introduza o ultimo nome'),\\\n",
    "int(input('Introduza a idade')), float(input('Introduza a altura'))"
   ]
  },
  {
   "cell_type": "markdown",
   "metadata": {},
   "source": [
    "### 3.3.1. Método de referências"
   ]
  },
  {
   "cell_type": "code",
   "execution_count": 16,
   "metadata": {},
   "outputs": [
    {
     "name": "stdout",
     "output_type": "stream",
     "text": [
      "Nome da pessoa: João Araújo\n",
      "Idade da pessoa: 40\n",
      "Altura da pessoa: 2\n"
     ]
    }
   ],
   "source": [
    "print('Nome da pessoa: %s %s\\nIdade da pessoa: %i\\nAltura da pessoa: %.0f' % (pnome, unome,idade,altura)) \n",
    "\n",
    "# %s - referência a string\n",
    "# %i ou %d: referência a inteiro\n",
    "# %f: referência a float\n",
    "# %.2f: Formatação para 2 casas decimais\n",
    "# %.1f: Formatação para 1 casa decimal. Faz arredondamento se a ultima casa decimal for >=5\n",
    "# %.0f: Formatação para 0 casas decimal. Faz arredondamento da parte inteira se a ultima casa decimal for >=5\n"
   ]
  },
  {
   "cell_type": "markdown",
   "metadata": {},
   "source": [
    "### 3.3.2. Função Format"
   ]
  },
  {
   "cell_type": "code",
   "execution_count": 19,
   "metadata": {},
   "outputs": [
    {
     "name": "stdout",
     "output_type": "stream",
     "text": [
      "Nome da pessoa: João Araújo\n",
      "Idade da pessoa: 40\n",
      "Altura da pessoa: 1.8\n",
      "1.7800\n"
     ]
    }
   ],
   "source": [
    "print('Nome da pessoa: {} {}\\nIdade da pessoa: {}\\nAltura da pessoa: {:.1f}\\n{:.4f}'.format(pnome,unome,idade,altura,altura))\n",
    "\n",
    "# Não é necessário espeficar qual o tipo de variável a colocar na string\n",
    "# :.1f -> Faz arredondamento se a ultima casa de cimal for >= 5. Formatação para uma casa decimal"
   ]
  },
  {
   "cell_type": "markdown",
   "metadata": {},
   "source": [
    "### 3.3.3. F-String"
   ]
  },
  {
   "cell_type": "code",
   "execution_count": 21,
   "metadata": {},
   "outputs": [
    {
     "name": "stdout",
     "output_type": "stream",
     "text": [
      "Nome da pessoa: João Araújo\n",
      "Idade da pessoa: 40\n",
      "Altura da pessoa: 1.8\n"
     ]
    }
   ],
   "source": [
    "print(f'Nome da pessoa: {pnome} {unome}\\nIdade da pessoa: {idade}\\nAltura da pessoa: {altura:.1f}')\n",
    "\n",
    "# Não é necessário espeficar qual o tipo de variável a colocar na string\n",
    "# :.1f -> Faz arredondamento se a ultima casa de cimal for >= 5. Formatação para uma casa decimal"
   ]
  },
  {
   "cell_type": "code",
   "execution_count": 23,
   "metadata": {},
   "outputs": [
    {
     "name": "stdout",
     "output_type": "stream",
     "text": [
      "Nome da pessoa: Diego Araújo\n",
      "Idade da pessoa: 40\n",
      "Altura da pessoa: 1.8\n"
     ]
    }
   ],
   "source": [
    "print(f'Nome da pessoa: {input(\"Introduza o primeiro nome\")} {unome}\\nIdade da pessoa: {idade}\\nAltura da pessoa: {altura:.1f}')"
   ]
  }
 ],
 "metadata": {
  "kernelspec": {
   "display_name": "UFCD_10793_04_AG",
   "language": "python",
   "name": "python3"
  },
  "language_info": {
   "codemirror_mode": {
    "name": "ipython",
    "version": 3
   },
   "file_extension": ".py",
   "mimetype": "text/x-python",
   "name": "python",
   "nbconvert_exporter": "python",
   "pygments_lexer": "ipython3",
   "version": "3.11.7"
  }
 },
 "nbformat": 4,
 "nbformat_minor": 2
}
