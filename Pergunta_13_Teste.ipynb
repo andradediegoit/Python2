{
 "cells": [
  {
   "cell_type": "code",
   "execution_count": 2,
   "metadata": {},
   "outputs": [
    {
     "name": "stdout",
     "output_type": "stream",
     "text": [
      "O nome deve conter apenas letras!\n",
      "O primeiro nome tem 5 caracteres\n",
      "O seundo nome tem 7 caracteres\n"
     ]
    }
   ],
   "source": [
    "def contcaract(nome):\n",
    "    return len(nome)\n",
    "\n",
    "def verif_nome(nome):\n",
    "    return nome.isalpha()\n",
    "\n",
    "while True:\n",
    "    pnome = input('Digite o primeiro nome:')\n",
    "    unome = input('Digite o último nome:')\n",
    "\n",
    "    if verif_nome(pnome) and verif_nome(unome):\n",
    "        break\n",
    "    else:\n",
    "        print('O nome deve conter apenas letras!')\n",
    "\n",
    "\n",
    "Num_caract_pnome = contcaract(pnome)\n",
    "\n",
    "Num_caract_unome = contcaract(unome)\n",
    "\n",
    "print(f'O primeiro nome tem {Num_caract_pnome} caracteres')\n",
    "print(f'O seundo nome tem {Num_caract_unome} caracteres')"
   ]
  }
 ],
 "metadata": {
  "kernelspec": {
   "display_name": "UFCD_10793_04_AG",
   "language": "python",
   "name": "python3"
  },
  "language_info": {
   "codemirror_mode": {
    "name": "ipython",
    "version": 3
   },
   "file_extension": ".py",
   "mimetype": "text/x-python",
   "name": "python",
   "nbconvert_exporter": "python",
   "pygments_lexer": "ipython3",
   "version": "3.12.1"
  }
 },
 "nbformat": 4,
 "nbformat_minor": 2
}
