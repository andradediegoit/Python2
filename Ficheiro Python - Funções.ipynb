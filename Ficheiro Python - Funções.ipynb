{
 "cells": [
  {
   "cell_type": "markdown",
   "metadata": {},
   "source": [
    "# 1. Funções\n",
    "## 1.1. Funções procedimentais (sem argumentos ou parâmetros de entrada)"
   ]
  },
  {
   "cell_type": "code",
   "execution_count": 7,
   "metadata": {},
   "outputs": [
    {
     "name": "stdout",
     "output_type": "stream",
     "text": [
      "5\n",
      "Sou um procedimento\n",
      "10\n",
      "5\n"
     ]
    }
   ],
   "source": [
    "x = 5 # Variáveis globais\n",
    "y = 6 # Variáveis globais\n",
    "\n",
    "print(x)\n",
    "\n",
    "def myProcedure():\n",
    "    print('Sou um procedimento')\n",
    "    a = 1 # Variáveis locais\n",
    "    x = 10 # Variáveis locais\n",
    "    print(x)\n",
    "\n",
    "myProcedure()\n",
    "print(x)\n"
   ]
  },
  {
   "cell_type": "code",
   "execution_count": 4,
   "metadata": {},
   "outputs": [
    {
     "name": "stdout",
     "output_type": "stream",
     "text": [
      "5\n",
      "Sou um procedimento\n",
      "10\n",
      "20\n",
      "1\n"
     ]
    }
   ],
   "source": [
    "x = 5 # Variáveis globais\n",
    "y = 6 # Variáveis globais\n",
    "\n",
    "print(x)\n",
    "\n",
    "def reset():\n",
    "    global x,y\n",
    "    x = 5 # Variáveis globais\n",
    "    y = 6 # Variáveis globais\n",
    "\n",
    "def myProcedure():\n",
    "    global x # Declaração global, para ligar x da função com x do programa principal\n",
    "    global a # Nova variável global\n",
    "    y = 0\n",
    "    print('Sou um procedimento')\n",
    "    a = 1 \n",
    "    x = 10\n",
    "    print(x)\n",
    "    def myProc1():\n",
    "        y = 3\n",
    "        global x\n",
    "        x = 20\n",
    "    myProc1()\n",
    "\n",
    "myProcedure()\n",
    "\n",
    "print(x)\n",
    "\n",
    "print(a)"
   ]
  },
  {
   "cell_type": "markdown",
   "metadata": {},
   "source": [
    "## 1.2. Com argumentos ou parâmetros de entrada\n",
    "### 1.2.1. Posicional, sem retorno de valores"
   ]
  },
  {
   "cell_type": "code",
   "execution_count": 8,
   "metadata": {},
   "outputs": [
    {
     "name": "stdout",
     "output_type": "stream",
     "text": [
      "O nome da pessoa é João Araújo\n"
     ]
    }
   ],
   "source": [
    "def myFunction(primeiro_nome, ultimo_nome): # Argumentos posicionais\n",
    "    a = primeiro_nome\n",
    "    b = ultimo_nome\n",
    "\n",
    "    print(f'O nome da pessoa é {a} {b}')\n",
    "\n",
    "pnome, unome = input('Introduza o primeiro nome'), input('Introduza o ultimo nome')\n",
    "\n",
    "myFunction(pnome,unome) # Argumentos posicionais obrigatórios na chamada da função"
   ]
  },
  {
   "cell_type": "code",
   "execution_count": 11,
   "metadata": {},
   "outputs": [
    {
     "name": "stdout",
     "output_type": "stream",
     "text": [
      "O nome da pessoa é João Araújo\n"
     ]
    }
   ],
   "source": [
    "def myFunction(primeiro_nome, ultimo_nome): # Argumentos posicionais\n",
    "    a = primeiro_nome\n",
    "    b = ultimo_nome\n",
    "\n",
    "    print(f'O nome da pessoa é {a} {b}')\n",
    "\n",
    "myFunction(input('Introduza o primeiro nome'),input('Introduza o ultimo nome')) # Argumentos posicionais obrigatórios na chamada da função"
   ]
  },
  {
   "cell_type": "markdown",
   "metadata": {},
   "source": [
    "### 1.2.2. Posicional, com retorno de valores"
   ]
  },
  {
   "cell_type": "code",
   "execution_count": 16,
   "metadata": {},
   "outputs": [
    {
     "name": "stdout",
     "output_type": "stream",
     "text": [
      "Numero maior que 3\n"
     ]
    }
   ],
   "source": [
    "userIn = input('Introduza um numero:')\n",
    "\n",
    "def dataFunction(numero):\n",
    "    try:\n",
    "        num_conv = float(numero)\n",
    "    except:\n",
    "        resultado = 'Valor Inválido'\n",
    "    else:\n",
    "        if num_conv > 3:\n",
    "            resultado = 'Numero maior que 3'\n",
    "        elif num_conv < 3:\n",
    "            resultado = 'Numero menor que 3'\n",
    "        else:\n",
    "            resultado = 'Numero igual a 3'\n",
    "    \n",
    "    return resultado\n",
    "\n",
    "res = dataFunction(userIn)\n",
    "print(res)"
   ]
  },
  {
   "cell_type": "code",
   "execution_count": 2,
   "metadata": {},
   "outputs": [
    {
     "name": "stdout",
     "output_type": "stream",
     "text": [
      "Valor do perímetro:Valor do raio inválido\n"
     ]
    }
   ],
   "source": [
    "import teste_import_funcao\n",
    "\n",
    "perimetro = teste_import_funcao.calcPerimCir(input('Introduza o raio da circunferência'))\n",
    "\n",
    "print(f'Valor do perímetro:{perimetro}')"
   ]
  },
  {
   "cell_type": "markdown",
   "metadata": {},
   "source": [
    "### 1.2.3. Retorno de valores com mais que um elemento"
   ]
  },
  {
   "cell_type": "code",
   "execution_count": 3,
   "metadata": {},
   "outputs": [
    {
     "name": "stdout",
     "output_type": "stream",
     "text": [
      "('Numero maior que 3', 25.0)\n"
     ]
    }
   ],
   "source": [
    "userIn = input('Introduza um numero:')\n",
    "\n",
    "def dataFunction(numero):\n",
    "    try:\n",
    "        num_conv = float(numero)\n",
    "    except:\n",
    "        resultado = 'Valor Inválido'\n",
    "    else:\n",
    "        if num_conv > 3:\n",
    "            resultado = 'Numero maior que 3'\n",
    "        elif num_conv < 3:\n",
    "            resultado = 'Numero menor que 3'\n",
    "        else:\n",
    "            resultado = 'Numero igual a 3'\n",
    "    \n",
    "    return resultado, num_conv\n",
    "\n",
    "res = dataFunction(userIn) # Retorno de função com mais que um valor em forma de tuple\n",
    "print(res)"
   ]
  }
 ],
 "metadata": {
  "kernelspec": {
   "display_name": "UFCD_10793_04_AG",
   "language": "python",
   "name": "python3"
  },
  "language_info": {
   "codemirror_mode": {
    "name": "ipython",
    "version": 3
   },
   "file_extension": ".py",
   "mimetype": "text/x-python",
   "name": "python",
   "nbconvert_exporter": "python",
   "pygments_lexer": "ipython3",
   "version": "3.11.7"
  }
 },
 "nbformat": 4,
 "nbformat_minor": 2
}
