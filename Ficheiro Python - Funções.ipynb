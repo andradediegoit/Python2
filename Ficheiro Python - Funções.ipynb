{
 "cells": [
  {
   "cell_type": "markdown",
   "metadata": {},
   "source": [
    "# 1. Funções\n",
    "## 1.1. Funções procedimentais (sem argumentos ou parâmetros de entrada)"
   ]
  },
  {
   "cell_type": "code",
   "execution_count": 7,
   "metadata": {},
   "outputs": [
    {
     "name": "stdout",
     "output_type": "stream",
     "text": [
      "5\n",
      "Sou um procedimento\n",
      "10\n",
      "5\n"
     ]
    }
   ],
   "source": [
    "x = 5 # Variáveis globais\n",
    "y = 6 # Variáveis globais\n",
    "\n",
    "print(x)\n",
    "\n",
    "def myProcedure():\n",
    "    print('Sou um procedimento')\n",
    "    a = 1 # Variáveis locais\n",
    "    x = 10 # Variáveis locais\n",
    "    print(x)\n",
    "\n",
    "myProcedure()\n",
    "print(x)\n"
   ]
  },
  {
   "cell_type": "code",
   "execution_count": 4,
   "metadata": {},
   "outputs": [
    {
     "name": "stdout",
     "output_type": "stream",
     "text": [
      "5\n",
      "Sou um procedimento\n",
      "10\n",
      "20\n",
      "1\n"
     ]
    }
   ],
   "source": [
    "x = 5 # Variáveis globais\n",
    "y = 6 # Variáveis globais\n",
    "\n",
    "print(x)\n",
    "\n",
    "def reset():\n",
    "    global x,y\n",
    "    x = 5 # Variáveis globais\n",
    "    y = 6 # Variáveis globais\n",
    "\n",
    "def myProcedure():\n",
    "    global x # Declaração global, para ligar x da função com x do programa principal\n",
    "    global a # Nova variável global\n",
    "    y = 0\n",
    "    print('Sou um procedimento')\n",
    "    a = 1 \n",
    "    x = 10\n",
    "    print(x)\n",
    "    def myProc1():\n",
    "        y = 3\n",
    "        global x\n",
    "        x = 20\n",
    "    myProc1()\n",
    "\n",
    "myProcedure()\n",
    "\n",
    "print(x)\n",
    "\n",
    "print(a)"
   ]
  },
  {
   "cell_type": "markdown",
   "metadata": {},
   "source": [
    "## 1.2. Com argumentos ou parâmetros de entrada\n",
    "### 1.2.1. Posicional, sem retorno de valores"
   ]
  },
  {
   "cell_type": "code",
   "execution_count": 8,
   "metadata": {},
   "outputs": [
    {
     "name": "stdout",
     "output_type": "stream",
     "text": [
      "O nome da pessoa é João Araújo\n"
     ]
    }
   ],
   "source": [
    "def myFunction(primeiro_nome, ultimo_nome): # Argumentos posicionais\n",
    "    a = primeiro_nome\n",
    "    b = ultimo_nome\n",
    "\n",
    "    print(f'O nome da pessoa é {a} {b}')\n",
    "\n",
    "pnome, unome = input('Introduza o primeiro nome'), input('Introduza o ultimo nome')\n",
    "\n",
    "myFunction(pnome,unome) # Argumentos posicionais obrigatórios na chamada da função"
   ]
  },
  {
   "cell_type": "code",
   "execution_count": 11,
   "metadata": {},
   "outputs": [
    {
     "name": "stdout",
     "output_type": "stream",
     "text": [
      "O nome da pessoa é João Araújo\n"
     ]
    }
   ],
   "source": [
    "def myFunction(primeiro_nome, ultimo_nome): # Argumentos posicionais\n",
    "    a = primeiro_nome\n",
    "    b = ultimo_nome\n",
    "\n",
    "    print(f'O nome da pessoa é {a} {b}')\n",
    "\n",
    "myFunction(input('Introduza o primeiro nome'),input('Introduza o ultimo nome')) # Argumentos posicionais obrigatórios na chamada da função"
   ]
  },
  {
   "cell_type": "markdown",
   "metadata": {},
   "source": [
    "### 1.2.2. Posicional, com retorno de valores"
   ]
  },
  {
   "cell_type": "code",
   "execution_count": 16,
   "metadata": {},
   "outputs": [
    {
     "name": "stdout",
     "output_type": "stream",
     "text": [
      "Numero maior que 3\n"
     ]
    }
   ],
   "source": [
    "userIn = input('Introduza um numero:')\n",
    "\n",
    "def dataFunction(numero):\n",
    "    try:\n",
    "        num_conv = float(numero)\n",
    "    except:\n",
    "        resultado = 'Valor Inválido'\n",
    "    else:\n",
    "        if num_conv > 3:\n",
    "            resultado = 'Numero maior que 3'\n",
    "        elif num_conv < 3:\n",
    "            resultado = 'Numero menor que 3'\n",
    "        else:\n",
    "            resultado = 'Numero igual a 3'\n",
    "    \n",
    "    return resultado\n",
    "\n",
    "res = dataFunction(userIn)\n",
    "print(res)"
   ]
  },
  {
   "cell_type": "code",
   "execution_count": 2,
   "metadata": {},
   "outputs": [
    {
     "name": "stdout",
     "output_type": "stream",
     "text": [
      "Valor do perímetro:Valor do raio inválido\n"
     ]
    }
   ],
   "source": [
    "import teste_import_funcao\n",
    "\n",
    "perimetro = teste_import_funcao.calcPerimCir(input('Introduza o raio da circunferência'))\n",
    "\n",
    "print(f'Valor do perímetro:{perimetro}')"
   ]
  },
  {
   "cell_type": "markdown",
   "metadata": {},
   "source": [
    "### 1.2.3. Retorno de valores com mais que um elemento"
   ]
  },
  {
   "cell_type": "code",
   "execution_count": 3,
   "metadata": {},
   "outputs": [
    {
     "name": "stdout",
     "output_type": "stream",
     "text": [
      "('Numero maior que 3', 25.0)\n"
     ]
    }
   ],
   "source": [
    "userIn = input('Introduza um numero:')\n",
    "\n",
    "def dataFunction(numero):\n",
    "    try:\n",
    "        num_conv = float(numero)\n",
    "    except:\n",
    "        resultado = 'Valor Inválido'\n",
    "    else:\n",
    "        if num_conv > 3:\n",
    "            resultado = 'Numero maior que 3'\n",
    "        elif num_conv < 3:\n",
    "            resultado = 'Numero menor que 3'\n",
    "        else:\n",
    "            resultado = 'Numero igual a 3'\n",
    "    \n",
    "    return resultado, num_conv\n",
    "\n",
    "res = dataFunction(userIn) # Retorno de função com mais que um valor em forma de tuple\n",
    "print(res)"
   ]
  },
  {
   "cell_type": "markdown",
   "metadata": {},
   "source": [
    "### 1.2.4. Argumentos posicionais não obrigatórios"
   ]
  },
  {
   "cell_type": "code",
   "execution_count": 5,
   "metadata": {},
   "outputs": [
    {
     "name": "stdout",
     "output_type": "stream",
     "text": [
      "('Numero maior que 3', 21.0, '36')\n"
     ]
    }
   ],
   "source": [
    "userIn1 = input('Introduza o primeiro numero:')\n",
    "userIn2 = input('Introduza o segundo numero:')\n",
    "\n",
    "def dataFunction(numero1, numero2 = 0): # Ordem dos argumentos interessa: 1º Obrigatório, depois opcionais\n",
    "    try:\n",
    "        num_conv = float(numero1)\n",
    "    except:\n",
    "        resultado = 'Valor Inválido'\n",
    "    else:\n",
    "        if num_conv > 3:\n",
    "            resultado = 'Numero maior que 3'\n",
    "        elif num_conv < 3:\n",
    "            resultado = 'Numero menor que 3'\n",
    "        else:\n",
    "            resultado = 'Numero igual a 3'\n",
    "    \n",
    "    return resultado, num_conv, numero2\n",
    "\n",
    "res = dataFunction(userIn1, userIn2) # Retorno de função com mais que um valor em forma de tuple\n",
    "print(res)"
   ]
  },
  {
   "cell_type": "markdown",
   "metadata": {},
   "source": [
    "## 1.3. Argumentos arbitrários"
   ]
  },
  {
   "cell_type": "code",
   "execution_count": 7,
   "metadata": {},
   "outputs": [
    {
     "name": "stdout",
     "output_type": "stream",
     "text": [
      "4\n",
      "('Lopes', 'João', 'Olá', 12315646513)\n",
      "Argumento 0: Lopes\n",
      "Argumento 1: João\n",
      "Argumento 2: Olá\n",
      "Argumento 3: 12315646513\n"
     ]
    }
   ],
   "source": [
    "def myFuncArbArgs(*args):\n",
    "    print(len(args))\n",
    "    print(args)\n",
    "\n",
    "    for i in range(len(args)):\n",
    "        print(f'Argumento {i}: {args[i]}')\n",
    "\n",
    "listInputs = []\n",
    "\n",
    "for i in range(4): # 0,1,2,3\n",
    "    listInputs.append(input(f'Introduza o {i+1}º elemento da lista'))\n",
    "\n",
    "myFuncArbArgs(listInputs[2],listInputs[0], 'Olá',12315646513)"
   ]
  },
  {
   "cell_type": "markdown",
   "metadata": {},
   "source": [
    "## 1.4. Argumentos por palavra-chave"
   ]
  },
  {
   "cell_type": "code",
   "execution_count": 11,
   "metadata": {},
   "outputs": [
    {
     "name": "stdout",
     "output_type": "stream",
     "text": [
      "O segundo argumento da função é João\n",
      "O primeiro argumento da função é Araújo\n",
      "João Araújo\n"
     ]
    }
   ],
   "source": [
    "def myFuncKeyWord(ultimo_nome, primeiro_nome):\n",
    "    print(f'O segundo argumento da função é {primeiro_nome}')\n",
    "    print(f'O primeiro argumento da função é {ultimo_nome}')\n",
    "\n",
    "    return primeiro_nome + ' ' + ultimo_nome\n",
    "\n",
    "in1, in2 = input('Introduza o primeiro nome'), input('Introduza o ultimo nome')\n",
    "\n",
    "nome = myFuncKeyWord(primeiro_nome = in1, ultimo_nome = in2)\n",
    "\n",
    "print(nome)"
   ]
  },
  {
   "cell_type": "code",
   "execution_count": 12,
   "metadata": {},
   "outputs": [
    {
     "name": "stdout",
     "output_type": "stream",
     "text": [
      "1,2,3,4,51,2,3,4,5"
     ]
    }
   ],
   "source": [
    "print(1,2,3,4,5,sep=',',end='')\n",
    "print(1,2,3,4,5,sep=',',end='')"
   ]
  },
  {
   "cell_type": "markdown",
   "metadata": {},
   "source": [
    "## 1.5. Argumentos arbitrários por palavra-chave"
   ]
  },
  {
   "cell_type": "code",
   "execution_count": 21,
   "metadata": {},
   "outputs": [
    {
     "name": "stdout",
     "output_type": "stream",
     "text": [
      "{'primeiro_nome': 'Joao', 'ultimo_nome': 'Araújo'}\n",
      "Foram introduzidos 2 nomes e tendo o primeiro 4 caracteres e o ultimo 6\n",
      "O 1º nome tem 4 caracteres\n",
      "O 1º nome tem 6 caracteres\n"
     ]
    }
   ],
   "source": [
    "def myFuncArbKeyWord(**kwargs):\n",
    "    print(kwargs)\n",
    "\n",
    "    listLenValores = []\n",
    "    listkeys = []\n",
    "\n",
    "    for i in kwargs.values():\n",
    "        listLenValores.append(len(i))\n",
    "    \n",
    "    for j in range(len(kwargs.keys())):\n",
    "        listkeys.append(j)\n",
    "\n",
    "    return listLenValores, listkeys # Retorno de tuple com numero de elementos de cada nome equantos nomes introduzidos\n",
    "\n",
    "in1, in2 = input('Introduza o primeiro nome'), input('Introduza o ultimo nome')\n",
    "\n",
    "nome = myFuncArbKeyWord(primeiro_nome = in1, ultimo_nome = in2)\n",
    "\n",
    "print(f'Foram introduzidos {len(nome[1])} nomes e tendo o primeiro {nome[0][0]} caracteres e o ultimo {nome[0][1]}')\n",
    "\n",
    "for i in nome[1]:\n",
    "    print(f'O {i+1}º nome tem {nome[0][i]} caracteres')"
   ]
  },
  {
   "cell_type": "markdown",
   "metadata": {},
   "source": [
    "## Multiplos tipos de argumentos"
   ]
  },
  {
   "cell_type": "code",
   "execution_count": 27,
   "metadata": {},
   "outputs": [
    {
     "name": "stdout",
     "output_type": "stream",
     "text": [
      "Secção de finanças: Porto\n",
      "Tipo de documento: Declaração de não-divida\n",
      "Dados Pessoais: ('Solteiro', 'Empregado', '10 anos de experiência')\n",
      "Primeiro Nome: João\n",
      "Ultimo Nome: Araújo\n",
      "Morada: Rua de Cima\n",
      "Codigo Postal: 4000\n"
     ]
    }
   ],
   "source": [
    "def myFuncMulArgs(arg1, arg2, *args, **kwargs):\n",
    "    print(f'Secção de finanças: {arg1}\\n'+ \n",
    "          f'Tipo de documento: {arg2}\\n' + \n",
    "          f'Dados Pessoais: {args}\\n' + \n",
    "          f'Primeiro Nome: {kwargs[\"pnome\"]}\\n' +\n",
    "          f'Ultimo Nome: {kwargs[\"unome\"]}\\n' +\n",
    "          f'Morada: {kwargs[\"morada\"]}\\n' + \n",
    "          f'Codigo Postal: {kwargs[\"postal\"]}')\n",
    "    \n",
    "myFuncMulArgs('Porto','Declaração de não-divida','Solteiro','Empregado','10 anos de experiência',pnome='João',unome = 'Araújo', morada='Rua de Cima', postal = '4000')"
   ]
  },
  {
   "cell_type": "markdown",
   "metadata": {},
   "source": [
    "# 2. Funções Anónimas\n",
    "## 2.1. Função *lambda*"
   ]
  },
  {
   "cell_type": "code",
   "execution_count": 29,
   "metadata": {},
   "outputs": [
    {
     "name": "stdout",
     "output_type": "stream",
     "text": [
      "25\n"
     ]
    }
   ],
   "source": [
    "x = lambda a,b,c: a ** 2 + b * c\n",
    "\n",
    "resultado = x(3,8,2)\n",
    "\n",
    "print(resultado)"
   ]
  },
  {
   "cell_type": "code",
   "execution_count": 31,
   "metadata": {},
   "outputs": [
    {
     "name": "stdout",
     "output_type": "stream",
     "text": [
      "Valor menor ou igual a 3\n"
     ]
    }
   ],
   "source": [
    "z = lambda a: 'Valor maior que 3' if a > 3 else 'Valor menor ou igual a 3'\n",
    "\n",
    "print(z(float(input('Introduza um numero'))))\n"
   ]
  },
  {
   "cell_type": "markdown",
   "metadata": {},
   "source": [
    "## 2.2. Lambda integrado dentro de funções"
   ]
  },
  {
   "cell_type": "code",
   "execution_count": 35,
   "metadata": {},
   "outputs": [
    {
     "name": "stdout",
     "output_type": "stream",
     "text": [
      "10000\n"
     ]
    },
    {
     "data": {
      "text/plain": [
       "1853020188851841"
      ]
     },
     "execution_count": 35,
     "metadata": {},
     "output_type": "execute_result"
    }
   ],
   "source": [
    "def myFunc(n):\n",
    "    \n",
    "    return lambda a: a ** n\n",
    "\n",
    "squares = myFunc(2) # squares = lambda a: a ** 2\n",
    "\n",
    "resultado = squares(100)\n",
    "\n",
    "print(resultado)\n",
    "\n",
    "exp32 = myFunc(32) # exp32 = lambda a: a ** 32\n",
    "\n",
    "exp32(3)"
   ]
  },
  {
   "cell_type": "code",
   "execution_count": 37,
   "metadata": {},
   "outputs": [
    {
     "data": {
      "text/plain": [
       "1.0355341723646976e+16"
      ]
     },
     "execution_count": 37,
     "metadata": {},
     "output_type": "execute_result"
    }
   ],
   "source": [
    "def myFunc2(n,k,l):\n",
    "    var1 = k ** 2\n",
    "    var2 = l - 10\n",
    "    return lambda a: (a * var1 + var2) ** n\n",
    "\n",
    "equation = myFunc2(int(input('Introduza o expoente da equação')),4,6) # \n",
    "\n",
    "equation(float(input('Introduza o valor para saber o resultado da equação')))\n",
    "\n",
    "# Exemplo de funções de recursão"
   ]
  },
  {
   "cell_type": "code",
   "execution_count": 7,
   "metadata": {},
   "outputs": [
    {
     "name": "stdout",
     "output_type": "stream",
     "text": [
      "1\n",
      "2\n",
      "3\n"
     ]
    }
   ],
   "source": [
    "count = 1\n",
    "while count <= 3:\n",
    "    print (count)\n",
    "    count += 1"
   ]
  },
  {
   "cell_type": "code",
   "execution_count": 10,
   "metadata": {},
   "outputs": [
    {
     "name": "stdout",
     "output_type": "stream",
     "text": [
      "Esta é uma funcçao\n"
     ]
    }
   ],
   "source": [
    "def imprime():\n",
    "    print(\"Esta é uma funcçao\")\n",
    "imprime()"
   ]
  }
 ],
 "metadata": {
  "kernelspec": {
   "display_name": "UFCD_10793_04_AG",
   "language": "python",
   "name": "python3"
  },
  "language_info": {
   "codemirror_mode": {
    "name": "ipython",
    "version": 3
   },
   "file_extension": ".py",
   "mimetype": "text/x-python",
   "name": "python",
   "nbconvert_exporter": "python",
   "pygments_lexer": "ipython3",
   "version": "3.12.0"
  }
 },
 "nbformat": 4,
 "nbformat_minor": 2
}
