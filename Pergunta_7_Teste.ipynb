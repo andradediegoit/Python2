{
 "cells": [
  {
   "cell_type": "code",
   "execution_count": null,
   "metadata": {},
   "outputs": [],
   "source": [
    "npar = 0\n",
    "nimpar = 0\n",
    "\n",
    "for a in range(10):\n",
    "    \n",
    "    while True:\n",
    "        try:\n",
    "            intNum = int(input( 'Insira um número de 0 a 9:'))\n",
    "            if 0 <= intNum <= 9:\n",
    "                break\n",
    "\n",
    "            else:\n",
    "                print('Tente Novamente. Número deve estar entre 0 e 9 .')\n",
    "\n",
    "        except ValueError:\n",
    "            print('Inválido. Insira um número inteiro.')\n",
    "\n",
    "    if intNum % 2 == 0:\n",
    "        npar += 1 \n",
    "\n",
    "    else:\n",
    "        nimpar +=1\n",
    " \n",
    "print(f'Números pares inseridos: {npar}')\n",
    "print(f'Números ímapres inseridos: {nimpar}')"
   ]
  }
 ],
 "metadata": {
  "kernelspec": {
   "display_name": "UFCD_10793_04_AG",
   "language": "python",
   "name": "python3"
  },
  "language_info": {
   "name": "python",
   "version": "undefined.undefined.undefined"
  }
 },
 "nbformat": 4,
 "nbformat_minor": 2
}
