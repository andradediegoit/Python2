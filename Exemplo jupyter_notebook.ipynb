{
 "cells": [
  {
   "cell_type": "markdown",
   "id": "047ba9a6",
   "metadata": {},
   "source": [
    "# Cabeçalho grande\n",
    "\n",
    "## Cabeçalho intermédio\n",
    "\n",
    "### Cabeçalho Pequeno\n",
    "\n",
    "#### Cabeçalho ainda mais pequeno\n",
    "\n",
    "**Negrito**\n",
    "\n",
    "*Itálico*\n",
    "\n",
    "~~Texto errado~~\n",
    "\n",
    "**Negrito e _itálico_ selecionado**\n",
    "\n",
    "\n",
    "***Negrito e itálico***\n",
    "\n",
    "\n",
    "\n"
   ]
  },
  {
   "cell_type": "code",
   "execution_count": 5,
   "id": "b97de423",
   "metadata": {},
   "outputs": [
    {
     "name": "stdout",
     "output_type": "stream",
     "text": [
      "hellllllo\n"
     ]
    }
   ],
   "source": [
    "print('hellllllo')\n",
    "\n",
    "a = 20\n",
    "b = 'Hello'\n"
   ]
  },
  {
   "cell_type": "code",
   "execution_count": 3,
   "id": "6f5ce677",
   "metadata": {},
   "outputs": [
    {
     "name": "stdout",
     "output_type": "stream",
     "text": [
      "Olá Mundo\n"
     ]
    }
   ],
   "source": [
    "print('Olá Mundo')"
   ]
  }
 ],
 "metadata": {
  "kernelspec": {
   "display_name": "Python 3 (ipykernel)",
   "language": "python",
   "name": "python3"
  },
  "language_info": {
   "codemirror_mode": {
    "name": "ipython",
    "version": 3
   },
   "file_extension": ".py",
   "mimetype": "text/x-python",
   "name": "python",
   "nbconvert_exporter": "python",
   "pygments_lexer": "ipython3",
   "version": "3.9.7"
  }
 },
 "nbformat": 4,
 "nbformat_minor": 5
}
