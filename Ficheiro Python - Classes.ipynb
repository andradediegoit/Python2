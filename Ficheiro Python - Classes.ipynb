{
 "cells": [
  {
   "cell_type": "markdown",
   "metadata": {},
   "source": [
    "# 1. Classes e Objetos\n",
    "## 1.1. Criar classes"
   ]
  },
  {
   "cell_type": "code",
   "execution_count": 1,
   "metadata": {},
   "outputs": [],
   "source": [
    "class Bebida: # Criação da classe Bebida\n",
    "    pass\n",
    "\n",
    "cha = Bebida() # Criar objeto cha\n",
    "cafe = Bebida() # Criar objeto cha\n",
    "sumo = Bebida() # Criar objeto cha"
   ]
  },
  {
   "cell_type": "markdown",
   "metadata": {},
   "source": [
    "## 1.2. Acrescentar atributos"
   ]
  },
  {
   "cell_type": "code",
   "execution_count": 2,
   "metadata": {},
   "outputs": [],
   "source": [
    "class Bebida: # Criação da classe Bebida\n",
    "    preco = 0\n",
    "\n",
    "cha = Bebida() # Criar objeto cha\n",
    "cafe = Bebida() # Criar objeto cha\n",
    "sumo = Bebida() # Criar objeto cha"
   ]
  },
  {
   "cell_type": "code",
   "execution_count": 4,
   "metadata": {},
   "outputs": [],
   "source": [
    "cha.preco = 1.00\n",
    "cafe.preco = 0.70\n",
    "sumo.preco = 1.10"
   ]
  },
  {
   "cell_type": "code",
   "execution_count": 6,
   "metadata": {},
   "outputs": [
    {
     "name": "stdout",
     "output_type": "stream",
     "text": [
      "Preço do chá:1.0\n",
      "Preço do café:0.7\n",
      "Preço do sumo:1.1\n"
     ]
    }
   ],
   "source": [
    "print(f'Preço do chá:{cha.preco}\\nPreço do café:{cafe.preco}\\nPreço do sumo:{sumo.preco}')"
   ]
  },
  {
   "cell_type": "markdown",
   "metadata": {},
   "source": [
    "## 1.3. Classes e objetos - Construtor"
   ]
  },
  {
   "cell_type": "code",
   "execution_count": 1,
   "metadata": {},
   "outputs": [],
   "source": [
    "class Bebida:\n",
    "    def __init__(self, preco, cor):\n",
    "        self.precoInit = preco\n",
    "        self.corInit = cor\n",
    "\n",
    "try:\n",
    "    a = float(input('Introduza o preço de uma cola'))\n",
    "    b = float(input('Introduza o preço de um batido'))\n",
    "except:\n",
    "    print('Valores introduzidos errados')\n",
    "else:\n",
    "    cola = Bebida(a,'Negro')\n",
    "    batido = Bebida(b,'Branco')\n"
   ]
  },
  {
   "cell_type": "code",
   "execution_count": 2,
   "metadata": {},
   "outputs": [
    {
     "name": "stdout",
     "output_type": "stream",
     "text": [
      "Preço da cola: 2.0€\n",
      "Cor da cola: Negro\n",
      "Preço do batido: 3.0€\n",
      "Cor do batido: Branco\n"
     ]
    }
   ],
   "source": [
    "print(f'Preço da cola: {cola.precoInit}€\\nCor da cola: {cola.corInit}')\n",
    "print(f'Preço do batido: {batido.precoInit}€\\nCor do batido: {batido.corInit}')"
   ]
  },
  {
   "cell_type": "markdown",
   "metadata": {},
   "source": [
    "## 1.4. Acrescentar métodos na classe"
   ]
  },
  {
   "cell_type": "code",
   "execution_count": 10,
   "metadata": {},
   "outputs": [],
   "source": [
    "class Bebida:\n",
    "    def __init__(self, preco, cor, stock):\n",
    "        self.precoInit = preco\n",
    "        self.corInit = cor\n",
    "        self.stockInit = stock\n",
    "    \n",
    "    def definirStock(self,novoStock):\n",
    "        \n",
    "        self.stockInit = novoStock\n",
    "        return self.stockInit\n",
    "    \n",
    "    def atualizarStock(self, opcao, valor):\n",
    "        output = ''\n",
    "        if opcao.upper() == 'S':\n",
    "            if self.stockInit < valor:\n",
    "                output = f'Não existe quantidade sufuciente em stock. Existem {self.stockInit} unidades'\n",
    "            else:\n",
    "                self.stockInit = self.stockInit - valor\n",
    "                output = f'Valor de stock atualizado para {self.stockInit}'\n",
    "        elif opcao.upper() == 'E':\n",
    "            self.stockInit = self.stockInit + valor\n",
    "            output = f'Valor de stock atualizado para {self.stockInit}'\n",
    "        else:\n",
    "            output = 'Opção inválida'\n",
    "\n",
    "        return output\n"
   ]
  },
  {
   "cell_type": "code",
   "execution_count": 14,
   "metadata": {},
   "outputs": [],
   "source": [
    "\n",
    "try:\n",
    "    a = float(input('Introduza o preço de uma cola'))\n",
    "    b = float(input('Introduza o preço de um batido'))\n",
    "    c = int(input('Introduza o stock da cola'))\n",
    "    d = int(input('Introduza o stock do batido'))\n",
    "\n",
    "except:\n",
    "    print('Valores introduzidos errados')\n",
    "else:\n",
    "    cola = Bebida(a,'Negro',c)\n",
    "    batido = Bebida(b,'Branco',d)"
   ]
  },
  {
   "cell_type": "code",
   "execution_count": 4,
   "metadata": {},
   "outputs": [
    {
     "name": "stdout",
     "output_type": "stream",
     "text": [
      "Preço da cola: 2.0€\n",
      "Cor da cola: Negro\n",
      "Stock da cola: 50\n",
      "Preço do batido: 3.0€\n",
      "Cor do batido: Branco\n",
      "Stock do batido: 100\n"
     ]
    }
   ],
   "source": [
    "print(f'Preço da cola: {cola.precoInit}€\\nCor da cola: {cola.corInit}\\nStock da cola: {cola.stockInit}')\n",
    "print(f'Preço do batido: {batido.precoInit}€\\nCor do batido: {batido.corInit}\\nStock do batido: {batido.stockInit}')"
   ]
  },
  {
   "cell_type": "code",
   "execution_count": 6,
   "metadata": {},
   "outputs": [
    {
     "name": "stdout",
     "output_type": "stream",
     "text": [
      "Preço da cola: 2.0€\n",
      "Cor da cola: Negro\n",
      "Stock da cola: 150\n",
      "Preço do batido: 3.0€\n",
      "Cor do batido: Branco\n",
      "Stock do batido: 250\n"
     ]
    }
   ],
   "source": [
    "try:\n",
    "    novoStockCola = cola.definirStock(int(input('Introduza o novo stock da cola')))\n",
    "    novoStockBatido = batido.definirStock(int(input('Introduza o novo stock da batido')))\n",
    "except:\n",
    "    print('Valores errados')\n",
    "\n",
    "else:\n",
    "    print(f'Preço da cola: {cola.precoInit}€\\nCor da cola: {cola.corInit}\\nStock da cola: {cola.stockInit}')\n",
    "    print(f'Preço do batido: {batido.precoInit}€\\nCor do batido: {batido.corInit}\\nStock do batido: {batido.stockInit}')"
   ]
  },
  {
   "cell_type": "code",
   "execution_count": 20,
   "metadata": {},
   "outputs": [
    {
     "name": "stdout",
     "output_type": "stream",
     "text": [
      "Valor de stock atualizado para 150\n"
     ]
    }
   ],
   "source": [
    "try:\n",
    "    atualizarStockCola = cola.atualizarStock(input('Introduza E para dar entrada\\nS para dar saída'),int(input('Introduza o valor que pretende')))\n",
    "except Exception as e:\n",
    "    print(str(e))\n",
    "    print('Valores inválidos')\n",
    "else:\n",
    "    print(atualizarStockCola)\n",
    "                                             \n"
   ]
  },
  {
   "cell_type": "markdown",
   "metadata": {},
   "source": [
    "## 1.5. Classes e objetos: Associação por Herança"
   ]
  },
  {
   "cell_type": "code",
   "execution_count": 1,
   "metadata": {},
   "outputs": [],
   "source": [
    "# Classe Pai ou Superclasse\n",
    "\n",
    "class Pessoa:\n",
    "    def __init__(self, nome, numero, nif):\n",
    "        self.nomeInit = nome\n",
    "        self.numeroInit = numero\n",
    "        self.nifInit = nif\n",
    "\n",
    "    def obterDadosPessoa(self):\n",
    "        return self.nomeInit, self.numeroInit, self.nifInit\n",
    "\n",
    "# Subclasse Aluno / Classe Filho Aluno\n",
    "    \n",
    "class Aluno(Pessoa):\n",
    "    def __init__(self, nome, numero, nif, notaFinal, faltas):\n",
    "        super().__init__(nome, numero, nif)\n",
    "        self.notaFinalInit = notaFinal\n",
    "        self.faltasInit = faltas\n",
    "\n",
    "    def obterDadosAluno(self):\n",
    "        return self.notaFinalInit, self.faltasInit\n",
    "    \n",
    "# Subclasse Funcionario / Classe Filho Funcionário\n",
    "    \n",
    "class Funcionario(Pessoa):\n",
    "    def __init__(self, nome, numero, nif, salario):\n",
    "        super().__init__(nome, numero, nif)\n",
    "        self.salarioInit = salario\n",
    "\n",
    "    def obterSalario(self):\n",
    "        return self.salarioInit\n",
    "    "
   ]
  },
  {
   "cell_type": "markdown",
   "metadata": {},
   "source": [
    "## Criar inputs para criação de objeto aluno"
   ]
  },
  {
   "cell_type": "code",
   "execution_count": 2,
   "metadata": {},
   "outputs": [],
   "source": [
    "aluno = Aluno('João',123,164634,17,1)"
   ]
  },
  {
   "cell_type": "code",
   "execution_count": 3,
   "metadata": {},
   "outputs": [
    {
     "data": {
      "text/plain": [
       "('João', 123, 164634)"
      ]
     },
     "execution_count": 3,
     "metadata": {},
     "output_type": "execute_result"
    }
   ],
   "source": [
    "aluno.obterDadosPessoa()"
   ]
  },
  {
   "cell_type": "code",
   "execution_count": 4,
   "metadata": {},
   "outputs": [
    {
     "data": {
      "text/plain": [
       "(17, 1)"
      ]
     },
     "execution_count": 4,
     "metadata": {},
     "output_type": "execute_result"
    }
   ],
   "source": [
    "aluno.obterDadosAluno()"
   ]
  },
  {
   "cell_type": "code",
   "execution_count": 25,
   "metadata": {},
   "outputs": [],
   "source": [
    "alunos = []\n",
    "for i in range(int(input('Introduza o numero de alunos que pretende inserir'))):\n",
    "    alunos.append(Aluno(input('Introduza o nome do aluno'),int(input('introduza o numero do aluno')),\n",
    "                int(input('Introduza o NIF do aluno')),int(input('Introduza o nota final do aluno')), int(input('Introduza o faltas do aluno'))))"
   ]
  },
  {
   "cell_type": "code",
   "execution_count": 28,
   "metadata": {},
   "outputs": [
    {
     "data": {
      "text/plain": [
       "('Antonio', 158616, 5163)"
      ]
     },
     "execution_count": 28,
     "metadata": {},
     "output_type": "execute_result"
    }
   ],
   "source": [
    "alunos[2].obterDadosPessoa()"
   ]
  },
  {
   "cell_type": "code",
   "execution_count": 5,
   "metadata": {},
   "outputs": [],
   "source": [
    "funcionario = Funcionario('Diego',556156,168156156,3000)"
   ]
  },
  {
   "cell_type": "code",
   "execution_count": 6,
   "metadata": {},
   "outputs": [
    {
     "data": {
      "text/plain": [
       "('Diego', 556156, 168156156)"
      ]
     },
     "execution_count": 6,
     "metadata": {},
     "output_type": "execute_result"
    }
   ],
   "source": [
    "funcionario.obterDadosPessoa()"
   ]
  },
  {
   "cell_type": "code",
   "execution_count": 7,
   "metadata": {},
   "outputs": [
    {
     "data": {
      "text/plain": [
       "3000"
      ]
     },
     "execution_count": 7,
     "metadata": {},
     "output_type": "execute_result"
    }
   ],
   "source": [
    "funcionario.obterSalario()"
   ]
  },
  {
   "cell_type": "markdown",
   "metadata": {},
   "source": [
    "## 1.6. Associação de classes: Agregação"
   ]
  },
  {
   "cell_type": "code",
   "execution_count": 51,
   "metadata": {},
   "outputs": [],
   "source": [
    "# Classe Pai ou Superclasse\n",
    "\n",
    "class Pessoa:\n",
    "    def __init__(self, nome, numero, nif):\n",
    "        self.nomeInit = nome\n",
    "        self.numeroInit = numero\n",
    "        self.nifInit = nif\n",
    "\n",
    "    def obterDadosPessoa(self):\n",
    "        return self.nomeInit, self.numeroInit, self.nifInit\n",
    "\n",
    "# Subclasse Aluno / Classe Filho Aluno\n",
    "    \n",
    "class Aluno(Pessoa):\n",
    "    def __init__(self, nome, numero, nif, notaFinal, faltas):\n",
    "        super().__init__(nome, numero, nif)\n",
    "        self.notaFinalInit = notaFinal\n",
    "        self.faltasInit = faltas\n",
    "\n",
    "    def obterDadosAluno(self):\n",
    "        return self.notaFinalInit, self.faltasInit\n",
    "    \n",
    "# Subclasse Funcionario / Classe Filho Funcionário\n",
    "    \n",
    "class Funcionario(Pessoa):\n",
    "    def __init__(self, nome, numero, nif, salario):\n",
    "        super().__init__(nome, numero, nif)\n",
    "        self.salarioInit = salario\n",
    "\n",
    "    def obterSalario(self):\n",
    "        return self.salarioInit\n",
    "    \n",
    "    def alterarSalario(self, novoSalario):\n",
    "        self.salarioInit = novoSalario\n",
    "        print(f'Salario alterado para {self.salarioInit}')\n",
    "    \n",
    "# Associação de classes por agregação entre docente e funcionário\n",
    "    \n",
    "class Docente:\n",
    "    def __init__(self, func,especialidade): # func: objeto do tipo Funcionario\n",
    "        self.funcInit = func\n",
    "        self.especialidadeInit = especialidade\n",
    "        self.salarioInit = self.funcInit.obterSalario()\n",
    "        self.dadosPessoa = self.funcInit.obterDadosPessoa()\n",
    "    \n",
    "    def obterDadosDocente(self):\n",
    "        return self.dadosPessoa, self.salarioInit, self.especialidadeInit\n",
    "    \n",
    "    def alterarSalarioDocente(self, novoSalario):\n",
    "        self.funcInit.alterarSalario(novoSalario)\n",
    "        self.salarioInit = self.funcInit.obterSalario()\n",
    "\n",
    "class naoDocente:\n",
    "    def __init__(self, func, profissao):\n",
    "        self.profissaoInit = profissao\n",
    "        self.salarioInit = func.obterSalario()\n",
    "        self.dadosPessoa = func.obterDadosPessoa()\n",
    "    \n",
    "    def obterDadosNaoDocente(self):\n",
    "        return self.dadosPessoa, self.salarioInit, self.profissaoInit\n"
   ]
  },
  {
   "cell_type": "code",
   "execution_count": 52,
   "metadata": {},
   "outputs": [],
   "source": [
    "funcionario1 = Funcionario('Diego',123456,4981461,4000)\n",
    "\n",
    "funcionario2 = Funcionario('Susana',789456, 64156156, 5000)"
   ]
  },
  {
   "cell_type": "code",
   "execution_count": 53,
   "metadata": {},
   "outputs": [],
   "source": [
    "docente = Docente(funcionario1,'Matemática')\n",
    "\n",
    "nao_docente = naoDocente(funcionario2,'Administração')"
   ]
  },
  {
   "cell_type": "code",
   "execution_count": 54,
   "metadata": {},
   "outputs": [
    {
     "data": {
      "text/plain": [
       "(('Diego', 123456, 4981461), 4000, 'Matemática')"
      ]
     },
     "execution_count": 54,
     "metadata": {},
     "output_type": "execute_result"
    }
   ],
   "source": [
    "docente.obterDadosDocente()"
   ]
  },
  {
   "cell_type": "code",
   "execution_count": 55,
   "metadata": {},
   "outputs": [
    {
     "data": {
      "text/plain": [
       "(('Susana', 789456, 64156156), 5000, 'Administração')"
      ]
     },
     "execution_count": 55,
     "metadata": {},
     "output_type": "execute_result"
    }
   ],
   "source": [
    "nao_docente.obterDadosNaoDocente()"
   ]
  },
  {
   "cell_type": "code",
   "execution_count": 56,
   "metadata": {},
   "outputs": [
    {
     "name": "stdout",
     "output_type": "stream",
     "text": [
      "Salario alterado para 6000\n"
     ]
    }
   ],
   "source": [
    "docente.alterarSalarioDocente(6000)"
   ]
  },
  {
   "cell_type": "code",
   "execution_count": 57,
   "metadata": {},
   "outputs": [
    {
     "data": {
      "text/plain": [
       "(('Diego', 123456, 4981461), 6000, 'Matemática')"
      ]
     },
     "execution_count": 57,
     "metadata": {},
     "output_type": "execute_result"
    }
   ],
   "source": [
    "docente.obterDadosDocente()"
   ]
  },
  {
   "cell_type": "markdown",
   "metadata": {},
   "source": [
    "## 1.7. Associação por composição"
   ]
  },
  {
   "cell_type": "code",
   "execution_count": 67,
   "metadata": {},
   "outputs": [],
   "source": [
    "# Classe Pai ou Superclasse\n",
    "\n",
    "class Pessoa:\n",
    "    def __init__(self, nome, numero, nif):\n",
    "        self.nomeInit = nome\n",
    "        self.numeroInit = numero\n",
    "        self.nifInit = nif\n",
    "\n",
    "    def obterDadosPessoa(self):\n",
    "        return self.nomeInit, self.numeroInit, self.nifInit\n",
    "\n",
    "# Subclasse Aluno / Classe Filho Aluno\n",
    "    \n",
    "class Aluno(Pessoa):\n",
    "    def __init__(self, nome, numero, nif, notaFinal, faltas):\n",
    "        super().__init__(nome, numero, nif)\n",
    "        self.notaFinalInit = notaFinal\n",
    "        self.faltasInit = faltas\n",
    "\n",
    "    def obterDadosAluno(self):\n",
    "        return self.notaFinalInit, self.faltasInit\n",
    "    \n",
    "# Subclasse Funcionario / Classe Filho Funcionário\n",
    "    \n",
    "class Funcionario(Pessoa):\n",
    "    def __init__(self, nome, numero, nif, salario):\n",
    "        super().__init__(nome, numero, nif)\n",
    "        self.salarioInit = salario\n",
    "\n",
    "    def obterSalario(self):\n",
    "        return self.salarioInit\n",
    "    \n",
    "    def alterarSalario(self, novoSalario):\n",
    "        self.salarioInit = novoSalario\n",
    "        print(f'Salario alterado para {self.salarioInit}')\n",
    "    \n",
    "# Associação de classes por agregação entre docente e funcionário\n",
    "    \n",
    "class Docente:\n",
    "    def __init__(self, func,especialidade): # func: objeto do tipo Funcionario\n",
    "        self.funcInit = func\n",
    "        self.especialidadeInit = especialidade\n",
    "        self.salarioInit = self.funcInit.obterSalario()\n",
    "        self.dadosPessoa = self.funcInit.obterDadosPessoa()\n",
    "    \n",
    "    def obterDadosDocente(self):\n",
    "        return self.dadosPessoa, self.salarioInit, self.especialidadeInit\n",
    "    \n",
    "    def alterarSalarioDocente(self, novoSalario):\n",
    "        self.funcInit.alterarSalario(novoSalario)\n",
    "        self.salarioInit = self.funcInit.obterSalario()\n",
    "\n",
    "class naoDocente:\n",
    "    def __init__(self, func, profissao):\n",
    "        self.profissaoInit = profissao\n",
    "        self.salarioInit = func.obterSalario()\n",
    "        self.dadosPessoa = func.obterDadosPessoa()\n",
    "    \n",
    "    def obterDadosNaoDocente(self):\n",
    "        return self.dadosPessoa, self.salarioInit, self.profissaoInit\n",
    "\n",
    "# Associação por composição entre Turma e classes Docente e Aluno\n",
    "    \n",
    "class Turma:\n",
    "    def __init__(self, func, especialidade, numeroTurma):\n",
    "        self.numeroTurmaInit = numeroTurma\n",
    "        self.objAlunos = []\n",
    "        self.docenteTurma = Docente(func, especialidade)\n",
    "\n",
    "    def criarAluno(self, nome, numero, nif, notaFinal, faltas):\n",
    "        self.objAlunos.append(Aluno(nome, numero,nif,notaFinal,faltas))\n",
    "\n",
    "    def obterDadosAlunos(self):\n",
    "        for i in self.objAlunos:\n",
    "            print(i.obterDadosPessoa(), i.obterDadosAluno())\n",
    "    \n",
    "    def obterDadosDocente(self):\n",
    "        print(self.docenteTurma.obterDadosDocente())"
   ]
  },
  {
   "cell_type": "code",
   "execution_count": 69,
   "metadata": {},
   "outputs": [],
   "source": [
    "turma = Turma(funcionario1,'Matemática',1)"
   ]
  },
  {
   "cell_type": "code",
   "execution_count": 70,
   "metadata": {},
   "outputs": [
    {
     "name": "stdout",
     "output_type": "stream",
     "text": [
      "(('Diego', 123456, 4981461), 6000, 'Matemática')\n"
     ]
    }
   ],
   "source": [
    "turma.obterDadosDocente()"
   ]
  },
  {
   "cell_type": "code",
   "execution_count": 73,
   "metadata": {},
   "outputs": [],
   "source": [
    "turma.criarAluno(input('Introduza o nome do Aluno'),input('Introduza o numero do aluno'),\n",
    "                 input('Introduza o NIF do aluno'), input('Introduza a nota final do aluno'),input('Introduza as faltas do aluno'))"
   ]
  },
  {
   "cell_type": "code",
   "execution_count": 76,
   "metadata": {},
   "outputs": [
    {
     "ename": "NameError",
     "evalue": "name 'turma' is not defined",
     "output_type": "error",
     "traceback": [
      "\u001b[1;31m---------------------------------------------------------------------------\u001b[0m",
      "\u001b[1;31mNameError\u001b[0m                                 Traceback (most recent call last)",
      "Cell \u001b[1;32mIn[76], line 1\u001b[0m\n\u001b[1;32m----> 1\u001b[0m turma\u001b[38;5;241m.\u001b[39mobterDadosAlunos()\n",
      "\u001b[1;31mNameError\u001b[0m: name 'turma' is not defined"
     ]
    }
   ],
   "source": [
    "turma.obterDadosAlunos()"
   ]
  },
  {
   "cell_type": "markdown",
   "metadata": {},
   "source": [
    "### Eliminar variáveis ou objetos do programa"
   ]
  },
  {
   "cell_type": "code",
   "execution_count": 75,
   "metadata": {},
   "outputs": [],
   "source": [
    "del turma"
   ]
  }
 ],
 "metadata": {
  "kernelspec": {
   "display_name": "UFCD_10793_04_AG",
   "language": "python",
   "name": "python3"
  },
  "language_info": {
   "codemirror_mode": {
    "name": "ipython",
    "version": 3
   },
   "file_extension": ".py",
   "mimetype": "text/x-python",
   "name": "python",
   "nbconvert_exporter": "python",
   "pygments_lexer": "ipython3",
   "version": "3.11.7"
  }
 },
 "nbformat": 4,
 "nbformat_minor": 2
}
