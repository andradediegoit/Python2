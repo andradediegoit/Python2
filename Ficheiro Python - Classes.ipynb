{
 "cells": [
  {
   "cell_type": "markdown",
   "metadata": {},
   "source": [
    "# 1. Classes e Objetos\n",
    "## 1.1. Criar classes"
   ]
  },
  {
   "cell_type": "code",
   "execution_count": 1,
   "metadata": {},
   "outputs": [],
   "source": [
    "class Bebida: # Criação da classe Bebida\n",
    "    pass\n",
    "\n",
    "cha = Bebida() # Criar objeto cha\n",
    "cafe = Bebida() # Criar objeto cha\n",
    "sumo = Bebida() # Criar objeto cha"
   ]
  },
  {
   "cell_type": "markdown",
   "metadata": {},
   "source": [
    "## 1.2. Acrescentar atributos"
   ]
  },
  {
   "cell_type": "code",
   "execution_count": 2,
   "metadata": {},
   "outputs": [],
   "source": [
    "class Bebida: # Criação da classe Bebida\n",
    "    preco = 0\n",
    "\n",
    "cha = Bebida() # Criar objeto cha\n",
    "cafe = Bebida() # Criar objeto cha\n",
    "sumo = Bebida() # Criar objeto cha"
   ]
  },
  {
   "cell_type": "code",
   "execution_count": 4,
   "metadata": {},
   "outputs": [],
   "source": [
    "cha.preco = 1.00\n",
    "cafe.preco = 0.70\n",
    "sumo.preco = 1.10"
   ]
  },
  {
   "cell_type": "code",
   "execution_count": 6,
   "metadata": {},
   "outputs": [
    {
     "name": "stdout",
     "output_type": "stream",
     "text": [
      "Preço do chá:1.0\n",
      "Preço do café:0.7\n",
      "Preço do sumo:1.1\n"
     ]
    }
   ],
   "source": [
    "print(f'Preço do chá:{cha.preco}\\nPreço do café:{cafe.preco}\\nPreço do sumo:{sumo.preco}')"
   ]
  }
 ],
 "metadata": {
  "kernelspec": {
   "display_name": "UFCD_10793_04_AG",
   "language": "python",
   "name": "python3"
  },
  "language_info": {
   "codemirror_mode": {
    "name": "ipython",
    "version": 3
   },
   "file_extension": ".py",
   "mimetype": "text/x-python",
   "name": "python",
   "nbconvert_exporter": "python",
   "pygments_lexer": "ipython3",
   "version": "3.11.7"
  }
 },
 "nbformat": 4,
 "nbformat_minor": 2
}
