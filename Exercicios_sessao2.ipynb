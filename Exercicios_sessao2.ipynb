{
 "cells": [
  {
   "cell_type": "markdown",
   "metadata": {},
   "source": [
    "#### 1. Crie um programa que através de um input do utilizador, destinga se foi introduzido um numero, um caracter ou conjunto de caracteres:"
   ]
  },
  {
   "cell_type": "code",
   "execution_count": 11,
   "metadata": {},
   "outputs": [
    {
     "name": "stdout",
     "output_type": "stream",
     "text": [
      "It was introduced: Characters Set\n"
     ]
    }
   ],
   "source": [
    "def ver_input_type(Input_user):\n",
    "    if Input_user.isdigit():\n",
    "        return 'Number'\n",
    "    elif len(Input_user) == 1:\n",
    "        return 'Character'\n",
    "    else:\n",
    "        return 'Characters Set'\n",
    "    \n",
    "input_user = input('insert something:')\n",
    "\n",
    "input_Type = ver_input_type(input_user)\n",
    "\n",
    "print('It was introduced:', input_Type)"
   ]
  },
  {
   "cell_type": "code",
   "execution_count": 14,
   "metadata": {},
   "outputs": [
    {
     "name": "stdout",
     "output_type": "stream",
     "text": [
      "Instruções de Utilização:\n",
      "Digite 's' para soma.\n",
      "Digite 'sub' para subtração.\n",
      "Digite 'm' para multiplicação.\n",
      "Digite 'd' para divisão.\n",
      "Resultado da soma: 10.0\n"
     ]
    }
   ],
   "source": [
    "def soma(a, b):\n",
    "    return a + b\n",
    "\n",
    "def subtracao(a, b):\n",
    "    return a - b\n",
    "\n",
    "def multiplicacao(a, b):\n",
    "    return a * b\n",
    "\n",
    "def divisao(a, b):\n",
    "    if b != 0:\n",
    "        return a / b\n",
    "    else:\n",
    "        return \"Não é possível dividir por zero.\"\n",
    "\n",
    "print(\"Instruções de Utilização:\")\n",
    "print(\"Digite 's' para soma.\")\n",
    "print(\"Digite 'sub' para subtração.\")\n",
    "print(\"Digite 'm' para multiplicação.\")\n",
    "print(\"Digite 'd' para divisão.\")\n",
    "\n",
    "operacao = input(\"Escolha a operação desejada: \")\n",
    "\n",
    "if operacao == 's':\n",
    "    num1 = float(input(\"Digite o primeiro número: \"))\n",
    "    num2 = float(input(\"Digite o segundo número: \"))\n",
    "    print(\"Resultado da soma:\", soma(num1, num2))\n",
    "elif operacao == 'sub':\n",
    "    num1 = float(input(\"Digite o primeiro número: \"))\n",
    "    num2 = float(input(\"Digite o segundo número: \"))\n",
    "    print(\"Resultado da subtração:\", subtracao(num1, num2))\n",
    "elif operacao == 'm':\n",
    "    num1 = float(input(\"Digite o primeiro número: \"))\n",
    "    num2 = float(input(\"Digite o segundo número: \"))\n",
    "    print(\"Resultado da multiplicação:\", multiplicacao(num1, num2))\n",
    "elif operacao == 'd':\n",
    "    num1 = float(input(\"Digite o primeiro número: \"))\n",
    "    num2 = float(input(\"Digite o segundo número (diferente de zero): \"))\n",
    "    print(\"Resultado da divisão:\", divisao(num1, num2))\n",
    "else:\n",
    "    print(\"Operação inválida.\")"
   ]
  },
  {
   "cell_type": "code",
   "execution_count": 12,
   "metadata": {},
   "outputs": [
    {
     "name": "stdout",
     "output_type": "stream",
     "text": [
      "O nome não está na lista.\n"
     ]
    }
   ],
   "source": [
    "# Lista de nomes\n",
    "nomes = ['João', 'Maria', 'Ana', 'Pedro', 'Marta', 'Carlos', 'Sofia', 'Rui', 'Inês', 'Miguel']\n",
    "\n",
    "# Input do utilizador\n",
    "nome_input = input(\"Digite um nome: \")\n",
    "\n",
    "# Verifica se o nome está na lista\n",
    "if nome_input in nomes:\n",
    "    print(\"O nome está na lista.\")\n",
    "else:\n",
    "    print(\"O nome não está na lista.\")"
   ]
  }
 ],
 "metadata": {
  "kernelspec": {
   "display_name": "UFCD_10793_04_AG",
   "language": "python",
   "name": "python3"
  },
  "language_info": {
   "codemirror_mode": {
    "name": "ipython",
    "version": 3
   },
   "file_extension": ".py",
   "mimetype": "text/x-python",
   "name": "python",
   "nbconvert_exporter": "python",
   "pygments_lexer": "ipython3",
   "version": "undefined.undefined.undefined"
  }
 },
 "nbformat": 4,
 "nbformat_minor": 2
}
