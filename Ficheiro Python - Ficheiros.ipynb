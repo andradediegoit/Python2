{
 "cells": [
  {
   "cell_type": "markdown",
   "metadata": {},
   "source": [
    "# 1. Ficheiros\n",
    "## 1.1. Ler ficheiro de texto"
   ]
  },
  {
   "cell_type": "code",
   "execution_count": 5,
   "metadata": {},
   "outputs": [
    {
     "name": "stdout",
     "output_type": "stream",
     "text": [
      "O Python é uma\n",
      "linguagem de programação\n",
      "de uso geral, interpetada\n",
      "<class 'str'>\n",
      "True\n"
     ]
    }
   ],
   "source": [
    "myFile = open('teste_python.txt')\n",
    "rd = myFile.read()\n",
    "print(rd)\n",
    "print(type(rd))\n",
    "myFile.close()\n",
    "print(myFile.closed)"
   ]
  },
  {
   "cell_type": "markdown",
   "metadata": {},
   "source": [
    "## Com comando with não é necessário usar o comando close() para fechar o ficheiro"
   ]
  },
  {
   "cell_type": "code",
   "execution_count": 7,
   "metadata": {},
   "outputs": [
    {
     "name": "stdout",
     "output_type": "stream",
     "text": [
      "O Python é uma\n",
      "linguagem de programação\n",
      "de uso geral, interpetada\n",
      "True\n"
     ]
    }
   ],
   "source": [
    "with open('teste_python.txt') as myFile:\n",
    "    rd = myFile.read()\n",
    "    print(rd)\n",
    "\n",
    "print(myFile.closed)"
   ]
  },
  {
   "cell_type": "markdown",
   "metadata": {},
   "source": [
    "## Ler o ficheiro e colocar o conteúdo numa lista"
   ]
  },
  {
   "cell_type": "code",
   "execution_count": 20,
   "metadata": {},
   "outputs": [
    {
     "name": "stdout",
     "output_type": "stream",
     "text": [
      "O Python é uma\n",
      "\n",
      "linguagem de programação\n",
      "\n",
      "de uso geral, interpetada\n",
      "False\n",
      "True\n",
      "False\n",
      "['O Python é uma\\n', 'linguagem de programação\\n', 'de uso geral, interpetada']\n"
     ]
    }
   ],
   "source": [
    "with open('teste_python.txt','r') as myFile:\n",
    "\n",
    "    readLista = myFile.readlines()\n",
    "\n",
    "for i in readLista:\n",
    "    print(i)\n",
    "\n",
    "for i in readLista:\n",
    "    print('programa' in i)\n",
    "\n",
    "print(readLista)"
   ]
  },
  {
   "cell_type": "markdown",
   "metadata": {},
   "source": [
    "## 1.3. Obter a lista sem quebras de linha"
   ]
  },
  {
   "cell_type": "code",
   "execution_count": 14,
   "metadata": {},
   "outputs": [
    {
     "name": "stdout",
     "output_type": "stream",
     "text": [
      "O Python é uma\n",
      "linguagem de programação\n",
      "de uso geral, interpetada\n"
     ]
    }
   ],
   "source": [
    "with open('teste_python.txt','r') as myFile:\n",
    "\n",
    "    readLista = myFile.read().splitlines()\n",
    "\n",
    "for i in readLista:\n",
    "    print(i)"
   ]
  },
  {
   "cell_type": "markdown",
   "metadata": {},
   "source": [
    "## 1.4. Criar lista separada por espaço ou quebra de linha, do conteúdo do ficheiro"
   ]
  },
  {
   "cell_type": "code",
   "execution_count": 15,
   "metadata": {},
   "outputs": [
    {
     "name": "stdout",
     "output_type": "stream",
     "text": [
      "O\n",
      "Python\n",
      "é\n",
      "uma\n",
      "linguagem\n",
      "de\n",
      "programação\n",
      "de\n",
      "uso\n",
      "geral,\n",
      "interpetada\n"
     ]
    }
   ],
   "source": [
    "with open('teste_python.txt','r') as myFile:\n",
    "\n",
    "    readLista = myFile.read().split()\n",
    "\n",
    "for i in readLista:\n",
    "    print(i)"
   ]
  },
  {
   "cell_type": "code",
   "execution_count": 18,
   "metadata": {},
   "outputs": [
    {
     "name": "stdout",
     "output_type": "stream",
     "text": [
      "False\n"
     ]
    }
   ],
   "source": [
    "print('Python' in readLista)"
   ]
  },
  {
   "cell_type": "markdown",
   "metadata": {},
   "source": [
    "## 1.5. Acrescentar conteúdo no ficheiro"
   ]
  },
  {
   "cell_type": "code",
   "execution_count": 25,
   "metadata": {},
   "outputs": [],
   "source": [
    "with open('teste_python.txt','a') as acrescentarFile:\n",
    "    acrescentarFile.write('Conteúdo acrescentado.\\n')"
   ]
  },
  {
   "cell_type": "code",
   "execution_count": 29,
   "metadata": {},
   "outputs": [],
   "source": [
    "lista_criacao = ['Criado por:\\n','João Araújo\\n','Data: 08/03/2024\\n']\n",
    "\n",
    "with open('teste_python.txt','a') as acrescentarFile:\n",
    "\n",
    "    for i in lista_criacao:\n",
    "        if 'João' in i:\n",
    "            pass\n",
    "        else:\n",
    "            acrescentarFile.write(i)"
   ]
  },
  {
   "cell_type": "code",
   "execution_count": 28,
   "metadata": {},
   "outputs": [],
   "source": [
    "lista_criacao = ['Criado por:\\n','João Araújo\\n','Data: 08/03/2024\\n']\n",
    "\n",
    "with open('teste_python.txt','a') as acrescentarFile:\n",
    "\n",
    "    acrescentarFile.writelines(lista_criacao)"
   ]
  },
  {
   "cell_type": "markdown",
   "metadata": {},
   "source": [
    "## 1.6. Escrever no Ficheiro\n",
    "# ATENÇÃO: Todo o conteúdo do ficheiro é eliminado e substituido pelo especificado"
   ]
  },
  {
   "cell_type": "code",
   "execution_count": null,
   "metadata": {},
   "outputs": [],
   "source": [
    "listaString = ['Novo Conteúdo.\\n','Criado por:\\n','João Araújo.\\n']\n",
    "\n",
    "with open('teste_python.txt','w') as acrescentarFile:\n",
    "\n",
    "    acrescentarFile.writelines(listaString)"
   ]
  }
 ],
 "metadata": {
  "kernelspec": {
   "display_name": "UFCD_10793_04_AG",
   "language": "python",
   "name": "python3"
  },
  "language_info": {
   "codemirror_mode": {
    "name": "ipython",
    "version": 3
   },
   "file_extension": ".py",
   "mimetype": "text/x-python",
   "name": "python",
   "nbconvert_exporter": "python",
   "pygments_lexer": "ipython3",
   "version": "3.11.7"
  }
 },
 "nbformat": 4,
 "nbformat_minor": 2
}
