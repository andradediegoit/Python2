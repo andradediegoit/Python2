{
 "cells": [
  {
   "cell_type": "markdown",
   "metadata": {},
   "source": [
    "# 1. Ficheiros CSV\n",
    "## 1.1. Importar a biblioteca csv do Python"
   ]
  },
  {
   "cell_type": "code",
   "execution_count": 2,
   "metadata": {},
   "outputs": [],
   "source": [
    "import csv"
   ]
  },
  {
   "cell_type": "markdown",
   "metadata": {},
   "source": [
    "## 1.2. Ler o ficheiro CSV"
   ]
  },
  {
   "cell_type": "code",
   "execution_count": 66,
   "metadata": {},
   "outputs": [],
   "source": [
    "openCSVFile = open('courseid_1616_participants.csv')\n",
    "csv_reader = csv.reader(openCSVFile)"
   ]
  },
  {
   "cell_type": "code",
   "execution_count": 67,
   "metadata": {},
   "outputs": [
    {
     "name": "stdout",
     "output_type": "stream",
     "text": [
      "['__class__', '__delattr__', '__dir__', '__doc__', '__eq__', '__format__', '__ge__', '__getattribute__', '__getstate__', '__gt__', '__hash__', '__init__', '__init_subclass__', '__iter__', '__le__', '__lt__', '__module__', '__ne__', '__new__', '__next__', '__reduce__', '__reduce_ex__', '__repr__', '__setattr__', '__sizeof__', '__str__', '__subclasshook__', 'dialect', 'line_num']\n"
     ]
    }
   ],
   "source": [
    "print(dir(csv_reader))\n",
    "\n",
    "# Função csv.reader é um iterador\n",
    "# Usar o comando next() para começar a iteração no ficheiro, e iterar linha a linha"
   ]
  },
  {
   "cell_type": "code",
   "execution_count": 68,
   "metadata": {},
   "outputs": [
    {
     "data": {
      "text/plain": [
       "['Nome', 'Apelido', 'Endereço de e-mail', 'Grupos']"
      ]
     },
     "execution_count": 68,
     "metadata": {},
     "output_type": "execute_result"
    }
   ],
   "source": [
    "next(csv_reader)"
   ]
  },
  {
   "cell_type": "code",
   "execution_count": 69,
   "metadata": {},
   "outputs": [],
   "source": [
    "openCSVFile.close()"
   ]
  },
  {
   "cell_type": "code",
   "execution_count": 70,
   "metadata": {},
   "outputs": [],
   "source": [
    "with open('courseid_1616_participants.csv') as openCSVFile:\n",
    "    csv_reader = csv.reader(openCSVFile)\n",
    "\n",
    "    header = next(csv_reader)\n",
    "\n",
    "    data = []\n",
    "\n",
    "    for row in csv_reader:\n",
    "        pnome = row[0]\n",
    "        unome = row[1]\n",
    "        email = row[2]\n",
    "        data.append([pnome,unome,email])\n",
    "\n",
    "    "
   ]
  },
  {
   "cell_type": "code",
   "execution_count": 72,
   "metadata": {},
   "outputs": [
    {
     "name": "stdout",
     "output_type": "stream",
     "text": [
      "João\n",
      "Araújo\n",
      "joaoplaraujo@gmail.com\n",
      "Joel Orlando\n",
      "Bandeira Sarabando\n",
      "joel_sarabando@hotmail.com\n",
      "Daniel Vicente\n",
      "Carreira\n",
      "danielvcarreira@gmail.com\n",
      "António\n",
      "da Costa Teixeira de Carvalho\n",
      "antonioctcarvalho@gmail.com\n",
      "Leonardo Rodrigo\n",
      "da Rosa Araújo\n",
      "leonardo.rraraujo@gmail.com\n",
      "Márcio\n",
      "da Silva Valadares\n",
      "marciova2013@gmail.com\n",
      "Luciano\n",
      "Eduardo Inocêncio\n",
      "inocencio.le@gmail.com\n",
      "Sandy\n",
      "Firmino\n",
      "nandaelulu@hotmail.com\n",
      "Claudia\n",
      "Gouveia Rodrigues\n",
      "est.claudiagrodrigues@gmail.com\n",
      "Deives\n",
      "Junior de Paula\n",
      "deivesjr.paula@gmail.com\n",
      "Susana\n",
      "Marques da Silva Neto\n",
      "susana-neto26@hotmail.com\n",
      "Filipe António\n",
      "Marques Mendes\n",
      "filipe.am.mendes@gmail.com\n",
      "Cíntia\n",
      "Marques Pereira\n",
      "cmp60121@gmail.com\n",
      "Mónica Isabel\n",
      "Martins Rebelo\n",
      "monicarebelomore@gmail.com\n",
      "Telma Sofia\n",
      "Oliveira Ruivo\n",
      "telma_ruivo_@hotmail.com\n",
      "Marco Paulo\n",
      "Pereira da Silva\n",
      "marcoppsilva@gmail.com\n",
      "Luís Filipe da Silva\n",
      "Pereira dos Santos\n",
      "luissantos.business@gmail.com\n",
      "Madalena\n",
      "Pinheiro Morais\n",
      "madalena7morais@gmail.com\n",
      "Clévia\n",
      "Pinto Aguiar Moreira\n",
      "clevia_bela@hotmail.com\n",
      "David Emanuel\n",
      "Pinto e Silva\n",
      "david_psilva@hotmail.com\n",
      "Ivo Miguel\n",
      "Rocha Ventura\n",
      "ivo.ventura@gmail.com\n",
      "LOIC BONIFACIO\n",
      "ROSA SANTOS\n",
      "LOIC_BRS@MSN.COM\n",
      "Diego\n",
      "Silva de Andrade Santos\n",
      "diegoandrade.ep@gmail.com\n",
      "Márcia\n",
      "Soares Vaz Capelas\n",
      "marcia.capelas@gmail.com\n",
      "Marco António\n",
      "Susano Dias\n",
      "marcosusano@gmail.com\n",
      "LUIS DUARTE\n",
      "VELOSO NEIVA\n",
      "ioptico.smi@gmail.com\n",
      "João\n",
      "Vieira da Silva\n",
      "jvieirasilva01@gmail.com\n",
      "Márcio\n",
      "Vinícius de Carvalho\n",
      "marcio.carvalho.engc@gmail.com\n"
     ]
    }
   ],
   "source": [
    "for row in data:\n",
    "    for column in row:\n",
    "        print(column)"
   ]
  },
  {
   "cell_type": "markdown",
   "metadata": {},
   "source": [
    "## 1.3. Filtrar alunos com dominio de email diferente de gmail"
   ]
  },
  {
   "cell_type": "code",
   "execution_count": 73,
   "metadata": {},
   "outputs": [],
   "source": [
    "data_filter = []\n",
    "\n",
    "for row in data:\n",
    "    if 'gmail.com' not in row[2]:\n",
    "        data_filter.append(row)"
   ]
  },
  {
   "cell_type": "code",
   "execution_count": 79,
   "metadata": {},
   "outputs": [],
   "source": [
    "data_filter_2 = []\n",
    "\n",
    "email_filter = '@hotmail.com'\n",
    "\n",
    "for row in data:\n",
    "    if row[2][row[2].index(\"@\"):] != email_filter:\n",
    "        data_filter_2.append(row)"
   ]
  },
  {
   "cell_type": "code",
   "execution_count": 81,
   "metadata": {},
   "outputs": [],
   "source": [
    "data_filter_3 = []\n",
    "\n",
    "email_filter = '@hotmail.com'\n",
    "\n",
    "for row in data:\n",
    "    if row[2][-len(email_filter):] != email_filter:\n",
    "        data_filter_3.append(row)"
   ]
  },
  {
   "cell_type": "markdown",
   "metadata": {},
   "source": [
    "## 1.4. Criar e escrever um novo ficheiro CSV"
   ]
  },
  {
   "cell_type": "code",
   "execution_count": 83,
   "metadata": {},
   "outputs": [
    {
     "data": {
      "text/plain": [
       "'Grupos'"
      ]
     },
     "execution_count": 83,
     "metadata": {},
     "output_type": "execute_result"
    }
   ],
   "source": [
    "header_filter = header.copy()\n",
    "\n",
    "header_filter.pop() # Elimina o ultimo elemento da lista"
   ]
  },
  {
   "cell_type": "code",
   "execution_count": 86,
   "metadata": {},
   "outputs": [],
   "source": [
    "with open('alunos_csv_filter_hotmail.csv','w',newline='') as newCSVFile:\n",
    "    csv_writer = csv.writer(newCSVFile)\n",
    "\n",
    "    # csv.writer, como o csv.reader, é também um iterador\n",
    "\n",
    "    csv_writer.writerow(header_filter)\n",
    "\n",
    "    csv_writer.writerows(data_filter_2)\n"
   ]
  },
  {
   "cell_type": "code",
   "execution_count": 87,
   "metadata": {},
   "outputs": [],
   "source": [
    "with open('alunos_csv_filter_gmail.csv','w',newline='') as newCSVFile:\n",
    "    csv_writer = csv.writer(newCSVFile)\n",
    "\n",
    "    # csv.writer, como o csv.reader, é também um iterador\n",
    "\n",
    "    csv_writer.writerow(header_filter)\n",
    "\n",
    "    for row in data_filter:\n",
    "        csv_writer.writerow(row)"
   ]
  },
  {
   "cell_type": "markdown",
   "metadata": {},
   "source": [
    "# 2. Bases de dados\n",
    "## 2.1. Criar base de dados e apontador"
   ]
  },
  {
   "cell_type": "code",
   "execution_count": 88,
   "metadata": {},
   "outputs": [],
   "source": [
    "import sqlite3 as db # usar comando para atribuir um nome à escolha para a biblioteca que se importa\n",
    "\n",
    "# Criar base de dados: Criar uma ligação\n",
    "\n",
    "connection = db.connect('Alunos.db')"
   ]
  },
  {
   "cell_type": "code",
   "execution_count": 89,
   "metadata": {},
   "outputs": [],
   "source": [
    "# Criar um apontador, que permite executar comandos para a base de dados\n",
    "\n",
    "cursor = connection.cursor()"
   ]
  },
  {
   "cell_type": "markdown",
   "metadata": {},
   "source": [
    "## 2.2. Criar tabela"
   ]
  },
  {
   "cell_type": "code",
   "execution_count": 91,
   "metadata": {},
   "outputs": [
    {
     "ename": "OperationalError",
     "evalue": "table alunos already exists",
     "output_type": "error",
     "traceback": [
      "\u001b[1;31m---------------------------------------------------------------------------\u001b[0m",
      "\u001b[1;31mOperationalError\u001b[0m                          Traceback (most recent call last)",
      "Cell \u001b[1;32mIn[91], line 1\u001b[0m\n\u001b[1;32m----> 1\u001b[0m cursor\u001b[38;5;241m.\u001b[39mexecute(\u001b[38;5;124m'\u001b[39m\u001b[38;5;124mCREATE TABLE alunos(pnome TEXT,\u001b[39m\u001b[38;5;124m'\u001b[39m \u001b[38;5;241m+\u001b[39m\n\u001b[0;32m      2\u001b[0m                 \u001b[38;5;124m'\u001b[39m\u001b[38;5;124munome TEXT,\u001b[39m\u001b[38;5;124m'\u001b[39m \u001b[38;5;241m+\u001b[39m \n\u001b[0;32m      3\u001b[0m                 \u001b[38;5;124m'\u001b[39m\u001b[38;5;124memail TEXT)\u001b[39m\u001b[38;5;124m'\u001b[39m)\n",
      "\u001b[1;31mOperationalError\u001b[0m: table alunos already exists"
     ]
    }
   ],
   "source": [
    "cursor.execute('CREATE TABLE alunos(pnome TEXT,' +\n",
    "                'unome TEXT,' + \n",
    "                'email TEXT)')\n",
    "\n",
    "# Letra maiuscula são comandos sql. É indiferente ser maiusculo ou minusculo no sql\n",
    "# Letras minusculas: nomes atribuidos pelo programador"
   ]
  },
  {
   "cell_type": "markdown",
   "metadata": {},
   "source": [
    "## 2.3. Inserir conteúdo na base de dados"
   ]
  },
  {
   "cell_type": "code",
   "execution_count": 93,
   "metadata": {},
   "outputs": [
    {
     "data": {
      "text/plain": [
       "<sqlite3.Cursor at 0x287c09f6540>"
      ]
     },
     "execution_count": 93,
     "metadata": {},
     "output_type": "execute_result"
    }
   ],
   "source": [
    "cursor.execute(\"INSERT INTO alunos VALUES('João', 'Araújo', 'joaoplaraujo@gmail.com')\")"
   ]
  },
  {
   "cell_type": "code",
   "execution_count": 94,
   "metadata": {},
   "outputs": [
    {
     "data": {
      "text/plain": [
       "<sqlite3.Cursor at 0x287c09f6540>"
      ]
     },
     "execution_count": 94,
     "metadata": {},
     "output_type": "execute_result"
    }
   ],
   "source": [
    "pnome = input('Introduza o primeiro nome').capitalize()\n",
    "unome = input('Introduza o ultimo nome').capitalize()\n",
    "email = input('Introduza o email').lower()\n",
    "\n",
    "cursor.execute(f\"INSERT INTO alunos VALUES('{pnome}','{unome}','{email}')\")"
   ]
  },
  {
   "cell_type": "markdown",
   "metadata": {},
   "source": [
    "## 2.4. Guardar alterações na base de dados"
   ]
  },
  {
   "cell_type": "code",
   "execution_count": 95,
   "metadata": {},
   "outputs": [],
   "source": [
    "connection.commit()"
   ]
  },
  {
   "cell_type": "code",
   "execution_count": 96,
   "metadata": {},
   "outputs": [],
   "source": [
    "import csv\n",
    "with open('alunos_csv_filter_gmail.csv') as csv_file:\n",
    "    csv_reader = csv.reader(csv_file)\n",
    "\n",
    "    header = next(csv_reader)\n",
    "\n",
    "    data = []\n",
    "\n",
    "    for row in csv_reader:\n",
    "        data.append(row)"
   ]
  },
  {
   "cell_type": "markdown",
   "metadata": {},
   "source": [
    "### Escrever conteúdo do ficheiro csv para base de dados"
   ]
  },
  {
   "cell_type": "code",
   "execution_count": 97,
   "metadata": {},
   "outputs": [],
   "source": [
    "for row in data:\n",
    "    cursor.execute(f\"INSERT INTO alunos VALUES('{row[0]}','{row[1]}','{row[2]}')\")"
   ]
  },
  {
   "cell_type": "code",
   "execution_count": 98,
   "metadata": {},
   "outputs": [],
   "source": [
    "connection.commit()"
   ]
  },
  {
   "cell_type": "markdown",
   "metadata": {},
   "source": [
    "## 2.5. Consultar o numero de alterações realizadas na base de dados"
   ]
  },
  {
   "cell_type": "code",
   "execution_count": 99,
   "metadata": {},
   "outputs": [
    {
     "data": {
      "text/plain": [
       "9"
      ]
     },
     "execution_count": 99,
     "metadata": {},
     "output_type": "execute_result"
    }
   ],
   "source": [
    "connection.total_changes"
   ]
  },
  {
   "cell_type": "markdown",
   "metadata": {},
   "source": [
    "## 2.6. Comandos SELECT para consulta de base de dados"
   ]
  },
  {
   "cell_type": "code",
   "execution_count": 101,
   "metadata": {},
   "outputs": [],
   "source": [
    "read_db = cursor.execute('SELECT * FROM alunos').fetchall()\n"
   ]
  },
  {
   "cell_type": "markdown",
   "metadata": {},
   "source": [
    "## Transformar tuplo de read_db para lista"
   ]
  },
  {
   "cell_type": "code",
   "execution_count": 102,
   "metadata": {},
   "outputs": [],
   "source": [
    "read_db_backup = read_db.copy()\n",
    "\n",
    "for i in range(len(read_db_backup)):\n",
    "    read_db_backup[i] = list(read_db_backup[i])"
   ]
  },
  {
   "cell_type": "code",
   "execution_count": 103,
   "metadata": {},
   "outputs": [
    {
     "data": {
      "text/plain": [
       "[('Araújo', 'joaoplaraujo@gmail.com'),\n",
       " ('Silva', 'marco_silva@gmail.com'),\n",
       " ('Bandeira Sarabando', 'joel_sarabando@hotmail.com'),\n",
       " ('Firmino', 'nandaelulu@hotmail.com'),\n",
       " ('Marques da Silva Neto', 'susana-neto26@hotmail.com'),\n",
       " ('Oliveira Ruivo', 'telma_ruivo_@hotmail.com'),\n",
       " ('Pinto Aguiar Moreira', 'clevia_bela@hotmail.com'),\n",
       " ('Pinto e Silva', 'david_psilva@hotmail.com'),\n",
       " ('ROSA SANTOS', 'LOIC_BRS@MSN.COM')]"
      ]
     },
     "execution_count": 103,
     "metadata": {},
     "output_type": "execute_result"
    }
   ],
   "source": [
    "cursor.execute('SELECT unome,email FROM alunos').fetchall()"
   ]
  },
  {
   "cell_type": "markdown",
   "metadata": {},
   "source": [
    "## 2.7. Comando para base de dados por atribuição de variáveis\n",
    "### Pesquisa por email através de nome"
   ]
  },
  {
   "cell_type": "code",
   "execution_count": 105,
   "metadata": {},
   "outputs": [
    {
     "name": "stdout",
     "output_type": "stream",
     "text": [
      "[('João', 'Araújo', 'joaoplaraujo@gmail.com')]\n"
     ]
    }
   ],
   "source": [
    "procura_nome = input('Introduza o nome a pesquisar').capitalize()\n",
    "\n",
    "resultado = cursor.execute(f\"SELECT * FROM alunos WHERE pnome = '{procura_nome}'\").fetchall()\n",
    "\n",
    "print(resultado)"
   ]
  },
  {
   "cell_type": "code",
   "execution_count": 106,
   "metadata": {},
   "outputs": [
    {
     "name": "stdout",
     "output_type": "stream",
     "text": [
      "[('marco_silva@gmail.com',)]\n"
     ]
    }
   ],
   "source": [
    "procura_nome = input('Introduza o nome a pesquisar').capitalize()\n",
    "\n",
    "resultado = cursor.execute(f\"SELECT email FROM alunos WHERE pnome = '{procura_nome}'\").fetchall()\n",
    "\n",
    "print(resultado)"
   ]
  },
  {
   "cell_type": "markdown",
   "metadata": {},
   "source": [
    "## 2.8. Atualizar o registo da base de dados"
   ]
  },
  {
   "cell_type": "code",
   "execution_count": 114,
   "metadata": {},
   "outputs": [
    {
     "data": {
      "text/plain": [
       "<sqlite3.Cursor at 0x287c09f6540>"
      ]
     },
     "execution_count": 114,
     "metadata": {},
     "output_type": "execute_result"
    }
   ],
   "source": [
    "new_email = input('Introduza o nome email').lower()\n",
    "\n",
    "procura_apelido = input('Introduza o apelido da pessoa que deseja atualizar o email').capitalize()\n",
    "\n",
    "cursor.execute(f\"UPDATE alunos SET email = '{new_email}' WHERE unome LIKE '%{procura_apelido}%'\")"
   ]
  },
  {
   "cell_type": "code",
   "execution_count": 115,
   "metadata": {},
   "outputs": [],
   "source": [
    "connection.commit()"
   ]
  },
  {
   "cell_type": "markdown",
   "metadata": {},
   "source": [
    "## 2.9. Remover registo"
   ]
  },
  {
   "cell_type": "code",
   "execution_count": 116,
   "metadata": {},
   "outputs": [
    {
     "data": {
      "text/plain": [
       "<sqlite3.Cursor at 0x287c09f6540>"
      ]
     },
     "execution_count": 116,
     "metadata": {},
     "output_type": "execute_result"
    }
   ],
   "source": [
    "del_email = input('Introduza o email da pessoa que pretende remover').lower()\n",
    "\n",
    "cursor.execute(f\"DELETE FROM alunos WHERE email = '{del_email}'\")\n"
   ]
  },
  {
   "cell_type": "code",
   "execution_count": null,
   "metadata": {},
   "outputs": [],
   "source": [
    "connection.commit()"
   ]
  },
  {
   "cell_type": "markdown",
   "metadata": {},
   "source": [
    "## 2.10 Exportar tabela de base de dados para outros tipos de ficheiro"
   ]
  },
  {
   "cell_type": "code",
   "execution_count": 2,
   "metadata": {},
   "outputs": [],
   "source": [
    "import sqlite3 as db\n",
    "\n",
    "import pandas as pd\n",
    "\n",
    "connection = db.connect('Alunos.db')\n",
    "\n",
    "dbdf = pd.read_sql(\"SELECT * FROM alunos\", connection)\n",
    "\n",
    "connection.close()"
   ]
  },
  {
   "cell_type": "code",
   "execution_count": 4,
   "metadata": {},
   "outputs": [],
   "source": [
    "## Exportar para CSV\n",
    "\n",
    "dbdf.to_csv('alunos_db.csv',index=False)"
   ]
  },
  {
   "cell_type": "code",
   "execution_count": 6,
   "metadata": {},
   "outputs": [],
   "source": [
    "## Exportar para JSON\n",
    "\n",
    "dbdf.to_json('alunos_db.json', indent=1)"
   ]
  },
  {
   "cell_type": "markdown",
   "metadata": {},
   "source": [
    "## 2.11. Ler fichieros CSV e JSON"
   ]
  },
  {
   "cell_type": "code",
   "execution_count": 7,
   "metadata": {},
   "outputs": [],
   "source": [
    "dbdf_csv = pd.read_csv('alunos_db.csv')"
   ]
  },
  {
   "cell_type": "code",
   "execution_count": 8,
   "metadata": {},
   "outputs": [],
   "source": [
    "dbdf_json = pd.read_json('alunos_db.json')"
   ]
  },
  {
   "cell_type": "code",
   "execution_count": 9,
   "metadata": {},
   "outputs": [],
   "source": [
    "connection = db.connect('Alunos.db')\n",
    "\n",
    "dbdf_json.to_sql('alunos2',connection, index = False)\n",
    "\n",
    "connection.close()"
   ]
  },
  {
   "cell_type": "markdown",
   "metadata": {},
   "source": [
    "## 2.12. Ler e exportar ficheiros xlsx"
   ]
  },
  {
   "cell_type": "code",
   "execution_count": 14,
   "metadata": {},
   "outputs": [],
   "source": [
    "import openpyxl\n",
    "\n",
    "# Biblioteca xlrd para ficheiros excel .xls\n",
    "\n",
    "dbdf_json.to_excel('alunos_db.xlsx',index=False)"
   ]
  },
  {
   "cell_type": "code",
   "execution_count": 18,
   "metadata": {},
   "outputs": [],
   "source": [
    "read_excel = pd.read_excel('alunos_db.xlsx')"
   ]
  },
  {
   "cell_type": "code",
   "execution_count": 27,
   "metadata": {},
   "outputs": [],
   "source": [
    "read_excel_alt = pd.read_excel('alunos_db.xlsx','Sheet2')"
   ]
  },
  {
   "cell_type": "markdown",
   "metadata": {},
   "source": [
    "# 3. Tratamento de ficheiros com JSON"
   ]
  },
  {
   "cell_type": "code",
   "execution_count": 28,
   "metadata": {},
   "outputs": [
    {
     "name": "stdout",
     "output_type": "stream",
     "text": [
      "{'pnome': {'0': 'João', '1': 'Joel Orlando', '2': 'Sandy', '3': 'Telma Sofia', '4': 'Clévia', '5': 'LOIC BONIFACIO'}, 'unome': {'0': 'Araújo', '1': 'Bandeira Sarabando', '2': 'Firmino', '3': 'Oliveira Ruivo', '4': 'Pinto Aguiar Moreira', '5': 'ROSA SANTOS'}, 'email': {'0': 'jplaraujo@hotmail.com', '1': 'jarabando@gmail.com', '2': 'nandaelulu@hotmail.com', '3': 'telma_ruivo_@hotmail.com', '4': 'clevia_bela@hotmail.com', '5': 'LOIC_BRS@MSN.COM'}}\n"
     ]
    }
   ],
   "source": [
    "import json\n",
    "\n",
    "with open('alunos_db.json') as json_file:\n",
    "    read_json = json.load(json_file)\n",
    "\n",
    "print(read_json)\n"
   ]
  },
  {
   "cell_type": "markdown",
   "metadata": {},
   "source": [
    "## 3.1. Converter dicionário para JSON"
   ]
  },
  {
   "cell_type": "code",
   "execution_count": 34,
   "metadata": {},
   "outputs": [],
   "source": [
    "\n",
    "json_alunos = json.dumps(read_json,indent=1) # ensure_ascii = False: serializa a string do ficheiro JSON com os caractéres originais\n",
    "\n",
    "with open('aluno_json_conv.json','w') as file_json:\n",
    "\n",
    "    file_json.write(json_alunos)"
   ]
  }
 ],
 "metadata": {
  "kernelspec": {
   "display_name": "UFCD_10793_04_AG",
   "language": "python",
   "name": "python3"
  },
  "language_info": {
   "codemirror_mode": {
    "name": "ipython",
    "version": 3
   },
   "file_extension": ".py",
   "mimetype": "text/x-python",
   "name": "python",
   "nbconvert_exporter": "python",
   "pygments_lexer": "ipython3",
   "version": "3.11.7"
  }
 },
 "nbformat": 4,
 "nbformat_minor": 2
}
