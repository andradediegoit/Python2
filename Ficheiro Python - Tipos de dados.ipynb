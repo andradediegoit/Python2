{
 "cells": [
  {
   "cell_type": "markdown",
   "metadata": {},
   "source": [
    "# 1. Tipos de dados\n",
    "## 1.1. Dados singulares"
   ]
  },
  {
   "cell_type": "code",
   "execution_count": 4,
   "metadata": {},
   "outputs": [],
   "source": [
    "varInt = 10\n",
    "varFloat = 1.9\n",
    "varComplex = 1 + 2j\n",
    "varString = 'Python'\n",
    "varBool = True # ou False\n",
    "varBytes = b'110001100011101'"
   ]
  },
  {
   "cell_type": "markdown",
   "metadata": {},
   "source": [
    "## Método *casting* disponível para todos os tipos de dados singulares"
   ]
  },
  {
   "cell_type": "code",
   "execution_count": 13,
   "metadata": {},
   "outputs": [],
   "source": [
    "varIntCasting = int('12345678')\n",
    "varFloatCasting = float('19.5')\n",
    "varComplexCasting = complex(25)\n",
    "carStringCasting = str(555)\n",
    "varBoolCasting = bool(0)\n",
    "varBytesCasting = bytes('^','UTF-8')"
   ]
  },
  {
   "cell_type": "markdown",
   "metadata": {},
   "source": [
    "## 1.2. Coleção de dados\n",
    "### 1.2.1. Listas"
   ]
  },
  {
   "cell_type": "code",
   "execution_count": 19,
   "metadata": {},
   "outputs": [
    {
     "name": "stdout",
     "output_type": "stream",
     "text": [
      "O ultimo nome da pessoa é:Araújo\n",
      "João 1.78 True\n",
      "Nome da pessoa: João Araújo\n",
      "Idade da pessoa:40\n",
      "Altura da pessoa: 1.78\n"
     ]
    }
   ],
   "source": [
    "varList = ['João','Araújo',40, 1.78, True]\n",
    "# indices    0        1     2    3     4\n",
    "\n",
    "print(f'O ultimo nome da pessoa é:{varList[1]}')\n",
    "\n",
    "print(varList[0],varList[3], varList[4])\n",
    "\n",
    "print(f'Nome da pessoa: {varList[0]} {varList[1]}\\nIdade da pessoa:{varList[2]}\\nAltura da pessoa: {varList[3]}')"
   ]
  },
  {
   "cell_type": "markdown",
   "metadata": {},
   "source": [
    "### Elementos repetidos e substituição"
   ]
  },
  {
   "cell_type": "code",
   "execution_count": 31,
   "metadata": {},
   "outputs": [
    {
     "name": "stdout",
     "output_type": "stream",
     "text": [
      "['João', 'Pedro', 'Araújo', 40, 1.78, True]\n"
     ]
    }
   ],
   "source": [
    "varList = ['João','João','Araújo',40, 1.78, True]\n",
    "# indices    0        1     2    3     4      5\n",
    "\n",
    "varList[1] = 'Pedro'\n",
    "\n",
    "print(varList)\n"
   ]
  },
  {
   "cell_type": "markdown",
   "metadata": {},
   "source": [
    "### Eliminar elementos por conteúdo"
   ]
  },
  {
   "cell_type": "code",
   "execution_count": 32,
   "metadata": {},
   "outputs": [
    {
     "name": "stdout",
     "output_type": "stream",
     "text": [
      "['João', 'Pedro', 'Araújo', 1.78, True]\n"
     ]
    }
   ],
   "source": [
    "# Criar backup da lista original com a função copy()\n",
    "varList2 = varList.copy()\n",
    "\n",
    "varList2.remove(40)\n",
    "\n",
    "print(varList2)"
   ]
  },
  {
   "cell_type": "code",
   "execution_count": 24,
   "metadata": {},
   "outputs": [
    {
     "name": "stdout",
     "output_type": "stream",
     "text": [
      "1.78\n"
     ]
    }
   ],
   "source": [
    "print(varList[3])"
   ]
  },
  {
   "cell_type": "markdown",
   "metadata": {},
   "source": [
    "### 1.2.2. Tuplos ou *Tuple*"
   ]
  },
  {
   "cell_type": "code",
   "execution_count": 56,
   "metadata": {},
   "outputs": [
    {
     "name": "stdout",
     "output_type": "stream",
     "text": [
      "Araújo\n",
      "1\n",
      "2\n"
     ]
    }
   ],
   "source": [
    "varTuple = ('João', 'Araújo', 40, 1.78,False)\n",
    "# Indices      0        1      2    3    4\n",
    "\n",
    "# varTuple[0] = 'Pedro' -> Operação inválida. Não é possivel alterar conteúdo como tuple\n",
    "\n",
    "print(varTuple[1])\n",
    "\n",
    "print(varTuple.count(0))\n",
    "\n",
    "# Função count referencia boobleanos com numeros inteiros True -> 1; False ->0\n",
    "\n",
    "print(varTuple.index(40))\n"
   ]
  },
  {
   "cell_type": "markdown",
   "metadata": {},
   "source": [
    "## Método *casting* em coleção de dados\n",
    "\n",
    "### Lista para Tuplo"
   ]
  },
  {
   "cell_type": "code",
   "execution_count": 57,
   "metadata": {},
   "outputs": [],
   "source": [
    "varListToTuple = tuple(varList)"
   ]
  },
  {
   "cell_type": "code",
   "execution_count": 59,
   "metadata": {},
   "outputs": [
    {
     "name": "stdout",
     "output_type": "stream",
     "text": [
      "['__add__', '__class__', '__class_getitem__', '__contains__', '__delattr__', '__delitem__', '__dir__', '__doc__', '__eq__', '__format__', '__ge__', '__getattribute__', '__getitem__', '__getstate__', '__gt__', '__hash__', '__iadd__', '__imul__', '__init__', '__init_subclass__', '__iter__', '__le__', '__len__', '__lt__', '__mul__', '__ne__', '__new__', '__reduce__', '__reduce_ex__', '__repr__', '__reversed__', '__rmul__', '__setattr__', '__setitem__', '__sizeof__', '__str__', '__subclasshook__', 'append', 'clear', 'copy', 'count', 'extend', 'index', 'insert', 'pop', 'remove', 'reverse', 'sort']\n"
     ]
    }
   ],
   "source": [
    "print(dir(varList))"
   ]
  },
  {
   "cell_type": "markdown",
   "metadata": {},
   "source": [
    "### Tuplo para lista"
   ]
  },
  {
   "cell_type": "code",
   "execution_count": 60,
   "metadata": {},
   "outputs": [],
   "source": [
    "varTupleToList = list(varTuple)"
   ]
  },
  {
   "cell_type": "markdown",
   "metadata": {},
   "source": [
    "# ATENÇÃO: NÃO FAZER O QUE ESTÁ ABAIXO"
   ]
  },
  {
   "cell_type": "code",
   "execution_count": null,
   "metadata": {},
   "outputs": [],
   "source": [
    "varTuple = list(varTuple) # Declaração explicita de conversão de tuplo para lista"
   ]
  }
 ],
 "metadata": {
  "kernelspec": {
   "display_name": "UFCD_10793_04_AG",
   "language": "python",
   "name": "python3"
  },
  "language_info": {
   "codemirror_mode": {
    "name": "ipython",
    "version": 3
   },
   "file_extension": ".py",
   "mimetype": "text/x-python",
   "name": "python",
   "nbconvert_exporter": "python",
   "pygments_lexer": "ipython3",
   "version": "3.11.7"
  }
 },
 "nbformat": 4,
 "nbformat_minor": 2
}
