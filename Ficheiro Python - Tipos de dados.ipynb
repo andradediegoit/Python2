{
 "cells": [
  {
   "cell_type": "markdown",
   "metadata": {},
   "source": [
    "# 1. Tipos de dados\n",
    "## 1.1. Dados singulares"
   ]
  },
  {
   "cell_type": "code",
   "execution_count": 4,
   "metadata": {},
   "outputs": [],
   "source": [
    "varInt = 10\n",
    "varFloat = 1.9\n",
    "varComplex = 1 + 2j\n",
    "varString = 'Python'\n",
    "varBool = True # ou False\n",
    "varBytes = b'110001100011101'"
   ]
  },
  {
   "cell_type": "markdown",
   "metadata": {},
   "source": [
    "## Método *casting* disponível para todos os tipos de dados singulares"
   ]
  },
  {
   "cell_type": "code",
   "execution_count": 13,
   "metadata": {},
   "outputs": [],
   "source": [
    "varIntCasting = int('12345678')\n",
    "varFloatCasting = float('19.5')\n",
    "varComplexCasting = complex(25)\n",
    "carStringCasting = str(555)\n",
    "varBoolCasting = bool(0)\n",
    "varBytesCasting = bytes('^','UTF-8')"
   ]
  },
  {
   "cell_type": "markdown",
   "metadata": {},
   "source": [
    "## 1.2. Coleção de dados\n",
    "### 1.2.1. Listas"
   ]
  },
  {
   "cell_type": "code",
   "execution_count": 19,
   "metadata": {},
   "outputs": [
    {
     "name": "stdout",
     "output_type": "stream",
     "text": [
      "O ultimo nome da pessoa é:Araújo\n",
      "João 1.78 True\n",
      "Nome da pessoa: João Araújo\n",
      "Idade da pessoa:40\n",
      "Altura da pessoa: 1.78\n"
     ]
    }
   ],
   "source": [
    "varList = ['João','Araújo',40, 1.78, True]\n",
    "# indices    0        1     2    3     4\n",
    "\n",
    "print(f'O ultimo nome da pessoa é:{varList[1]}')\n",
    "\n",
    "print(varList[0],varList[3], varList[4])\n",
    "\n",
    "print(f'Nome da pessoa: {varList[0]} {varList[1]}\\nIdade da pessoa:{varList[2]}\\nAltura da pessoa: {varList[3]}')"
   ]
  },
  {
   "cell_type": "markdown",
   "metadata": {},
   "source": [
    "### Elementos repetidos e substituição"
   ]
  },
  {
   "cell_type": "code",
   "execution_count": 13,
   "metadata": {},
   "outputs": [
    {
     "name": "stdout",
     "output_type": "stream",
     "text": [
      "['João', 'Pedro', 'Araújo', 40, 1.78, True]\n"
     ]
    }
   ],
   "source": [
    "varList = ['João','João','Araújo',40, 1.78, True]\n",
    "# indices    0        1     2    3     4      5\n",
    "\n",
    "varList[1] = 'Pedro'\n",
    "\n",
    "print(varList)\n"
   ]
  },
  {
   "cell_type": "markdown",
   "metadata": {},
   "source": [
    "### Eliminar elementos por conteúdo"
   ]
  },
  {
   "cell_type": "code",
   "execution_count": 32,
   "metadata": {},
   "outputs": [
    {
     "name": "stdout",
     "output_type": "stream",
     "text": [
      "['João', 'Pedro', 'Araújo', 1.78, True]\n"
     ]
    }
   ],
   "source": [
    "# Criar backup da lista original com a função copy()\n",
    "varList2 = varList.copy()\n",
    "\n",
    "varList2.remove(40)\n",
    "\n",
    "print(varList2)"
   ]
  },
  {
   "cell_type": "code",
   "execution_count": 24,
   "metadata": {},
   "outputs": [
    {
     "name": "stdout",
     "output_type": "stream",
     "text": [
      "1.78\n"
     ]
    }
   ],
   "source": [
    "print(varList[3])"
   ]
  },
  {
   "cell_type": "markdown",
   "metadata": {},
   "source": [
    "### 1.2.2. Tuplos ou *Tuple*"
   ]
  },
  {
   "cell_type": "code",
   "execution_count": 56,
   "metadata": {},
   "outputs": [
    {
     "name": "stdout",
     "output_type": "stream",
     "text": [
      "Araújo\n",
      "1\n",
      "2\n"
     ]
    }
   ],
   "source": [
    "varTuple = ('João', 'Araújo', 40, 1.78,False)\n",
    "# Indices      0        1      2    3    4\n",
    "\n",
    "# varTuple[0] = 'Pedro' -> Operação inválida. Não é possivel alterar conteúdo como tuple\n",
    "\n",
    "print(varTuple[1])\n",
    "\n",
    "print(varTuple.count(0))\n",
    "\n",
    "# Função count referencia boobleanos com numeros inteiros True -> 1; False ->0\n",
    "\n",
    "print(varTuple.index(40))\n"
   ]
  },
  {
   "cell_type": "markdown",
   "metadata": {},
   "source": [
    "## Método *casting* em coleção de dados\n",
    "\n",
    "### Lista para Tuplo"
   ]
  },
  {
   "cell_type": "code",
   "execution_count": 57,
   "metadata": {},
   "outputs": [],
   "source": [
    "varListToTuple = tuple(varList)"
   ]
  },
  {
   "cell_type": "code",
   "execution_count": 59,
   "metadata": {},
   "outputs": [
    {
     "name": "stdout",
     "output_type": "stream",
     "text": [
      "['__add__', '__class__', '__class_getitem__', '__contains__', '__delattr__', '__delitem__', '__dir__', '__doc__', '__eq__', '__format__', '__ge__', '__getattribute__', '__getitem__', '__getstate__', '__gt__', '__hash__', '__iadd__', '__imul__', '__init__', '__init_subclass__', '__iter__', '__le__', '__len__', '__lt__', '__mul__', '__ne__', '__new__', '__reduce__', '__reduce_ex__', '__repr__', '__reversed__', '__rmul__', '__setattr__', '__setitem__', '__sizeof__', '__str__', '__subclasshook__', 'append', 'clear', 'copy', 'count', 'extend', 'index', 'insert', 'pop', 'remove', 'reverse', 'sort']\n"
     ]
    }
   ],
   "source": [
    "print(dir(varList))"
   ]
  },
  {
   "cell_type": "markdown",
   "metadata": {},
   "source": [
    "### Tuplo para lista"
   ]
  },
  {
   "cell_type": "code",
   "execution_count": 60,
   "metadata": {},
   "outputs": [],
   "source": [
    "varTupleToList = list(varTuple)"
   ]
  },
  {
   "cell_type": "markdown",
   "metadata": {},
   "source": [
    "# ATENÇÃO: NÃO FAZER O QUE ESTÁ ABAIXO"
   ]
  },
  {
   "cell_type": "code",
   "execution_count": null,
   "metadata": {},
   "outputs": [],
   "source": [
    "varTuple = list(varTuple) # Declaração explicita de conversão de tuplo para lista"
   ]
  },
  {
   "cell_type": "markdown",
   "metadata": {},
   "source": [
    "### 1.2.3. *Set*"
   ]
  },
  {
   "cell_type": "code",
   "execution_count": 4,
   "metadata": {},
   "outputs": [],
   "source": [
    "varSet = {'Reunião','às','11h','escritório','sexta-feira',25.5,'11h'}"
   ]
  },
  {
   "cell_type": "markdown",
   "metadata": {},
   "source": [
    "## Set permite adicionar conteúdo, se este não existir"
   ]
  },
  {
   "cell_type": "code",
   "execution_count": 5,
   "metadata": {},
   "outputs": [],
   "source": [
    "varSet.add(25.5) # Não adiciona porque o numero 25.5 já existe no set"
   ]
  },
  {
   "cell_type": "code",
   "execution_count": 6,
   "metadata": {},
   "outputs": [],
   "source": [
    "varSet.add('25.5')"
   ]
  },
  {
   "cell_type": "code",
   "execution_count": 8,
   "metadata": {},
   "outputs": [],
   "source": [
    "varSet.add('João')"
   ]
  },
  {
   "cell_type": "code",
   "execution_count": 9,
   "metadata": {},
   "outputs": [
    {
     "data": {
      "text/plain": [
       "True"
      ]
     },
     "execution_count": 9,
     "metadata": {},
     "output_type": "execute_result"
    }
   ],
   "source": [
    "nome = 'João'\n",
    "nome in varSet"
   ]
  },
  {
   "cell_type": "markdown",
   "metadata": {},
   "source": [
    "## Remover conteúdo do Set"
   ]
  },
  {
   "cell_type": "code",
   "execution_count": 11,
   "metadata": {},
   "outputs": [],
   "source": [
    "varSet.remove('25.5')"
   ]
  },
  {
   "cell_type": "code",
   "execution_count": 16,
   "metadata": {},
   "outputs": [],
   "source": [
    "varSet.update(varList)"
   ]
  },
  {
   "cell_type": "code",
   "execution_count": 17,
   "metadata": {},
   "outputs": [],
   "source": [
    "varSetCasting = set(varList) # Filtragem de elementos repetidos em variáveis iteráveis"
   ]
  },
  {
   "cell_type": "markdown",
   "metadata": {},
   "source": [
    "### 1.2.4. Dicionários"
   ]
  },
  {
   "cell_type": "code",
   "execution_count": 20,
   "metadata": {},
   "outputs": [
    {
     "name": "stdout",
     "output_type": "stream",
     "text": [
      "João Araújo\n"
     ]
    }
   ],
   "source": [
    "varDict = {'pnome':'João', 'unome':'Araújo', 'idade': 40, 'altura': 1.78}\n",
    "\n",
    "print(varDict['pnome'], varDict['unome'])"
   ]
  },
  {
   "cell_type": "code",
   "execution_count": 25,
   "metadata": {},
   "outputs": [
    {
     "name": "stdout",
     "output_type": "stream",
     "text": [
      "35\n",
      "1.85\n"
     ]
    }
   ],
   "source": [
    "varDictAlt = {\n",
    "    0 : {'pnome':'João', 'unome':'Araújo', 'idade': 40, 'altura': 1.78},\n",
    "    1 : {'pnome':'Luís', 'unome': 'Santos', 'idade': 35, 'altura': 1.80},\n",
    "    2 : {'pnome':'Mónica', 'unome': 'Rebelo', 'idade': 25, 'altura': 1.85}\n",
    "}\n",
    "'''\n",
    "    pnome    unome    idade   altura\n",
    "0   João     Araújo   40      1.78\n",
    "1   Luís     Santos   35      1.80\n",
    "2   Mónica   Rebelo   25      1.85\n",
    "'''\n",
    "\n",
    "print(varDictAlt[1]['idade'])\n",
    "\n",
    "print(varDictAlt[2]['altura'])\n"
   ]
  },
  {
   "cell_type": "code",
   "execution_count": 29,
   "metadata": {},
   "outputs": [
    {
     "name": "stdout",
     "output_type": "stream",
     "text": [
      "A idade da aluna Mónica Rebelo é de 25 anos\n"
     ]
    }
   ],
   "source": [
    "print(f'A idade da aluna {varDictAlt[2][\"pnome\"]} {varDictAlt[2][\"unome\"]} é de {varDictAlt[2][\"idade\"]} anos')"
   ]
  },
  {
   "cell_type": "markdown",
   "metadata": {},
   "source": [
    "### Acrescentar elementos ao dicionário"
   ]
  },
  {
   "cell_type": "code",
   "execution_count": 30,
   "metadata": {},
   "outputs": [],
   "source": [
    "varDictAlt.update({0 : {'pnome':'Cláudia', 'unome':'Rodrigues', 'idade': 27, 'altura': 1.81},})"
   ]
  },
  {
   "cell_type": "code",
   "execution_count": 31,
   "metadata": {},
   "outputs": [
    {
     "name": "stdout",
     "output_type": "stream",
     "text": [
      "{0: {'pnome': 'Cláudia', 'unome': 'Rodrigues', 'idade': 27, 'altura': 1.81}, 1: {'pnome': 'Luís', 'unome': 'Santos', 'idade': 35, 'altura': 1.8}, 2: {'pnome': 'Mónica', 'unome': 'Rebelo', 'idade': 25, 'altura': 1.85}}\n"
     ]
    }
   ],
   "source": [
    "print(varDictAlt)"
   ]
  },
  {
   "cell_type": "code",
   "execution_count": 32,
   "metadata": {},
   "outputs": [],
   "source": [
    "varDictAlt.update({3 : {'pnome':'João', 'unome':'Araújo', 'idade': 40, 'altura': 1.78},})"
   ]
  },
  {
   "cell_type": "code",
   "execution_count": 33,
   "metadata": {},
   "outputs": [
    {
     "name": "stdout",
     "output_type": "stream",
     "text": [
      "{0: {'pnome': 'Cláudia', 'unome': 'Rodrigues', 'idade': 27, 'altura': 1.81}, 1: {'pnome': 'Luís', 'unome': 'Santos', 'idade': 35, 'altura': 1.8}, 2: {'pnome': 'Mónica', 'unome': 'Rebelo', 'idade': 25, 'altura': 1.85}, 3: {'pnome': 'João', 'unome': 'Araújo', 'idade': 40, 'altura': 1.78}}\n"
     ]
    }
   ],
   "source": [
    "print(varDictAlt)"
   ]
  },
  {
   "cell_type": "markdown",
   "metadata": {},
   "source": [
    "## Eliminar um elemento do dicionário"
   ]
  },
  {
   "cell_type": "code",
   "execution_count": 34,
   "metadata": {},
   "outputs": [
    {
     "data": {
      "text/plain": [
       "{'pnome': 'Luís', 'unome': 'Santos', 'idade': 35, 'altura': 1.8}"
      ]
     },
     "execution_count": 34,
     "metadata": {},
     "output_type": "execute_result"
    }
   ],
   "source": [
    "varDictAlt.pop(1)"
   ]
  },
  {
   "cell_type": "code",
   "execution_count": 35,
   "metadata": {},
   "outputs": [
    {
     "name": "stdout",
     "output_type": "stream",
     "text": [
      "{0: {'pnome': 'Cláudia', 'unome': 'Rodrigues', 'idade': 27, 'altura': 1.81}, 2: {'pnome': 'Mónica', 'unome': 'Rebelo', 'idade': 25, 'altura': 1.85}, 3: {'pnome': 'João', 'unome': 'Araújo', 'idade': 40, 'altura': 1.78}}\n"
     ]
    }
   ],
   "source": [
    "print(varDictAlt)"
   ]
  },
  {
   "cell_type": "markdown",
   "metadata": {},
   "source": [
    "### Extrair palavras-chave do dicionário"
   ]
  },
  {
   "cell_type": "code",
   "execution_count": 38,
   "metadata": {},
   "outputs": [
    {
     "name": "stdout",
     "output_type": "stream",
     "text": [
      "[0, 2, 3]\n"
     ]
    }
   ],
   "source": [
    "varDictKeys = varDictAlt.keys()\n",
    "\n",
    "varDictKeysList = list(varDictKeys)\n",
    "\n",
    "print(varDictKeysList)"
   ]
  },
  {
   "cell_type": "code",
   "execution_count": 40,
   "metadata": {},
   "outputs": [],
   "source": [
    "varDictValues = varDictAlt.values()\n",
    "\n",
    "varDictValuesList = list(varDictValues)"
   ]
  },
  {
   "cell_type": "code",
   "execution_count": 41,
   "metadata": {},
   "outputs": [
    {
     "name": "stdout",
     "output_type": "stream",
     "text": [
      "[{'pnome': 'Cláudia', 'unome': 'Rodrigues', 'idade': 27, 'altura': 1.81}, {'pnome': 'Mónica', 'unome': 'Rebelo', 'idade': 25, 'altura': 1.85}, {'pnome': 'João', 'unome': 'Araújo', 'idade': 40, 'altura': 1.78}]\n"
     ]
    }
   ],
   "source": [
    "print(varDictValuesList)"
   ]
  },
  {
   "cell_type": "code",
   "execution_count": 44,
   "metadata": {},
   "outputs": [
    {
     "data": {
      "text/plain": [
       "1.81"
      ]
     },
     "execution_count": 44,
     "metadata": {},
     "output_type": "execute_result"
    }
   ],
   "source": [
    "varDictValuesList[0]['altura']"
   ]
  },
  {
   "cell_type": "markdown",
   "metadata": {},
   "source": [
    "# 2. Funções implicitas\n",
    "## 2.1. Range"
   ]
  },
  {
   "cell_type": "code",
   "execution_count": 49,
   "metadata": {},
   "outputs": [
    {
     "name": "stdout",
     "output_type": "stream",
     "text": [
      "range(0, 10)\n",
      "0\n",
      "1\n",
      "2\n",
      "3\n",
      "4\n",
      "5\n",
      "6\n",
      "7\n",
      "8\n",
      "9\n"
     ]
    }
   ],
   "source": [
    "print(range(10)) # Criar um arranjo de numeros de 0 a 10 exclusivo\n",
    "\n",
    "for i in range(10):\n",
    "    print(i)\n"
   ]
  },
  {
   "cell_type": "code",
   "execution_count": 52,
   "metadata": {},
   "outputs": [
    {
     "name": "stdout",
     "output_type": "stream",
     "text": [
      "1\n",
      "4\n",
      "7\n",
      "10\n",
      "13\n",
      "16\n",
      "19\n",
      "22\n",
      "25\n",
      "28\n"
     ]
    }
   ],
   "source": [
    "x = range(1,30,3)\n",
    "\n",
    "for i in x:\n",
    "    print(i)"
   ]
  },
  {
   "cell_type": "code",
   "execution_count": 54,
   "metadata": {},
   "outputs": [
    {
     "data": {
      "text/plain": [
       "[{'pnome': 'Cláudia', 'unome': 'Rodrigues', 'idade': 27, 'altura': 1.81},\n",
       " {'pnome': 'Mónica', 'unome': 'Rebelo', 'idade': 25, 'altura': 1.85},\n",
       " {'pnome': 'João', 'unome': 'Araújo', 'idade': 40, 'altura': 1.78}]"
      ]
     },
     "execution_count": 54,
     "metadata": {},
     "output_type": "execute_result"
    }
   ],
   "source": [
    "varDictValuesList"
   ]
  },
  {
   "cell_type": "markdown",
   "metadata": {},
   "source": [
    "## Criar um arranjo do numero de elemento de uma lista\n",
    "### Numero de elementos de uma lista(ou qualquer coleção de dados e indexavel)"
   ]
  },
  {
   "cell_type": "code",
   "execution_count": 55,
   "metadata": {},
   "outputs": [
    {
     "data": {
      "text/plain": [
       "3"
      ]
     },
     "execution_count": 55,
     "metadata": {},
     "output_type": "execute_result"
    }
   ],
   "source": [
    "len(varDictValuesList)"
   ]
  },
  {
   "cell_type": "code",
   "execution_count": 56,
   "metadata": {},
   "outputs": [
    {
     "name": "stdout",
     "output_type": "stream",
     "text": [
      "0\n",
      "1\n",
      "2\n"
     ]
    }
   ],
   "source": [
    "for i in range(len(varDictValuesList)):\n",
    "    print(i)\n"
   ]
  },
  {
   "cell_type": "code",
   "execution_count": 57,
   "metadata": {},
   "outputs": [
    {
     "name": "stdout",
     "output_type": "stream",
     "text": [
      "{'pnome': 'Cláudia', 'unome': 'Rodrigues', 'idade': 27, 'altura': 1.81}\n",
      "{'pnome': 'Mónica', 'unome': 'Rebelo', 'idade': 25, 'altura': 1.85}\n",
      "{'pnome': 'João', 'unome': 'Araújo', 'idade': 40, 'altura': 1.78}\n"
     ]
    }
   ],
   "source": [
    "for i in range(len(varDictValuesList)):\n",
    "    print(varDictValuesList[i])"
   ]
  },
  {
   "cell_type": "code",
   "execution_count": 59,
   "metadata": {},
   "outputs": [
    {
     "name": "stdout",
     "output_type": "stream",
     "text": [
      "-1\n",
      "-3\n",
      "-5\n",
      "-7\n",
      "-9\n",
      "-11\n",
      "-13\n",
      "-15\n",
      "-17\n",
      "-19\n",
      "-21\n",
      "-23\n",
      "-25\n",
      "-27\n",
      "-29\n",
      "-31\n",
      "-33\n",
      "-35\n",
      "-37\n",
      "-39\n",
      "-41\n",
      "-43\n",
      "-45\n",
      "-47\n",
      "-49\n"
     ]
    }
   ],
   "source": [
    "for i in range(-1,-50,-2):\n",
    "    print(i)"
   ]
  },
  {
   "cell_type": "markdown",
   "metadata": {},
   "source": [
    "## 2.2. Frozen Set"
   ]
  },
  {
   "cell_type": "code",
   "execution_count": 60,
   "metadata": {},
   "outputs": [
    {
     "name": "stdout",
     "output_type": "stream",
     "text": [
      "frozenset({27, 'Cláudia', 'Rodrigues', 1.81})\n"
     ]
    }
   ],
   "source": [
    "varFrozenSet = frozenset(varDictValuesList[0].values())\n",
    "\n",
    "print(varFrozenSet)\n",
    "\n",
    "# Não permite atualizar, adicionar ou remover conteúdo"
   ]
  },
  {
   "cell_type": "code",
   "execution_count": 61,
   "metadata": {},
   "outputs": [
    {
     "ename": "TypeError",
     "evalue": "unhashable type: 'dict'",
     "output_type": "error",
     "traceback": [
      "\u001b[1;31m---------------------------------------------------------------------------\u001b[0m",
      "\u001b[1;31mTypeError\u001b[0m                                 Traceback (most recent call last)",
      "Cell \u001b[1;32mIn[61], line 1\u001b[0m\n\u001b[1;32m----> 1\u001b[0m varFrozenSet \u001b[38;5;241m=\u001b[39m \u001b[38;5;28mfrozenset\u001b[39m(varDictValuesList)\n",
      "\u001b[1;31mTypeError\u001b[0m: unhashable type: 'dict'"
     ]
    }
   ],
   "source": [
    "varFrozenSet = frozenset(varDictValuesList)\n",
    "\n",
    "# Não permite criar a variável se houver coleção de dados dentro de coleção de dados"
   ]
  },
  {
   "cell_type": "markdown",
   "metadata": {},
   "source": [
    "## Valores com bases diferentes"
   ]
  },
  {
   "cell_type": "code",
   "execution_count": 64,
   "metadata": {},
   "outputs": [],
   "source": [
    "varBin = 0b1010\n",
    "\n",
    "varOct = 0o10\n",
    "\n",
    "varHex = 0xF"
   ]
  },
  {
   "cell_type": "markdown",
   "metadata": {},
   "source": [
    "# 3. Strings\n",
    "## 3.1. Concatenar Strings"
   ]
  },
  {
   "cell_type": "code",
   "execution_count": 65,
   "metadata": {},
   "outputs": [
    {
     "name": "stdout",
     "output_type": "stream",
     "text": [
      "Python\n"
     ]
    }
   ],
   "source": [
    "print('Py' + 'thon')"
   ]
  },
  {
   "cell_type": "code",
   "execution_count": 66,
   "metadata": {},
   "outputs": [
    {
     "name": "stdout",
     "output_type": "stream",
     "text": [
      "PyPyPython\n"
     ]
    }
   ],
   "source": [
    "print(3 * 'Py' + 'thon')"
   ]
  },
  {
   "cell_type": "code",
   "execution_count": 67,
   "metadata": {},
   "outputs": [
    {
     "name": "stdout",
     "output_type": "stream",
     "text": [
      "PythonPythonPython\n"
     ]
    }
   ],
   "source": [
    "print(3 * ('Py' + 'thon'))"
   ]
  },
  {
   "cell_type": "markdown",
   "metadata": {},
   "source": [
    "## 3.2. Localizar e extrair secções das strings"
   ]
  },
  {
   "cell_type": "code",
   "execution_count": 69,
   "metadata": {},
   "outputs": [
    {
     "name": "stdout",
     "output_type": "stream",
     "text": [
      "['__add__', '__class__', '__contains__', '__delattr__', '__dir__', '__doc__', '__eq__', '__format__', '__ge__', '__getattribute__', '__getitem__', '__getnewargs__', '__getstate__', '__gt__', '__hash__', '__init__', '__init_subclass__', '__iter__', '__le__', '__len__', '__lt__', '__mod__', '__mul__', '__ne__', '__new__', '__reduce__', '__reduce_ex__', '__repr__', '__rmod__', '__rmul__', '__setattr__', '__sizeof__', '__str__', '__subclasshook__', 'capitalize', 'casefold', 'center', 'count', 'encode', 'endswith', 'expandtabs', 'find', 'format', 'format_map', 'index', 'isalnum', 'isalpha', 'isascii', 'isdecimal', 'isdigit', 'isidentifier', 'islower', 'isnumeric', 'isprintable', 'isspace', 'istitle', 'isupper', 'join', 'ljust', 'lower', 'lstrip', 'maketrans', 'partition', 'removeprefix', 'removesuffix', 'replace', 'rfind', 'rindex', 'rjust', 'rpartition', 'rsplit', 'rstrip', 'split', 'splitlines', 'startswith', 'strip', 'swapcase', 'title', 'translate', 'upper', 'zfill']\n"
     ]
    }
   ],
   "source": [
    "word = 'Python'\n",
    "\n",
    "print(dir(word))"
   ]
  },
  {
   "cell_type": "code",
   "execution_count": 71,
   "metadata": {},
   "outputs": [
    {
     "name": "stdout",
     "output_type": "stream",
     "text": [
      "P\n",
      "h\n"
     ]
    }
   ],
   "source": [
    "print(word[0]) # Caracter na posição 0\n",
    "\n",
    "print(word[3]) # Caracter na posição 3"
   ]
  },
  {
   "cell_type": "code",
   "execution_count": null,
   "metadata": {},
   "outputs": [],
   "source": [
    "'''\n",
    " para mais tarde recordar\n",
    " +---+---+---+---+---+---+\n",
    " | P | y | t | h | o | n |\n",
    " +---+---+---+---+---+---+\n",
    " 0   1   2   3   4   5   \n",
    "-6  -5  -4  -3  -2  -1\n",
    "'''"
   ]
  },
  {
   "cell_type": "code",
   "execution_count": 74,
   "metadata": {},
   "outputs": [
    {
     "data": {
      "text/plain": [
       "'n'"
      ]
     },
     "execution_count": 74,
     "metadata": {},
     "output_type": "execute_result"
    }
   ],
   "source": [
    "word = 'Python'\n",
    "\n",
    "x = len(word)\n",
    "\n",
    "word[x-1] # Aceder ao ultimo caracter da string por método de indexação"
   ]
  },
  {
   "cell_type": "code",
   "execution_count": 75,
   "metadata": {},
   "outputs": [
    {
     "data": {
      "text/plain": [
       "'n'"
      ]
     },
     "execution_count": 75,
     "metadata": {},
     "output_type": "execute_result"
    }
   ],
   "source": [
    "word = 'Python'\n",
    "\n",
    "word[len(word)-1] # Aceder ao ultimo caracter da string por método de indexação"
   ]
  },
  {
   "cell_type": "code",
   "execution_count": 76,
   "metadata": {},
   "outputs": [
    {
     "name": "stdout",
     "output_type": "stream",
     "text": [
      "n\n"
     ]
    }
   ],
   "source": [
    "print(word[-1]) # Aceder ao ultimo elemento da string por método de indexação negativa"
   ]
  },
  {
   "cell_type": "code",
   "execution_count": 77,
   "metadata": {},
   "outputs": [
    {
     "data": {
      "text/plain": [
       "'P'"
      ]
     },
     "execution_count": 77,
     "metadata": {},
     "output_type": "execute_result"
    }
   ],
   "source": [
    "word = 'Python'\n",
    "\n",
    "a = 0\n",
    "\n",
    "word[a]"
   ]
  },
  {
   "cell_type": "code",
   "execution_count": 80,
   "metadata": {},
   "outputs": [
    {
     "name": "stdout",
     "output_type": "stream",
     "text": [
      "Py\n",
      "Py\n",
      "Python\n"
     ]
    }
   ],
   "source": [
    "word = 'Python'\n",
    "\n",
    "a = 0\n",
    "b = 2\n",
    "\n",
    "print(word[0:2]) # Caracteres do indice 0 a 2, com indice 2 exclusivo\n",
    "print(word[a:b]) # Caracteres do indice 0 a 2, com indice 2 exclusivo\n",
    "\n",
    "print(word[0:len(word)])"
   ]
  },
  {
   "cell_type": "code",
   "execution_count": null,
   "metadata": {},
   "outputs": [],
   "source": [
    "print(word[2:]) # Caracteres do indice 2 inclusivo, até ao final da string"
   ]
  },
  {
   "cell_type": "code",
   "execution_count": null,
   "metadata": {},
   "outputs": [],
   "source": [
    "word = 'Python'\n",
    "\n",
    "print(word[:5]) # Caracteres do inicio (indice 0), até ao indice 5, exclusivo"
   ]
  },
  {
   "cell_type": "code",
   "execution_count": 81,
   "metadata": {},
   "outputs": [
    {
     "name": "stdout",
     "output_type": "stream",
     "text": [
      "Pyth\n"
     ]
    }
   ],
   "source": [
    "word = 'Python'\n",
    "#       0 1 2 3 4 5\n",
    "#      -6-5-4-3-2-1\n",
    "\n",
    "print(word[:-2]) # Caracteres do indice 0 até ao indice -2 (indice 4), exclusivo"
   ]
  },
  {
   "cell_type": "code",
   "execution_count": 83,
   "metadata": {},
   "outputs": [
    {
     "name": "stdout",
     "output_type": "stream",
     "text": [
      "on\n"
     ]
    }
   ],
   "source": [
    "print(word[-2:]) # Caracteres do indice -2 (indice 4) inclusive, até ao final"
   ]
  },
  {
   "cell_type": "code",
   "execution_count": 85,
   "metadata": {},
   "outputs": [
    {
     "data": {
      "text/plain": [
       "'João'"
      ]
     },
     "execution_count": 85,
     "metadata": {},
     "output_type": "execute_result"
    }
   ],
   "source": [
    "word2 = 'sdfasdkfbajksdfsdabkdsjgbaskjgasbdkjwrebfvsbkisdfsudvJoão'\n",
    "\n",
    "word2[-4:]"
   ]
  },
  {
   "cell_type": "markdown",
   "metadata": {},
   "source": [
    "## 3.3. Funções embutidas nas Strings"
   ]
  },
  {
   "cell_type": "code",
   "execution_count": 8,
   "metadata": {},
   "outputs": [
    {
     "name": "stdout",
     "output_type": "stream",
     "text": [
      "     pneumoultramicr oscopicossi licovulcano conióticos     \n",
      "                                                                           pneumoultramicr oscopicossi licovulcano conióticos                                                                           \n",
      "     pneumoultramicr oPyPyPyopicossi licovulcano conióticos     \n"
     ]
    }
   ],
   "source": [
    "myString = '     pneumoultramicr oscopicossi licovulcano conióticos     '\n",
    "myStringNum = '12345678'\n",
    "\n",
    "lenString = len(myString) # Comprimento de uma string (numero de caracteres) ou coleção de dados\n",
    "findString = myString.find('s') # Indíce da primeira ocorrência de um elemento ou sequencia de elementos\n",
    "alphaString = myString.isalpha() # Devolve True se a string for alfabética\n",
    "digitString = myString.isdigit() # Devolve True se a string contiver apenas numeros\n",
    "digitStringAlt = myStringNum.isdigit()\n",
    "digitStringAlt2 = myStringNum.isnumeric()\n",
    "digitStringAlt2 = myStringNum.isdecimal()\n",
    "lowerString = myString.lower() # Converter string para letras minisculas\n",
    "upperString = myString.upper() # Converter string para letras maiusculas\n",
    "capitalizeString = myString.capitalize() # Converte o primeiro caracter para maiusculo e os restantes para minusculo\n",
    "titleString = myString.title() # Coloca todos os primeiros elementos separados por espaço com letra maiuscula\n",
    "countString = myString.count('c',0,30) # Contagem do nnumero de ocorrências de um caracter ou conjunto de caracteres. Opcionalmente pode-se colocar os indices de pesquisa\n",
    "stripString = myString.strip() # Elimina espaços em branco à esquerda e à direita da string\n",
    "lStripString = myString.lstrip() # Elimina espaços em branco à esquerda da string\n",
    "rStringString = myString.rstrip() # Elimina espaços em branco à direita da string\n",
    "print(myString)\n",
    "centerString = myString.center(200) # Centra a string num conjunto de espaços reservados\n",
    "print(centerString)\n",
    "replaceString = myString.replace('sc',3 * 'Py') # Sibstitui caracter ou conjunto de caracteres\n",
    "print(replaceString)"
   ]
  },
  {
   "attachments": {
    "image.png": {
     "image/png": "[encoded data removed]"
    }
   },
   "cell_type": "markdown",
   "metadata": {},
   "source": [
    "![image.png](attachment:image.png)"
   ]
  },
  {
   "cell_type": "markdown",
   "metadata": {},
   "source": [
    "[Link para funções de numeração](https://datagy.io/python-isdigit/)"
   ]
  },
  {
   "cell_type": "code",
   "execution_count": null,
   "metadata": {},
   "outputs": [],
   "source": [
    "'2²'.isdecimal();'2²'.isnumeric()\n",
    "'2³'"
   ]
  },
  {
   "cell_type": "code",
   "execution_count": 21,
   "metadata": {},
   "outputs": [
    {
     "name": "stdout",
     "output_type": "stream",
     "text": [
      "['Olá', 'Python;', 'é;', 'uma;', 'linguagem;', 'de;', 'programação']\n",
      "7\n",
      "['Olá', 'Python;', 'é;', 'uma;', 'linguagem;', 'de;', 'programação']\n"
     ]
    }
   ],
   "source": [
    "myString2 = 'Olá Python; é; uma; linguagem; de; programação'\n",
    "\n",
    "listString = myString2.split() # Devolve lista de elementos da string, separados por espaço\n",
    "\n",
    "listString2 = myString2.split(sep=' ') # Devolve lista de elementos da string, separados por um elemento definido\n",
    "\n",
    "print(listString)\n",
    "print(len(listString[1]))\n",
    "\n",
    "print(listString2)\n",
    "\n",
    "listString3 = list(myString2) # Devolve lista de elementos, em que cada caracter é um elemento da lista"
   ]
  },
  {
   "cell_type": "markdown",
   "metadata": {},
   "source": [
    "## 3.4. Trabalhar com listas"
   ]
  },
  {
   "cell_type": "code",
   "execution_count": 26,
   "metadata": {},
   "outputs": [
    {
     "data": {
      "text/plain": [
       "[9, 16, 25]"
      ]
     },
     "execution_count": 26,
     "metadata": {},
     "output_type": "execute_result"
    }
   ],
   "source": [
    "squares = [1, 4, 9, 16, 25]\n",
    "#          0  1  2   3   4\n",
    "#         -5 -4 -3  -2  -1\n",
    "\n",
    "squares[2] # Indexação direta: devolve o elemento da posição. Neste caso um inteiro\n",
    "squares[-3] # Indexação direta: devolve o elemento da posição. Neste caso um inteiro\n",
    "squares[-3:] # Indexação de intervalo: devolve uma lista"
   ]
  },
  {
   "cell_type": "markdown",
   "metadata": {},
   "source": [
    "### 3.4.1. Concatenação de listas"
   ]
  },
  {
   "cell_type": "code",
   "execution_count": 29,
   "metadata": {},
   "outputs": [
    {
     "name": "stdout",
     "output_type": "stream",
     "text": [
      "[1, 4, 9, 16, 25, 36, 49, 65, 81, 100, 11.3, 'João', True, 15]\n"
     ]
    }
   ],
   "source": [
    "squares2 = [36, 49, 65, 81, 100]\n",
    "\n",
    "conSquares = squares + squares2\n",
    "\n",
    "squares3 = [11.3,'João', True, 0b1111]\n",
    "\n",
    "print(conSquares + squares3)\n",
    "\n"
   ]
  },
  {
   "cell_type": "code",
   "execution_count": 30,
   "metadata": {},
   "outputs": [],
   "source": [
    "conSquares[-3] = 64 # Atribuiç um valor especifico à lista por indexação\n",
    "conSquares[7] = 64"
   ]
  },
  {
   "cell_type": "markdown",
   "metadata": {},
   "source": [
    "### 3.4.2. Acrescentar no final da lista"
   ]
  },
  {
   "cell_type": "code",
   "execution_count": 53,
   "metadata": {},
   "outputs": [],
   "source": [
    "squares.append(36) # coloca um elemento no final da lista, alterando o conteúdo da variável"
   ]
  },
  {
   "cell_type": "code",
   "execution_count": 43,
   "metadata": {},
   "outputs": [],
   "source": [
    "squares4 = squares + [49] # Coloca um elmento no final da lista, sem alterar a variável original"
   ]
  },
  {
   "cell_type": "code",
   "execution_count": 49,
   "metadata": {},
   "outputs": [],
   "source": [
    "squares = squares + [49] # Declaração explicita que altera a variável original. Igual à função append()"
   ]
  },
  {
   "cell_type": "markdown",
   "metadata": {},
   "source": [
    "### 3.4.3. Numero de ocorrências de uma lista"
   ]
  },
  {
   "cell_type": "code",
   "execution_count": 56,
   "metadata": {},
   "outputs": [
    {
     "data": {
      "text/plain": [
       "0"
      ]
     },
     "execution_count": 56,
     "metadata": {},
     "output_type": "execute_result"
    }
   ],
   "source": [
    "lenLista = len(conSquares) # obter o numero de elementos da lista\n",
    "\n",
    "conSquares.count(26) # Obter contagem de elementos da lista"
   ]
  },
  {
   "cell_type": "markdown",
   "metadata": {},
   "source": [
    "### 3.4.4. Substituir e remover elementos da lista"
   ]
  },
  {
   "cell_type": "code",
   "execution_count": 67,
   "metadata": {},
   "outputs": [
    {
     "name": "stdout",
     "output_type": "stream",
     "text": [
      "['a', 'b', 'c', 'd', 'e', 'f', 'g']\n",
      "[1, 2, 3, 'd', 'e', 'f', 'g']\n"
     ]
    }
   ],
   "source": [
    "letrasString = 'a b c d e f g'\n",
    "\n",
    "listString = letrasString.split()\n",
    "\n",
    "numeros = [1,2,3,4,5,6,7]\n",
    "\n",
    "print(listString)\n",
    "\n",
    "newList = numeros[:3] + listString[3:]\n",
    "\n",
    "print(newList)"
   ]
  },
  {
   "cell_type": "markdown",
   "metadata": {},
   "source": [
    "### 3.4.5. Remover elementos da lista através de indice"
   ]
  },
  {
   "cell_type": "code",
   "execution_count": 65,
   "metadata": {},
   "outputs": [
    {
     "name": "stdout",
     "output_type": "stream",
     "text": [
      "['a', 'b', 'c', 'd', 'e', 'f', 'g']\n",
      "['a', 'c', 'd', 'e', 'f', 'g']\n"
     ]
    }
   ],
   "source": [
    "print(listString)\n",
    "\n",
    "listString.pop(1) # Elimina o elemento do indice da lista e redimensiona os indice da lista\n",
    "\n",
    "print(listString)"
   ]
  },
  {
   "cell_type": "markdown",
   "metadata": {},
   "source": [
    "### 3.4.6. Acrescentar elementos na lista através de indice"
   ]
  },
  {
   "cell_type": "code",
   "execution_count": 68,
   "metadata": {},
   "outputs": [
    {
     "name": "stdout",
     "output_type": "stream",
     "text": [
      "['a', 'b', 'b', 'c', 'd', 'e', 'f', 'g']\n"
     ]
    }
   ],
   "source": [
    "listString.insert(1,listString[1])\n",
    "\n",
    "print(listString)"
   ]
  },
  {
   "cell_type": "markdown",
   "metadata": {},
   "source": [
    "### 3.4.7. Descobrir qual o indice de um elemento na lista"
   ]
  },
  {
   "cell_type": "code",
   "execution_count": 71,
   "metadata": {},
   "outputs": [
    {
     "ename": "ValueError",
     "evalue": "'e' is not in list",
     "output_type": "error",
     "traceback": [
      "\u001b[1;31m---------------------------------------------------------------------------\u001b[0m",
      "\u001b[1;31mValueError\u001b[0m                                Traceback (most recent call last)",
      "Cell \u001b[1;32mIn[71], line 1\u001b[0m\n\u001b[1;32m----> 1\u001b[0m listString\u001b[38;5;241m.\u001b[39mindex(\u001b[38;5;124m'\u001b[39m\u001b[38;5;124me\u001b[39m\u001b[38;5;124m'\u001b[39m,\u001b[38;5;241m0\u001b[39m,\u001b[38;5;241m3\u001b[39m)\n",
      "\u001b[1;31mValueError\u001b[0m: 'e' is not in list"
     ]
    }
   ],
   "source": [
    "listString.index('e',0,3) # Indice da primeira ocorrência do elemento, com especificação opcional de intervalo de indices"
   ]
  },
  {
   "cell_type": "markdown",
   "metadata": {},
   "source": [
    "## 3.5. Listas dentro de listas"
   ]
  },
  {
   "cell_type": "code",
   "execution_count": 73,
   "metadata": {},
   "outputs": [
    {
     "data": {
      "text/plain": [
       "'^'"
      ]
     },
     "execution_count": 73,
     "metadata": {},
     "output_type": "execute_result"
    }
   ],
   "source": [
    "letras = ['a','b','c','d']\n",
    "\n",
    "numeros = [1,2,3,4]\n",
    "\n",
    "char = ['º','~','?','^']\n",
    "\n",
    "operadores = ['+','-','*','/']\n",
    "\n",
    "lista = [letras,numeros,char,operadores]\n",
    "\n",
    "lista[2][3]"
   ]
  },
  {
   "cell_type": "code",
   "execution_count": null,
   "metadata": {},
   "outputs": [],
   "source": [
    "dataset = lista"
   ]
  }
 ],
 "metadata": {
  "kernelspec": {
   "display_name": "UFCD_10793_04_AG",
   "language": "python",
   "name": "python3"
  },
  "language_info": {
   "codemirror_mode": {
    "name": "ipython",
    "version": 3
   },
   "file_extension": ".py",
   "mimetype": "text/x-python",
   "name": "python",
   "nbconvert_exporter": "python",
   "pygments_lexer": "ipython3",
   "version": "3.11.7"
  }
 },
 "nbformat": 4,
 "nbformat_minor": 2
}
