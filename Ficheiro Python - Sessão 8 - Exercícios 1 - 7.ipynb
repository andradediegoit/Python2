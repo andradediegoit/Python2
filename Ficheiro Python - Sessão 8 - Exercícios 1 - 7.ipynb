{
 "cells": [
  {
   "cell_type": "markdown",
   "metadata": {},
   "source": [
    "## Exercício 1"
   ]
  },
  {
   "cell_type": "code",
   "execution_count": 6,
   "metadata": {},
   "outputs": [
    {
     "name": "stdout",
     "output_type": "stream",
     "text": [
      "Não foi introduzido nenhum input\n"
     ]
    }
   ],
   "source": [
    "var = input('Introduza um elemento')\n",
    "\n",
    "if var.isdigit() == True:\n",
    "    print('Numero do tipo inteiro introduzido.')\n",
    "else:\n",
    "    try:\n",
    "        float(var)\n",
    "        print('Numero do tipo float introduzido.')\n",
    "    except:\n",
    "        if len(var) == 1:\n",
    "            print('Caracter introduzido.')\n",
    "        elif len(var) > 1:\n",
    "            print(f'Conjunto de caracteres introduzido.\\nContém {len(var)} caracteres')\n",
    "        else:\n",
    "            print('Não foi introduzido nenhum input')\n"
   ]
  },
  {
   "attachments": {},
   "cell_type": "markdown",
   "metadata": {},
   "source": [
    "## Alternativa 1"
   ]
  },
  {
   "cell_type": "code",
   "execution_count": 8,
   "metadata": {},
   "outputs": [
    {
     "name": "stdout",
     "output_type": "stream",
     "text": [
      "Inseriu um conjunto de caracteres.\n"
     ]
    }
   ],
   "source": [
    "entrada = input(\"Escreva algo: \")\n",
    "\n",
    "if entrada.isnumeric():\n",
    "    print(\"Inseriu um número.\")\n",
    "elif entrada.isalpha() and len(entrada) == 1:\n",
    "    print(\"Inseriu uma caracter.\")\n",
    "else:\n",
    "    print(\"Inseriu um conjunto de caracteres.\")\n",
    "\n",
    "# Não contempla os numeros do tipo float\n",
    "# Não contempla input vazio"
   ]
  },
  {
   "attachments": {},
   "cell_type": "markdown",
   "metadata": {},
   "source": [
    "## Alternativa 2"
   ]
  },
  {
   "cell_type": "code",
   "execution_count": 10,
   "metadata": {},
   "outputs": [
    {
     "name": "stdout",
     "output_type": "stream",
     "text": [
      "Foi introduzido um número\n",
      "Programa terminado\n"
     ]
    }
   ],
   "source": [
    "Input = input (\"Introduza algo:\")\n",
    "\n",
    "try:\n",
    "    Input2 = float(Input)\n",
    "    print('Foi introduzido um número')\n",
    "except ValueError:\n",
    "    if len(Input)==1:\n",
    "        print('Foi introduzido um caracter')\n",
    "    elif len(Input) > 1:\n",
    "        print('Foi introduzido um conjunto de caracteres')\n",
    "    else:\n",
    "        print('Não foi introduzido nenhum input')\n",
    "finally:\n",
    "    print('Programa terminado')"
   ]
  },
  {
   "cell_type": "markdown",
   "metadata": {},
   "source": [
    "## Exercício 2"
   ]
  },
  {
   "cell_type": "code",
   "execution_count": 2,
   "metadata": {},
   "outputs": [
    {
     "name": "stdout",
     "output_type": "stream",
     "text": [
      "Operador inválido\n",
      "Resultado: 1600.0\n"
     ]
    }
   ],
   "source": [
    "num2_aux = ''\n",
    "while True:\n",
    "    try:\n",
    "        num1 = float(input('Introduza o primeiro numero'))\n",
    "        num2_aux = input('Introduza o segundo numero\\nColoque a letra A para alterar o primeiro numero')\n",
    "        num2 = float(num2_aux)\n",
    "    except:\n",
    "        if num2_aux.upper() != 'A':\n",
    "            print('Foram introduzidos valores inválidos')\n",
    "        else:\n",
    "            continue\n",
    "\n",
    "    else:\n",
    "        operador = input('Indroduza o operador.\\n+ Soma\\n- Subtração\\n* Multiplicação\\n/ Divisão')\n",
    "\n",
    "        if operador == '+':\n",
    "            resultado = num1 + num2\n",
    "        elif operador == '-':\n",
    "            resultado = num1 - num2\n",
    "        elif operador == '*':\n",
    "            resultado = num1 * num2\n",
    "        elif operador == '/':\n",
    "            if num2 != 0:\n",
    "                resultado = num1 / num2\n",
    "            else:\n",
    "                resultado = 'NaN' # NaN: Not a Number\n",
    "        else:\n",
    "            print('Operador inválido')\n",
    "            continue\n",
    "\n",
    "        print(f'Resultado: {resultado}')\n",
    "        break"
   ]
  },
  {
   "cell_type": "markdown",
   "metadata": {},
   "source": [
    "## Alternativa"
   ]
  },
  {
   "cell_type": "code",
   "execution_count": 5,
   "metadata": {},
   "outputs": [
    {
     "name": "stdout",
     "output_type": "stream",
     "text": [
      "************************************************************************\n",
      "**************************Calculadora básica****************************\n",
      "************************************************************************\n",
      "****Introduza a operação a realizar, usando os seguintes caracteres:****\n",
      "+: Soma\n",
      "-: Subtração\n",
      "x: Multiplicação\n",
      "/: Divisão\n",
      "Valores introduzidos são inválidos.\n"
     ]
    }
   ],
   "source": [
    "dictOperadores = {\n",
    "    'som': '+',\n",
    "    'sub': '-',\n",
    "    'mul': 'x',\n",
    "    'div': '/'\n",
    "}\n",
    "\n",
    "print('************************************************************************')\n",
    "print('**************************Calculadora básica****************************')\n",
    "print('************************************************************************')\n",
    "print('****Introduza a operação a realizar, usando os seguintes caracteres:****')\n",
    "print(f'{dictOperadores[\"som\"]}: Soma\\n{dictOperadores[\"sub\"]}: Subtração\\n{dictOperadores[\"mul\"]}: Multiplicação\\n' +\n",
    "      f'{dictOperadores[\"div\"]}: Divisão')\n",
    "operacao = input('Coloque a operação, com o primeiro numero, operador e o segundo numero')\n",
    "\n",
    "# Verificar se os dados inseridos são corretos\n",
    "\n",
    "try:\n",
    "    if operacao.find(dictOperadores['som']) > -1: # 1000+2000\n",
    "        indiceOperador = operacao.find(dictOperadores['som']) # indiceOperador = 4\n",
    "        primeiroNumero = float(operacao[:indiceOperador]) # float(operacao[0:4])\n",
    "        segundoNumero = float(operacao[indiceOperador + 1:]) #operacao[5:]\n",
    "        resultado = primeiroNumero + segundoNumero\n",
    "    elif operacao.find(dictOperadores['sub']) > -1:\n",
    "        indiceOperador = operacao.find(dictOperadores['sub'])\n",
    "        primeiroNumero = float(operacao[:indiceOperador])\n",
    "        segundoNumero = float(operacao[indiceOperador + 1:])\n",
    "        resultado = primeiroNumero - segundoNumero\n",
    "    elif operacao.find(dictOperadores['mul']) > -1:\n",
    "        indiceOperador = operacao.find(dictOperadores['mul'])\n",
    "        primeiroNumero = float(operacao[:indiceOperador])\n",
    "        segundoNumero = float(operacao[indiceOperador + 1:])\n",
    "        resultado = primeiroNumero * segundoNumero\n",
    "    elif operacao.find(dictOperadores['div']) > -1:\n",
    "        indiceOperador = operacao.find(dictOperadores['div'])\n",
    "        primeiroNumero = float(operacao[:indiceOperador])\n",
    "        segundoNumero = float(operacao[indiceOperador + 1:])\n",
    "        resultado = primeiroNumero / segundoNumero\n",
    "    else:\n",
    "        print('Operador não indroduzido.')\n",
    "except:\n",
    "    print('Valores introduzidos são inválidos.')\n",
    "else:\n",
    "    try:\n",
    "        print('%.2f %s %.2f = %.2f' % (primeiroNumero,operacao[indiceOperador], segundoNumero,resultado))\n",
    "    except:\n",
    "        pass\n",
    "\n"
   ]
  },
  {
   "cell_type": "code",
   "execution_count": 8,
   "metadata": {},
   "outputs": [
    {
     "name": "stdout",
     "output_type": "stream",
     "text": [
      "************************************************************************\n",
      "**************************Calculadora básica****************************\n",
      "************************************************************************\n",
      "****Introduza a operação a realizar, usando os seguintes caracteres:****\n",
      "+: Soma\n",
      "-: Subtração\n",
      "*: Multiplicação\n",
      "/: Divisão\n",
      "Valores introduzidos são inválidos.\n"
     ]
    }
   ],
   "source": [
    "dictOperadores = {\n",
    "    'som': '+',\n",
    "    'sub': '-',\n",
    "    'mul': '*',\n",
    "    'div': '/'\n",
    "}\n",
    "\n",
    "print('************************************************************************')\n",
    "print('**************************Calculadora básica****************************')\n",
    "print('************************************************************************')\n",
    "print('****Introduza a operação a realizar, usando os seguintes caracteres:****')\n",
    "print(f'{dictOperadores[\"som\"]}: Soma\\n{dictOperadores[\"sub\"]}: Subtração\\n{dictOperadores[\"mul\"]}: Multiplicação\\n' +\n",
    "      f'{dictOperadores[\"div\"]}: Divisão')\n",
    "operacao = input('Coloque a operação, com o primeiro numero, operador e o segundo numero')\n",
    "\n",
    "# Verificar se os dados inseridos são corretos\n",
    "# 1000+2000\n",
    "try:\n",
    "    op = -1\n",
    "    for i in dictOperadores:\n",
    "        if operacao.find(dictOperadores[i]) > -1: #dictOperadores[som];dictOperadores[sub];dictOperadores[mul];dictOperadores[div]\n",
    "            print(dictOperadores[i])\n",
    "            op = dictOperadores[i]\n",
    "            break\n",
    "    indiceOperador = operacao.find(op)\n",
    "    primeiroNumero = float(operacao[:indiceOperador])\n",
    "    segundoNumero = float(operacao[indiceOperador + 1:])\n",
    "    if op == dictOperadores['som']:\n",
    "        resultado = primeiroNumero + segundoNumero\n",
    "    elif op == dictOperadores['sub']:\n",
    "        resultado = primeiroNumero - segundoNumero\n",
    "    elif op == dictOperadores['mul']:\n",
    "        resultado = primeiroNumero * segundoNumero\n",
    "    elif op == dictOperadores['div']:\n",
    "        resultado = primeiroNumero / segundoNumero\n",
    "    else:\n",
    "        print('Operador não indroduzido.')\n",
    "except:\n",
    "    print('Valores introduzidos são inválidos.')\n",
    "else:\n",
    "    print('%.2f %s %.2f = %.2f' % (primeiroNumero,operacao[indiceOperador], segundoNumero,resultado))\n",
    "\n"
   ]
  },
  {
   "cell_type": "code",
   "execution_count": 12,
   "metadata": {},
   "outputs": [
    {
     "name": "stdout",
     "output_type": "stream",
     "text": [
      "Instruções de Utilização:\n",
      "Digite 's' para soma.\n",
      "Digite 'sub' para subtração.\n",
      "Digite 'm' para multiplicação.\n",
      "Digite 'd' para divisão.\n"
     ]
    },
    {
     "ename": "ValueError",
     "evalue": "could not convert string to float: '2,2'",
     "output_type": "error",
     "traceback": [
      "\u001b[1;31m---------------------------------------------------------------------------\u001b[0m",
      "\u001b[1;31mValueError\u001b[0m                                Traceback (most recent call last)",
      "Cell \u001b[1;32mIn[12], line 27\u001b[0m\n\u001b[0;32m     25\u001b[0m     \u001b[38;5;28mprint\u001b[39m(\u001b[38;5;124m\"\u001b[39m\u001b[38;5;124mResultado da subtração:\u001b[39m\u001b[38;5;124m\"\u001b[39m, subtracao(num1, num2))\n\u001b[0;32m     26\u001b[0m \u001b[38;5;28;01melif\u001b[39;00m operacao \u001b[38;5;241m==\u001b[39m \u001b[38;5;124m'\u001b[39m\u001b[38;5;124mm\u001b[39m\u001b[38;5;124m'\u001b[39m:\n\u001b[1;32m---> 27\u001b[0m     num1 \u001b[38;5;241m=\u001b[39m \u001b[38;5;28mfloat\u001b[39m(\u001b[38;5;28minput\u001b[39m(\u001b[38;5;124m\"\u001b[39m\u001b[38;5;124mDigite o primeiro número: \u001b[39m\u001b[38;5;124m\"\u001b[39m))\n\u001b[0;32m     28\u001b[0m     num2 \u001b[38;5;241m=\u001b[39m \u001b[38;5;28mfloat\u001b[39m(\u001b[38;5;28minput\u001b[39m(\u001b[38;5;124m\"\u001b[39m\u001b[38;5;124mDigite o segundo número: \u001b[39m\u001b[38;5;124m\"\u001b[39m))\n\u001b[0;32m     29\u001b[0m     \u001b[38;5;28mprint\u001b[39m(\u001b[38;5;124m\"\u001b[39m\u001b[38;5;124mResultado da multiplicação:\u001b[39m\u001b[38;5;124m\"\u001b[39m, multiplicacao(num1, num2))\n",
      "\u001b[1;31mValueError\u001b[0m: could not convert string to float: '2,2'"
     ]
    }
   ],
   "source": [
    "def soma(a, b):\n",
    "    return a + b\n",
    "def subtracao(a, b):\n",
    "    return a - b\n",
    "def multiplicacao(a, b):\n",
    "    return a * b\n",
    "def divisao(a, b):\n",
    "    if b != 0:\n",
    "        return a / b\n",
    "    else:\n",
    "        return \"Não é possível dividir por zero.\"\n",
    "print(\"Instruções de Utilização:\")\n",
    "print(\"Digite 's' para soma.\")\n",
    "print(\"Digite 'sub' para subtração.\")\n",
    "print(\"Digite 'm' para multiplicação.\")\n",
    "print(\"Digite 'd' para divisão.\")\n",
    "operacao = input(\"Escolha a operação desejada: \")\n",
    "if operacao == 's':\n",
    "    num1 = float(input(\"Digite o primeiro número: \"))\n",
    "    num2 = float(input(\"Digite o segundo número: \"))\n",
    "    print(\"Resultado da soma:\", soma(num1, num2))\n",
    "elif operacao == 'sub':\n",
    "    num1 = float(input(\"Digite o primeiro número: \"))\n",
    "    num2 = float(input(\"Digite o segundo número: \"))\n",
    "    print(\"Resultado da subtração:\", subtracao(num1, num2))\n",
    "elif operacao == 'm':\n",
    "    num1 = float(input(\"Digite o primeiro número: \"))\n",
    "    num2 = float(input(\"Digite o segundo número: \"))\n",
    "    print(\"Resultado da multiplicação:\", multiplicacao(num1, num2))\n",
    "elif operacao == 'd':\n",
    "    num1 = float(input(\"Digite o primeiro número: \"))\n",
    "    num2 = float(input(\"Digite o segundo número (diferente de zero): \"))\n",
    "    print(\"Resultado da divisão:\", divisao(num1, num2))\n",
    "else:\n",
    "    print(\"Operação inválida.\")"
   ]
  },
  {
   "cell_type": "markdown",
   "metadata": {},
   "source": [
    "## Exercício 3"
   ]
  },
  {
   "cell_type": "code",
   "execution_count": 15,
   "metadata": {},
   "outputs": [
    {
     "name": "stdout",
     "output_type": "stream",
     "text": [
      "Numero de ocorrências do nome asdfdsfgdfsgsdfg: 0\n"
     ]
    }
   ],
   "source": [
    "lista = ['João', 'Maria', 'João', 'Ricardo', 'Cátia', 'Joana', 'Ana', 'Vitor', 'Fernando', 'Joaquim']\n",
    "\n",
    "ocorrencias = []\n",
    "userInput = input('Introduza um nome')\n",
    "for i in range(len(lista)):\n",
    "    if lista[i] == userInput:\n",
    "        ocorrencias.append(i) \n",
    "print('Numero de ocorrências do nome %s: %d' %(userInput, len(ocorrencias)))\n",
    "if len(ocorrencias) > 0:\n",
    "    print('Indice(s) de ocorrências do nome %s na lista:' %(userInput))\n",
    "    for j in ocorrencias:\n",
    "        print('lista[' + str(j) + ']')"
   ]
  },
  {
   "cell_type": "code",
   "execution_count": 17,
   "metadata": {},
   "outputs": [
    {
     "name": "stdout",
     "output_type": "stream",
     "text": [
      "O nome sdgfdfzgxdfgzxfd não consta na lista actual.\n"
     ]
    }
   ],
   "source": [
    "nomes = [\"Sergio\", \"Fatima\", \"Beatriz\", \"Ines\", \"Tico\", \"Tobias\", \"Bruno\", \"Laura\", \"Carlos\", \"Irene\"]\n",
    "nome = input(\"Digite um nome para verificar se está na lista: \")\n",
    "if nome in nomes:\n",
    "    print(\"O nome\", nome, \"está na lista.\")\n",
    "else:\n",
    "    print(\"O nome\", nome, \"não consta na lista actual.\")"
   ]
  },
  {
   "attachments": {},
   "cell_type": "markdown",
   "metadata": {},
   "source": [
    "# Exercício 4"
   ]
  },
  {
   "cell_type": "code",
   "execution_count": 20,
   "metadata": {},
   "outputs": [
    {
     "name": "stdout",
     "output_type": "stream",
     "text": [
      "************************************************************************\n",
      "**************************Calculadora básica****************************\n",
      "************************************************************************\n",
      "****Introduza a operação a realizar, usando os seguintes caracteres:****\n",
      "+: Soma\n",
      "-: Subtração\n",
      "*:Multiplicação\n",
      "/: Divisão\n"
     ]
    },
    {
     "name": "stdout",
     "output_type": "stream",
     "text": [
      "Não se pode dividir por zero <class 'ZeroDivisionError'>\n"
     ]
    }
   ],
   "source": [
    "dictOperadores = {\n",
    "    'som': '+',\n",
    "    'sub': '-',\n",
    "    'mul': '*',\n",
    "    'div': '/'\n",
    "}\n",
    "print('************************************************************************')\n",
    "print('**************************Calculadora básica****************************')\n",
    "print('************************************************************************')\n",
    "print('****Introduza a operação a realizar, usando os seguintes caracteres:****')\n",
    "print(f'{dictOperadores[\"som\"]}: Soma\\n{dictOperadores[\"sub\"]}: Subtração\\n{dictOperadores[\"mul\"]}:' + \n",
    "      f'Multiplicação\\n{dictOperadores[\"div\"]}: Divisão')\n",
    "operacao = input('Coloque a operação, com o primeiro numero, operador e o segundo numero')\n",
    "\n",
    "# Verificar se os dados inseridos são corretos\n",
    "\n",
    "def funcOperacao(operacao, indiceOperador):\n",
    "    primeiroNumero = operacao[:indiceOperador]\n",
    "    operador = operacao[indiceOperador]\n",
    "    segundoNumero = operacao[indiceOperador + 1:] # 25+25\n",
    "    \n",
    "    try:\n",
    "        resultado = eval(primeiroNumero +  operador + segundoNumero)\n",
    "        print('%.2f %s %.2f = %.2f' % (float(primeiroNumero), operador, float(segundoNumero), float(resultado)))\n",
    "        return resultado\n",
    "    except SyntaxError:\n",
    "        print('Operação inválida')\n",
    "\n",
    "    '''\n",
    "    match operador:\n",
    "        case '+':\n",
    "            resultado = float(primeiroNumero) + float(segundoNumero)\n",
    "        case '-':\n",
    "            resultado = float(primeiroNumero) - float(segundoNumero)\n",
    "        case '*':\n",
    "            resultado = float(primeiroNumero) * float(segundoNumero)\n",
    "        case '/':\n",
    "            resultado = float(primeiroNumero) / float(segundoNumero)\n",
    "        case other:\n",
    "            pass\n",
    "\n",
    "    print(f'{primeiroNumero} {operador} {segundoNumero} = {resultado}')\n",
    "    '''\n",
    "try:\n",
    "    if operacao.find(dictOperadores['som']) > -1:\n",
    "        indiceOperador = operacao.find(dictOperadores['som'])\n",
    "        resultado = funcOperacao(operacao, indiceOperador)\n",
    "    elif operacao.find(dictOperadores['sub']) > -1:\n",
    "        indiceOperador = operacao.find(dictOperadores['sub']) #5185615656156-56161651616\n",
    "        resultado = funcOperacao(operacao, indiceOperador)\n",
    "    elif operacao.find(dictOperadores['mul']) > -1:\n",
    "        indiceOperador = operacao.find(dictOperadores['mul'])\n",
    "        resultado = funcOperacao(operacao, indiceOperador)\n",
    "    elif operacao.find(dictOperadores['div']) > -1:\n",
    "        indiceOperador = operacao.find(dictOperadores['div'])\n",
    "        resultado = funcOperacao(operacao, indiceOperador)\n",
    "    else:\n",
    "        print('Operador não indroduzido.')\n",
    "except Exception as e:\n",
    "    if str(type(e)) == \"<class 'NameError'>\":\n",
    "        print('Valores inválidos',str(type(e)))\n",
    "    elif str(type(e)) == \"<class 'ValueError'>\":\n",
    "        print('Valores inválidos',str(type(e)))\n",
    "    elif str(type(e)) == \"<class 'ZeroDivisionError'>\":\n",
    "        print('Não se pode dividir por zero',str(type(e)))\n",
    "    else:\n",
    "        print(str(type(e)))"
   ]
  },
  {
   "cell_type": "code",
   "execution_count": 22,
   "metadata": {},
   "outputs": [
    {
     "data": {
      "text/plain": [
       "float"
      ]
     },
     "execution_count": 22,
     "metadata": {},
     "output_type": "execute_result"
    }
   ],
   "source": [
    "type(eval('1/2'))"
   ]
  },
  {
   "attachments": {},
   "cell_type": "markdown",
   "metadata": {},
   "source": [
    "## Exercício 5"
   ]
  },
  {
   "cell_type": "code",
   "execution_count": 35,
   "metadata": {},
   "outputs": [
    {
     "name": "stdout",
     "output_type": "stream",
     "text": [
      "************************************************************************\n",
      "**************************Calculadora básica****************************\n",
      "************************************************************************\n",
      "****Introduza a operação a realizar, usando os seguintes caracteres:****\n",
      "+: Soma\n",
      "-: Subtração\n",
      "*: Multiplicação\n",
      "/: Divisão\n",
      "X: Sair\n",
      "Operador não indroduzido.\n",
      "Programa terminado.\n"
     ]
    }
   ],
   "source": [
    "dictOperadores = {\n",
    "    'som': '+',\n",
    "    'sub': '-',\n",
    "    'mul': '*',\n",
    "    'div': '/'\n",
    "}\n",
    "\n",
    "varWhile = True\n",
    "\n",
    "print('************************************************************************')\n",
    "print('**************************Calculadora básica****************************')\n",
    "print('************************************************************************')\n",
    "print('****Introduza a operação a realizar, usando os seguintes caracteres:****')\n",
    "print('+: Soma\\n-: Subtração\\n*: Multiplicação\\n/: Divisão\\nX: Sair')\n",
    "\n",
    "def funcOperacao(operacao, indiceOperador):\n",
    "    primeiroNumero = operacao[:indiceOperador]\n",
    "    operador = operacao[indiceOperador]\n",
    "    segundoNumero = operacao[indiceOperador + 1:]\n",
    "    try:\n",
    "        resultado = eval(primeiroNumero +  operador + segundoNumero)\n",
    "        print('%.2f %s %.2f = %.2f' % (float(primeiroNumero), operador, float(segundoNumero), float(resultado)))\n",
    "    except SyntaxError:\n",
    "        print('Mais que um operador indroduzido')\n",
    "        \n",
    "while varWhile:\n",
    "    operacao = input('Coloque a operação, com o primeiro numero, operador e o segundo numero')\n",
    "\n",
    "    # Verificar se os dados inseridos são corretos\n",
    "\n",
    "    try:\n",
    "        if operacao.find(dictOperadores['som']) > -1:\n",
    "            indiceOperador = operacao.find(dictOperadores['som'])\n",
    "            funcOperacao(operacao, indiceOperador)\n",
    "        elif operacao.find(dictOperadores['sub']) > -1:\n",
    "            indiceOperador = operacao.find(dictOperadores['sub'])\n",
    "            funcOperacao(operacao, indiceOperador)\n",
    "        elif operacao.find(dictOperadores['mul']) > -1:\n",
    "            indiceOperador = operacao.find(dictOperadores['mul'])\n",
    "            funcOperacao(operacao, indiceOperador)\n",
    "        elif operacao.find(dictOperadores['div']) > -1:\n",
    "            indiceOperador = operacao.find(dictOperadores['div'])\n",
    "            funcOperacao(operacao, indiceOperador)\n",
    "        elif operacao.capitalize() == 'X':\n",
    "            print('Programa terminado.')\n",
    "            varWhile = False\n",
    "        elif operacao == '':\n",
    "            print('Por favor introduza uma operação')\n",
    "        else:\n",
    "            print('Operador não indroduzido.')\n",
    "    except Exception as e:\n",
    "        if str(type(e)) == \"<class 'NameError'>\":\n",
    "            print('Valores inválidos')\n",
    "        elif str(type(e)) == \"<class 'ValueError'>\":\n",
    "            print('Valores inválidos')\n",
    "        elif str(type(e)) == \"<class 'ZeroDivisionError'>\":\n",
    "            print('Não se pode dividir por zero')\n",
    "        else:\n",
    "            print(str(type(e)))"
   ]
  },
  {
   "cell_type": "markdown",
   "metadata": {},
   "source": [
    "## Exercício 6"
   ]
  },
  {
   "cell_type": "code",
   "execution_count": 21,
   "metadata": {},
   "outputs": [
    {
     "name": "stdout",
     "output_type": "stream",
     "text": [
      "|------------------|-------------------|-------------------|\n",
      "|------Numero------|---Potência de 2---|---Potência de 3---|\n",
      "|------------------|-------------------|-------------------|\n",
      "|        1         |         1         |         1         |\n",
      "|------------------|-------------------|-------------------|\n",
      "|        2         |         4         |         8         |\n",
      "|------------------|-------------------|-------------------|\n",
      "|        3         |         9         |         27        |\n",
      "|------------------|-------------------|-------------------|\n",
      "|        4         |         16        |         64        |\n",
      "|------------------|-------------------|-------------------|\n",
      "|        5         |         25        |        125        |\n",
      "|------------------|-------------------|-------------------|\n",
      "|        6         |         36        |        216        |\n",
      "|------------------|-------------------|-------------------|\n",
      "|        7         |         49        |        343        |\n",
      "|------------------|-------------------|-------------------|\n",
      "|        8         |         64        |        512        |\n",
      "|------------------|-------------------|-------------------|\n",
      "|        9         |         81        |        729        |\n",
      "|------------------|-------------------|-------------------|\n",
      "|        10        |        100        |        1000       |\n",
      "|------------------|-------------------|-------------------|\n"
     ]
    }
   ],
   "source": [
    "print('|------------------|-------------------|-------------------|')\n",
    "print('|------Numero------|---Potência de 2---|---Potência de 3---|')\n",
    "print('|------------------|-------------------|-------------------|')\n",
    "\n",
    "for i in range(1,11):\n",
    "    num = str(i).center(18)\n",
    "    square = str(i**2).center(19)\n",
    "    cube = str(i**3).center(19)\n",
    "\n",
    "    print('|%s|%s|%s|' % (num, square,cube))\n",
    "    print('|------------------|-------------------|-------------------|')\n"
   ]
  },
  {
   "cell_type": "code",
   "execution_count": 59,
   "metadata": {},
   "outputs": [
    {
     "name": "stdout",
     "output_type": "stream",
     "text": [
      "['        1         ', '         1         ', '         1         ']\n",
      "['        2         ', '         4         ', '         8         ']\n",
      "['        3         ', '         9         ', '         27        ']\n",
      "['        4         ', '         16        ', '         64        ']\n",
      "['        5         ', '         25        ', '        125        ']\n",
      "['        6         ', '         36        ', '        216        ']\n",
      "['        7         ', '         49        ', '        343        ']\n",
      "['        8         ', '         64        ', '        512        ']\n",
      "['        9         ', '         81        ', '        729        ']\n",
      "['        10        ', '        100        ', '        1000       ']\n"
     ]
    }
   ],
   "source": [
    "lista = []\n",
    "\n",
    "for i in range(1,11):\n",
    "    list_aux = [str(i).center(18), str(i**2).center(19),str(i**3).center(19)]\n",
    "    print(list_aux)"
   ]
  },
  {
   "cell_type": "code",
   "execution_count": 60,
   "metadata": {},
   "outputs": [
    {
     "name": "stdout",
     "output_type": "stream",
     "text": [
      "número \t Potência de 2 \t Potência de 3\n",
      "\n",
      " 1 \t 1 \t\t 1\n",
      "\n",
      " 2 \t 4 \t\t 8\n",
      "\n",
      " 3 \t 9 \t\t 27\n",
      "\n",
      " 4 \t 16 \t\t 64\n",
      "\n",
      " 5 \t 25 \t\t 125\n",
      "\n",
      " 6 \t 36 \t\t 216\n",
      "\n",
      " 7 \t 49 \t\t 343\n",
      "\n",
      " 8 \t 64 \t\t 512\n",
      "\n",
      " 9 \t 81 \t\t 729\n",
      "\n",
      " 10 \t 100 \t\t 1000\n"
     ]
    }
   ],
   "source": [
    "print('número \\t Potência de 2 \\t Potência de 3')\n",
    "for i in range (1,11):\n",
    "    z = i ** 2\n",
    "    y = i ** 3\n",
    "    print(f'\\n {i} \\t {z} \\t\\t {y}')"
   ]
  },
  {
   "cell_type": "markdown",
   "metadata": {},
   "source": [
    "# Exercício 7"
   ]
  },
  {
   "cell_type": "code",
   "execution_count": 22,
   "metadata": {},
   "outputs": [
    {
     "name": "stdout",
     "output_type": "stream",
     "text": [
      "****************************************\n",
      "*****Leitura e escrita de ficheiro******\n",
      "****************************************\n",
      "P - Pesquisar palavra ficheiro\n",
      "E - Acrescentar no ficheiro\n",
      "X - Sair\n",
      "Ficheiro não encontrado\n",
      "Ficheiro criado\n",
      "Palavra Python encontrada.\n",
      "Palavra dsvfxdgvdf não encontrada.\n",
      "Opção inválida.\n",
      "Opção inválida.\n",
      "Opção inválida.\n",
      "Opção inválida.\n",
      "Opção inválida.\n",
      "Conteúdo Criado por: João Araújo acrescentado.\n",
      "Opção inválida.\n"
     ]
    }
   ],
   "source": [
    "print('****************************************')\n",
    "print('*****Leitura e escrita de ficheiro******')\n",
    "print('****************************************')\n",
    "print('P - Pesquisar palavra ficheiro')\n",
    "print('E - Acrescentar no ficheiro')\n",
    "print('X - Sair')\n",
    "myInput = ''\n",
    "FileName = input('Introduza o nome do ficheiro que pretende abrir.') + '.txt'\n",
    "\n",
    "while True:\n",
    "    try:\n",
    "        myInput = input('Introduza a opção pretendida.')\n",
    "        if myInput.upper() == 'P':\n",
    "            myFile = open(FileName,'r')\n",
    "            pesq = input('Introduza a palavra a pesquisar.')\n",
    "            read = myFile.read().split()\n",
    "            if pesq in read:\n",
    "                print(f'Palavra {pesq} encontrada.')\n",
    "            else:\n",
    "                print(f'Palavra {pesq} não encontrada.')\n",
    "            myFile.close()\n",
    "        elif myInput.upper() == 'E':\n",
    "            myFile = open(FileName,'a')\n",
    "            conteudo = input('Introduza o conteúdo a acrescentar.')\n",
    "            myFile.write('\\n' + conteudo)\n",
    "            print(f'Conteúdo {conteudo} acrescentado.')\n",
    "            myFile.close()\n",
    "        elif myInput.upper() == 'X':\n",
    "            break\n",
    "        else:\n",
    "            print('Opção inválida.')\n",
    "    except FileNotFoundError:\n",
    "        print('Ficheiro não encontrado')\n",
    "        try:\n",
    "            FileName = input('Introduza o nome do ficheiro que pretende criar.') + '.txt'\n",
    "            myFile = open(FileName,'x')\n",
    "            myFile.write('Programar em\\nPython é\\nMuito Divertido')\n",
    "            myFile.close()\n",
    "            print('Ficheiro criado')\n",
    "        except FileExistsError:\n",
    "            print('Ficheiro já existe.')\n",
    "            myFile.close()\n",
    "            pass"
   ]
  }
 ],
 "metadata": {
  "kernelspec": {
   "display_name": "Python 3.10.4 ('PythonAvancado')",
   "language": "python",
   "name": "python3"
  },
  "language_info": {
   "codemirror_mode": {
    "name": "ipython",
    "version": 3
   },
   "file_extension": ".py",
   "mimetype": "text/x-python",
   "name": "python",
   "nbconvert_exporter": "python",
   "pygments_lexer": "ipython3",
   "version": "3.11.7"
  },
  "orig_nbformat": 4,
  "vscode": {
   "interpreter": {
    "hash": "fea44f1dbc207625de75dec32c6b5ad1fd4b79f4adc30b9d6d6cfb85d17770aa"
   }
  }
 },
 "nbformat": 4,
 "nbformat_minor": 2
}
