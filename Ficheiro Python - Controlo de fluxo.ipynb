{
 "cells": [
  {
   "cell_type": "markdown",
   "metadata": {},
   "source": [
    "# 1. Estruturas de seleção\n",
    "## 1.1. Condição IF"
   ]
  },
  {
   "cell_type": "code",
   "execution_count": 26,
   "metadata": {},
   "outputs": [
    {
     "name": "stdout",
     "output_type": "stream",
     "text": [
      "10 é maior ou igual que 31\n",
      "resultado de x:30\n",
      "x maior que 10\n",
      "Programa terminado\n"
     ]
    }
   ],
   "source": [
    "x = 10\n",
    "y = 0\n",
    "\n",
    "if x <= 10:\n",
    "    print(f'{x} é maior ou igual que 31')\n",
    "    x += 20\n",
    "    y +=10\n",
    "    print(f'resultado de x:{x}')\n",
    "if 20 < x <= 30:\n",
    "        print('x maior que 10')\n",
    "\n",
    "print('Programa terminado')"
   ]
  },
  {
   "cell_type": "markdown",
   "metadata": {},
   "source": [
    "## 1.2. Condição IF-ELSE"
   ]
  },
  {
   "cell_type": "code",
   "execution_count": 28,
   "metadata": {},
   "outputs": [
    {
     "name": "stdout",
     "output_type": "stream",
     "text": [
      "x é menor que 10 ou é maior que 21\n"
     ]
    }
   ],
   "source": [
    "x = 9\n",
    "\n",
    "if x >= 10 and x <= 21:\n",
    "    print('x é maior ou igual que 10 e menor ou igual que 21')\n",
    "else:\n",
    "    print('x é menor que 10 ou é maior que 21')"
   ]
  },
  {
   "cell_type": "markdown",
   "metadata": {},
   "source": [
    "## 1.3. Condição IF-ELSE reduzida"
   ]
  },
  {
   "cell_type": "code",
   "execution_count": 29,
   "metadata": {},
   "outputs": [
    {
     "name": "stdout",
     "output_type": "stream",
     "text": [
      "x é menor que 10 ou é maior que 21\n"
     ]
    }
   ],
   "source": [
    "x = 9\n",
    "\n",
    "print('x é maior ou igual que 10 e menor ou igual que 21') if 10 <= x <= 21 else print('x é menor que 10 ou é maior que 21')"
   ]
  },
  {
   "cell_type": "code",
   "execution_count": 2,
   "metadata": {},
   "outputs": [
    {
     "name": "stdout",
     "output_type": "stream",
     "text": [
      "x é menor que 10 ou é maior que 21\n",
      "x é menor que 10 ou é maior que 21\n",
      "x é menor que 10 ou é maior que 21\n",
      "x é menor que 10 ou é maior que 21\n"
     ]
    }
   ],
   "source": [
    "x = 89\n",
    "\n",
    "if 10 <= x <= 21:\n",
    "    print('x é maior ou igual que 10 e menor ou igual que 21')\n",
    "    print('x é maior ou igual que 10 e menor ou igual que 21')\n",
    "    print('x é maior ou igual que 10 e menor ou igual que 21')\n",
    "    print('x é maior ou igual que 10 e menor ou igual que 21')\n",
    "    print('x é maior ou igual que 10 e menor ou igual que 21')\n",
    "    x = 78\n",
    "else:\n",
    "    print('x é menor que 10 ou é maior que 21')\n",
    "    print('x é menor que 10 ou é maior que 21')\n",
    "    print('x é menor que 10 ou é maior que 21')\n",
    "    print('x é menor que 10 ou é maior que 21')\n",
    "    z = 20\n"
   ]
  },
  {
   "cell_type": "markdown",
   "metadata": {},
   "source": [
    "## 1.4. Condição IF-ELIF-ELSE"
   ]
  },
  {
   "cell_type": "code",
   "execution_count": 8,
   "metadata": {},
   "outputs": [
    {
     "name": "stdout",
     "output_type": "stream",
     "text": [
      "15 é maior que 10 e menor ou igual que 20\n",
      "Programa terminado\n"
     ]
    }
   ],
   "source": [
    "x = int(input('Introduza um numero'))\n",
    "\n",
    "y = 20\n",
    "\n",
    "if x > y:\n",
    "    print(f'{x} é maior que {y}')\n",
    "elif 10 < x <= y:\n",
    "    print(f'{x} é maior que 10 e menor ou igual que {y}')\n",
    "elif 5 < x <= y:\n",
    "    print(f'{x} é maior que 5 e menor ou igual que {y}')\n",
    "else:\n",
    "    print(f'{x} é menor que 5')\n",
    "\n",
    "print('Programa terminado')"
   ]
  },
  {
   "cell_type": "code",
   "execution_count": 9,
   "metadata": {},
   "outputs": [
    {
     "name": "stdout",
     "output_type": "stream",
     "text": [
      "15 é maior que 10 e menor ou igual que 20\n",
      "15 é maior que 5 e menor ou igual que 20\n",
      "Programa terminado\n"
     ]
    }
   ],
   "source": [
    "x = int(input('Introduza um numero'))\n",
    "\n",
    "y = 20\n",
    "\n",
    "if x > y:\n",
    "    print(f'{x} é maior que {y}')\n",
    "if 10 < x <= y:\n",
    "    print(f'{x} é maior que 10 e menor ou igual que {y}')\n",
    "if 5 < x <= y:\n",
    "    print(f'{x} é maior que 5 e menor ou igual que {y}')\n",
    "else:\n",
    "    print(f'{x} é menor que 5')\n",
    "\n",
    "print('Programa terminado')"
   ]
  },
  {
   "cell_type": "markdown",
   "metadata": {},
   "source": [
    "## Condições NESTED: IF dentro de IF ou ELIF ou ELSE"
   ]
  },
  {
   "cell_type": "code",
   "execution_count": 13,
   "metadata": {},
   "outputs": [
    {
     "name": "stdout",
     "output_type": "stream",
     "text": [
      "14 é maior que 10 e menor ou igual que 20\n",
      "O numero 14 não cupre com a condição NESTED do elif\n",
      "Programa terminado\n"
     ]
    }
   ],
   "source": [
    "x = int(input('Introduza um numero'))\n",
    "\n",
    "y = 20\n",
    "\n",
    "if x > y:\n",
    "    print(f'{x} é maior que {y}')\n",
    "elif 10 < x <= y:\n",
    "    print(f'{x} é maior que 10 e menor ou igual que {y}')\n",
    "    if x == 15:\n",
    "        print(f'O numero {x} cumpre com a condições NSTED dentro do ELIF')\n",
    "    else:\n",
    "        print(f'O numero {x} não cupre com a condição NESTED do elif')\n",
    "        \n",
    "elif 5 < x <= y:\n",
    "    print(f'{x} é maior que 5 e menor ou igual que {y}')\n",
    "else:\n",
    "    print(f'{x} é menor que 5')\n",
    "\n",
    "print('Programa terminado')"
   ]
  },
  {
   "cell_type": "markdown",
   "metadata": {},
   "source": [
    "## 1.6. Declaração PASS"
   ]
  },
  {
   "cell_type": "code",
   "execution_count": 14,
   "metadata": {},
   "outputs": [
    {
     "name": "stdout",
     "output_type": "stream",
     "text": [
      "Programa terminado\n"
     ]
    }
   ],
   "source": [
    "a = 300\n",
    "b = 200\n",
    "\n",
    "if b < a:\n",
    "    pass # Declaração pass: Não realiza nenhuma ação se a condição se cumprir\n",
    "elif b == a:\n",
    "    print(f'{b} e {a} cumprem a condição b == a')\n",
    "else:\n",
    "    print('Nenhuma condição se verifica')\n",
    "\n",
    "print('Programa terminado')"
   ]
  },
  {
   "cell_type": "code",
   "execution_count": 18,
   "metadata": {},
   "outputs": [
    {
     "name": "stdout",
     "output_type": "stream",
     "text": [
      "15 é maior que 10 e menor ou igual que 20\n",
      "Programa terminado\n"
     ]
    }
   ],
   "source": [
    "x = int(input('Introduza um numero'))\n",
    "\n",
    "y = 20\n",
    "\n",
    "if x > y:\n",
    "    print(f'{x} é maior que {y}')\n",
    "elif 10 < x <= y:\n",
    "    print(f'{x} é maior que 10 e menor ou igual que {y}')\n",
    "    if x == 15:\n",
    "        pass\n",
    "        # print(f'O numero {x} cumpre com a condições NSTED dentro do ELIF')\n",
    "    else:\n",
    "        print(f'O numero {x} não cupre com a condição NESTED do elif')\n",
    "        \n",
    "elif 5 < x <= y:\n",
    "    print(f'{x} é maior que 5 e menor ou igual que {y}')\n",
    "else:\n",
    "    print(f'{x} é menor que 5')\n",
    "\n",
    "print('Programa terminado')\n"
   ]
  },
  {
   "cell_type": "markdown",
   "metadata": {},
   "source": [
    "## 1.7. Condição MATCH-CASE"
   ]
  },
  {
   "cell_type": "code",
   "execution_count": 24,
   "metadata": {},
   "outputs": [
    {
     "name": "stdout",
     "output_type": "stream",
     "text": [
      "*********************\n",
      "*******OPÇÃO 1*******\n",
      "*******OPÇÃO 2*******\n",
      "*******OPÇÃO 3*******\n",
      "*********************\n",
      "Não aceita numeros negativos\n",
      "Opção inválida\n"
     ]
    }
   ],
   "source": [
    "print('*********************')\n",
    "print('*******OPÇÃO 1*******')\n",
    "print('*******OPÇÃO 2*******')\n",
    "print('*******OPÇÃO 3*******')\n",
    "print('*********************')\n",
    "\n",
    "x = int(input('Introduza uma opção de 1 a 3'))\n",
    "\n",
    "match x:\n",
    "    case 1:\n",
    "        print(f'Introduziu a opção {x}')\n",
    "    case 2:\n",
    "        print(f'Introduziu a opção {x}')\n",
    "    case 3:\n",
    "        print(f'Introduziu a opção {x}')\n",
    "    case other:\n",
    "        if x < 0:\n",
    "            print('Não aceita numeros negativos')\n",
    "        print('Opção inválida')"
   ]
  },
  {
   "cell_type": "code",
   "execution_count": 34,
   "metadata": {},
   "outputs": [
    {
     "name": "stdout",
     "output_type": "stream",
     "text": [
      "*********************\n",
      "*******OPÇÃO A*******\n",
      "*******OPÇÃO B*******\n",
      "*******OPÇÃO C*******\n",
      "*********************\n",
      "Opção inválida\n"
     ]
    }
   ],
   "source": [
    "print('*********************')\n",
    "print('*******OPÇÃO A*******')\n",
    "print('*******OPÇÃO B*******')\n",
    "print('*******OPÇÃO C*******')\n",
    "print('*********************')\n",
    "\n",
    "x = input('Introduza uma opção de A a C').upper()\n",
    "\n",
    "match x:\n",
    "    case 'A':\n",
    "        print(f'Introduziu a opção {x}')\n",
    "    case 'B':\n",
    "        print(f'Introduziu a opção {x}')\n",
    "    case 'C':\n",
    "        print(f'Introduziu a opção {x}')\n",
    "    case other:\n",
    "        print('Opção inválida')"
   ]
  },
  {
   "cell_type": "code",
   "execution_count": 36,
   "metadata": {},
   "outputs": [
    {
     "name": "stdout",
     "output_type": "stream",
     "text": [
      "*********************\n",
      "*******OPÇÃO A*******\n",
      "*******OPÇÃO B*******\n",
      "*******OPÇÃO C*******\n",
      "*********************\n",
      "Introduziu a opção B\n",
      "*********************\n",
      "*******OPÇÃO 1*******\n",
      "*******OPÇÃO 2*******\n",
      "*********************\n",
      "Introduziu a opção 2\n"
     ]
    }
   ],
   "source": [
    "print('*********************')\n",
    "print('*******OPÇÃO A*******')\n",
    "print('*******OPÇÃO B*******')\n",
    "print('*******OPÇÃO C*******')\n",
    "print('*********************')\n",
    "\n",
    "x = input('Introduza uma opção de A a C').upper()\n",
    "\n",
    "match x:\n",
    "    case 'A':\n",
    "        print(f'Introduziu a opção {x}')\n",
    "    case 'B':\n",
    "        print(f'Introduziu a opção {x}')\n",
    "        print('*********************')\n",
    "        print('*******OPÇÃO 1*******')\n",
    "        print('*******OPÇÃO 2*******')\n",
    "        print('*********************')\n",
    "        y = int(input('Introduza uma opção 1 ou 2'))\n",
    "        match y:\n",
    "            case 1:\n",
    "                print(f'Introduziu a opção {y}')\n",
    "            case 2:\n",
    "                print(f'Introduziu a opção {y}')\n",
    "            case other:\n",
    "                print('Opção inválida')\n",
    "    case 'C':\n",
    "        print(f'Introduziu a opção {x}')\n",
    "    case other:\n",
    "        print('Opção inválida')"
   ]
  },
  {
   "cell_type": "markdown",
   "metadata": {},
   "source": [
    "# 2. Estruturas de repetição\n",
    "## 2.1. Condição FOR"
   ]
  },
  {
   "cell_type": "code",
   "execution_count": 38,
   "metadata": {},
   "outputs": [
    {
     "name": "stdout",
     "output_type": "stream",
     "text": [
      "0\n",
      "<class 'int'>\n",
      "1\n",
      "<class 'int'>\n",
      "2\n",
      "<class 'int'>\n",
      "3\n",
      "<class 'int'>\n",
      "4\n",
      "<class 'int'>\n",
      "5\n",
      "<class 'int'>\n",
      "6\n",
      "<class 'int'>\n",
      "7\n",
      "<class 'int'>\n",
      "8\n",
      "<class 'int'>\n",
      "9\n",
      "<class 'int'>\n",
      "Programa terminado\n"
     ]
    }
   ],
   "source": [
    "for i in range(10): # 0,1,2,3,4,5,6,7,8,9\n",
    "    print(i)\n",
    "    print(type(i))\n",
    "\n",
    "print('Programa terminado')"
   ]
  },
  {
   "cell_type": "code",
   "execution_count": 40,
   "metadata": {},
   "outputs": [
    {
     "name": "stdout",
     "output_type": "stream",
     "text": [
      "1\n",
      "<class 'int'>\n",
      "5\n",
      "<class 'int'>\n",
      "9\n",
      "<class 'int'>\n",
      "13\n",
      "<class 'int'>\n",
      "17\n",
      "<class 'int'>\n",
      "Programa terminado\n"
     ]
    }
   ],
   "source": [
    "for i in range(1,20,4): # 1,5,9,13,17\n",
    "    print(i)\n",
    "    print(type(i))\n",
    "\n",
    "print('Programa terminado')"
   ]
  },
  {
   "cell_type": "markdown",
   "metadata": {},
   "source": [
    "### 2.1.1. Ciclo FOR - Acesso a listas por indexação"
   ]
  },
  {
   "cell_type": "code",
   "execution_count": 41,
   "metadata": {},
   "outputs": [
    {
     "name": "stdout",
     "output_type": "stream",
     "text": [
      "Olá\n",
      "<class 'str'>\n",
      "Mundo\n",
      "<class 'str'>\n",
      "eu\n",
      "<class 'str'>\n",
      "sou\n",
      "<class 'str'>\n",
      "12.8\n",
      "<class 'float'>\n"
     ]
    }
   ],
   "source": [
    "lista = ['Olá','Mundo','eu','sou',12.8]\n",
    "\n",
    "for i in range(len(lista)): # 0,1,2,3,4\n",
    "    print(lista[i])\n",
    "    print(type(lista[i]))"
   ]
  },
  {
   "cell_type": "code",
   "execution_count": 42,
   "metadata": {},
   "outputs": [
    {
     "name": "stdout",
     "output_type": "stream",
     "text": [
      "Olá\n",
      "<class 'str'>\n",
      "Mundo\n",
      "<class 'str'>\n",
      "eu\n",
      "<class 'str'>\n",
      "sou\n",
      "<class 'str'>\n",
      "12.8\n",
      "<class 'float'>\n"
     ]
    }
   ],
   "source": [
    "print(lista[0])\n",
    "print(type(lista[0]))\n",
    "print(lista[1])\n",
    "print(type(lista[1]))\n",
    "print(lista[2])\n",
    "print(type(lista[2]))\n",
    "print(lista[3])\n",
    "print(type(lista[3]))\n",
    "print(lista[4])\n",
    "print(type(lista[4]))\n"
   ]
  },
  {
   "cell_type": "markdown",
   "metadata": {},
   "source": [
    "### 2.1.2. Ciclo FOR -  Acesso direto a listas por atribuição"
   ]
  },
  {
   "cell_type": "code",
   "execution_count": 43,
   "metadata": {},
   "outputs": [
    {
     "name": "stdout",
     "output_type": "stream",
     "text": [
      "Olá\n",
      "<class 'str'>\n",
      "Mundo\n",
      "<class 'str'>\n",
      "eu\n",
      "<class 'str'>\n",
      "sou\n",
      "<class 'str'>\n",
      "12.8\n",
      "<class 'float'>\n"
     ]
    }
   ],
   "source": [
    "lista = ['Olá','Mundo','eu','sou',12.8]\n",
    "\n",
    "for i in lista:\n",
    "    print(i)\n",
    "    print(type(i))"
   ]
  },
  {
   "cell_type": "code",
   "execution_count": 44,
   "metadata": {},
   "outputs": [
    {
     "name": "stdout",
     "output_type": "stream",
     "text": [
      "Olá\n",
      "Mundo\n",
      "Nome João inserido\n",
      "eu\n",
      "sou\n",
      "12.8\n",
      "João\n"
     ]
    }
   ],
   "source": [
    "lista = ['Olá','Mundo','eu','sou',12.8]\n",
    "\n",
    "for i in lista:\n",
    "    if i == 'eu':\n",
    "        lista.append('João')\n",
    "        print('Nome João inserido')\n",
    "    print(i)"
   ]
  },
  {
   "cell_type": "code",
   "execution_count": 45,
   "metadata": {},
   "outputs": [
    {
     "name": "stdout",
     "output_type": "stream",
     "text": [
      "Olá\n",
      "Mundo\n",
      "Nome João inserido\n",
      "eu\n",
      "sou\n",
      "12.8\n"
     ]
    }
   ],
   "source": [
    "lista = ['Olá','Mundo','eu','sou',12.8]\n",
    "\n",
    "for i in range(len(lista)): # 0,1,2,3,4\n",
    "    if lista[i] == 'eu':\n",
    "        lista.append('João')\n",
    "        print('Nome João inserido')\n",
    "    print(lista[i])"
   ]
  },
  {
   "cell_type": "code",
   "execution_count": 49,
   "metadata": {},
   "outputs": [
    {
     "name": "stdout",
     "output_type": "stream",
     "text": [
      "10 < 20\n",
      "10 < 30\n",
      "10 < 40\n",
      "10 < 50\n"
     ]
    }
   ],
   "source": [
    "lista = [10, 20, 30, 40, 50]\n",
    "\n",
    "for i in range(len(lista) - 1): # 0,1,2,3\n",
    "    if lista[0] < lista[i+1]:\n",
    "        print(f'{lista[0]} < {lista[i+1]}')\n"
   ]
  },
  {
   "cell_type": "markdown",
   "metadata": {},
   "source": [
    "### 2.1.3. Ciclo FOR com BREAK"
   ]
  },
  {
   "cell_type": "code",
   "execution_count": 50,
   "metadata": {},
   "outputs": [
    {
     "name": "stdout",
     "output_type": "stream",
     "text": [
      "0\n",
      "1\n",
      "2\n",
      "3\n",
      "4\n",
      "5\n",
      "6\n",
      "7\n",
      "8\n",
      "9\n",
      "10\n",
      "11\n",
      "12\n",
      "13\n",
      "14\n",
      "15\n",
      "16\n",
      "17\n",
      "18\n",
      "19\n",
      "Programa terminado\n"
     ]
    }
   ],
   "source": [
    "for i in range(1000):\n",
    "    print(i)\n",
    "    if i == 19:\n",
    "        break # Termina o ciclo FOR\n",
    "\n",
    "print('Programa terminado')"
   ]
  },
  {
   "cell_type": "markdown",
   "metadata": {},
   "source": [
    "### 2.1.4. Ciclo FOR com CONTINUE"
   ]
  },
  {
   "cell_type": "code",
   "execution_count": 52,
   "metadata": {},
   "outputs": [
    {
     "name": "stdout",
     "output_type": "stream",
     "text": [
      "Programa terminado\n"
     ]
    }
   ],
   "source": [
    "for i in range(1000): #0,1,2,3,4,5,6,7,8,...\n",
    "    if i >= 4 and i < 7:\n",
    "        continue # Volta ao inicio do ciclo FOR e avança para o elemento seguinte da variável iterável\n",
    "    elif i >= 8:\n",
    "        break\n",
    "    print(i)\n",
    "\n",
    "print('Programa terminado')"
   ]
  },
  {
   "cell_type": "markdown",
   "metadata": {},
   "source": [
    "### 2.1.5. Ciclo FOR com CONTINUE, BREAK e PASS"
   ]
  },
  {
   "cell_type": "code",
   "execution_count": 53,
   "metadata": {},
   "outputs": [
    {
     "name": "stdout",
     "output_type": "stream",
     "text": [
      "0\n",
      "1\n",
      "2\n",
      "3\n",
      "6\n",
      "7\n",
      "Programa terminado\n"
     ]
    }
   ],
   "source": [
    "for i in range(1000): #0,1,2,3,4,5,6,7,8,...\n",
    "    if 4 <= i < 6:\n",
    "        continue\n",
    "    elif i > 6 and i <= 7:\n",
    "        pass\n",
    "    elif i >= 8:\n",
    "        break\n",
    "    print(i)\n",
    "\n",
    "print('Programa terminado')"
   ]
  },
  {
   "cell_type": "markdown",
   "metadata": {},
   "source": [
    "## 2.2. Condição WHILE"
   ]
  },
  {
   "cell_type": "code",
   "execution_count": 2,
   "metadata": {},
   "outputs": [
    {
     "name": "stdout",
     "output_type": "stream",
     "text": [
      "Programa terminado\n"
     ]
    }
   ],
   "source": [
    "user_in = ''\n",
    "\n",
    "while user_in != 'X':\n",
    "    user_in = input('Introduza a letra X').upper() \n",
    "\n",
    "print('Programa terminado')"
   ]
  },
  {
   "cell_type": "markdown",
   "metadata": {},
   "source": [
    "### 2.2.1. BREAK no ciclo WHILE"
   ]
  },
  {
   "cell_type": "code",
   "execution_count": 56,
   "metadata": {},
   "outputs": [
    {
     "name": "stdout",
     "output_type": "stream",
     "text": [
      "Programa terminado\n"
     ]
    }
   ],
   "source": [
    "while True:\n",
    "    user_in = input('Introduza a letra X para sair do ciclo WHILE')\n",
    "    if user_in.upper() == 'X':\n",
    "        break # Termina o ciclo WHILE\n",
    "\n",
    "print('Programa terminado')"
   ]
  },
  {
   "cell_type": "markdown",
   "metadata": {},
   "source": [
    "### 2.2.2. CONTINUE com o ciclo WHILE"
   ]
  },
  {
   "cell_type": "code",
   "execution_count": 2,
   "metadata": {},
   "outputs": [
    {
     "name": "stdout",
     "output_type": "stream",
     "text": [
      "Não introduziu nenhuma opção do match-case\n",
      "Ciclo while a correr\n",
      "Não introduziu nenhuma opção do match-case\n",
      "Ciclo while a correr\n",
      "Não introduziu nenhuma opção do match-case\n",
      "Ciclo while a correr\n",
      "Numero de repetições do ciclo while com contador_continue:0\n",
      "Numero de repetições do ciclo while com contador_while:3\n"
     ]
    }
   ],
   "source": [
    "contador_continue = 0\n",
    "contador_while = 0\n",
    "\n",
    "while True:\n",
    "    user_in = input('Introduza a letra X para sair do ciclo while')\n",
    "\n",
    "    match user_in:\n",
    "        case 'x':\n",
    "            print('Introduziu x minusculo')\n",
    "            contador_continue += 1\n",
    "            continue\n",
    "\n",
    "        case 'X':\n",
    "            break\n",
    "\n",
    "        case other:\n",
    "            print('Não introduziu nenhuma opção do match-case')\n",
    "    print('Ciclo while a correr')\n",
    "    contador_while += 1\n",
    "\n",
    "print(f'Numero de repetições do ciclo while com contador_continue:{contador_continue}')\n",
    "print(f'Numero de repetições do ciclo while com contador_while:{contador_while}')"
   ]
  },
  {
   "cell_type": "markdown",
   "metadata": {},
   "source": [
    "### 2.2.3. Série de Fibonacci"
   ]
  },
  {
   "cell_type": "code",
   "execution_count": 3,
   "metadata": {},
   "outputs": [
    {
     "name": "stdout",
     "output_type": "stream",
     "text": [
      "1\n",
      "1\n",
      "2\n",
      "3\n",
      "5\n",
      "8\n",
      "13\n",
      "21\n",
      "34\n",
      "55\n",
      "89\n",
      "144\n",
      "233\n",
      "377\n",
      "610\n",
      "987\n"
     ]
    }
   ],
   "source": [
    "a, b = 0, 1\n",
    "# a - numero atual\n",
    "# b - numero seguinte\n",
    "\n",
    "while b < 1000:\n",
    "    print(b)\n",
    "    a, b = b, a + b"
   ]
  },
  {
   "cell_type": "markdown",
   "metadata": {},
   "source": [
    "## 2.3. Tratamento de exceções"
   ]
  },
  {
   "cell_type": "code",
   "execution_count": 4,
   "metadata": {},
   "outputs": [
    {
     "ename": "ValueError",
     "evalue": "invalid literal for int() with base 10: 'a'",
     "output_type": "error",
     "traceback": [
      "\u001b[1;31m---------------------------------------------------------------------------\u001b[0m",
      "\u001b[1;31mValueError\u001b[0m                                Traceback (most recent call last)",
      "Cell \u001b[1;32mIn[4], line 1\u001b[0m\n\u001b[1;32m----> 1\u001b[0m \u001b[38;5;28mint\u001b[39m(\u001b[38;5;124m'\u001b[39m\u001b[38;5;124ma\u001b[39m\u001b[38;5;124m'\u001b[39m)\n",
      "\u001b[1;31mValueError\u001b[0m: invalid literal for int() with base 10: 'a'"
     ]
    }
   ],
   "source": [
    "int('a')"
   ]
  },
  {
   "cell_type": "markdown",
   "metadata": {},
   "source": [
    "### 2.3.1. Declaração TRY - EXCEPT"
   ]
  },
  {
   "cell_type": "code",
   "execution_count": 6,
   "metadata": {},
   "outputs": [
    {
     "name": "stdout",
     "output_type": "stream",
     "text": [
      "Não é possivel converter o input dfadszgzdf para float\n"
     ]
    }
   ],
   "source": [
    "a = input('Introduza um numero')\n",
    "\n",
    "try:\n",
    "    float(a)\n",
    "except:\n",
    "    print(f'Não é possivel converter o input {a} para float')"
   ]
  },
  {
   "cell_type": "markdown",
   "metadata": {},
   "source": [
    "### É possivel especificar qual a exceção que queremos contemplar na declaração except"
   ]
  },
  {
   "cell_type": "code",
   "execution_count": 8,
   "metadata": {},
   "outputs": [
    {
     "ename": "ValueError",
     "evalue": "could not convert string to float: 'fadgfsdgsdf'",
     "output_type": "error",
     "traceback": [
      "\u001b[1;31m---------------------------------------------------------------------------\u001b[0m",
      "\u001b[1;31mValueError\u001b[0m                                Traceback (most recent call last)",
      "Cell \u001b[1;32mIn[8], line 4\u001b[0m\n\u001b[0;32m      1\u001b[0m a \u001b[38;5;241m=\u001b[39m \u001b[38;5;28minput\u001b[39m(\u001b[38;5;124m'\u001b[39m\u001b[38;5;124mIntroduza um numero\u001b[39m\u001b[38;5;124m'\u001b[39m)\n\u001b[0;32m      3\u001b[0m \u001b[38;5;28;01mtry\u001b[39;00m:\n\u001b[1;32m----> 4\u001b[0m     \u001b[38;5;28mfloat\u001b[39m(a)\n\u001b[0;32m      5\u001b[0m \u001b[38;5;28;01mexcept\u001b[39;00m \u001b[38;5;167;01mFileExistsError\u001b[39;00m:\n\u001b[0;32m      6\u001b[0m     \u001b[38;5;28mprint\u001b[39m(\u001b[38;5;124mf\u001b[39m\u001b[38;5;124m'\u001b[39m\u001b[38;5;124mNão é possivel converter o input \u001b[39m\u001b[38;5;132;01m{\u001b[39;00ma\u001b[38;5;132;01m}\u001b[39;00m\u001b[38;5;124m para float\u001b[39m\u001b[38;5;124m'\u001b[39m)\n",
      "\u001b[1;31mValueError\u001b[0m: could not convert string to float: 'fadgfsdgsdf'"
     ]
    }
   ],
   "source": [
    "a = input('Introduza um numero')\n",
    "\n",
    "try:\n",
    "    float(a)\n",
    "except ValueError:\n",
    "    print(f'Não é possivel converter o input {a} para float')"
   ]
  },
  {
   "cell_type": "code",
   "execution_count": 21,
   "metadata": {},
   "outputs": [
    {
     "name": "stdout",
     "output_type": "stream",
     "text": [
      "Programa terminado\n"
     ]
    }
   ],
   "source": [
    "a = input('Coloque um denominador')\n",
    "\n",
    "try: # obrigatório\n",
    "    a = int(a)\n",
    "    float(1/a)\n",
    "except (ValueError,TypeError): # obrigatório\n",
    "    print(f'Não é possivel converter o input {a} para int')\n",
    "except ZeroDivisionError: # opcional\n",
    "    print('Não é possivel dividir por zero')\n",
    "except: # opcional\n",
    "    print('Erro desconhecido.\\nContactar administrador da rede.')\n",
    "\n",
    "finally: # opcional: Executa sempre que o bloco try ou except é foi executado\n",
    "    print('Programa terminado')\n"
   ]
  },
  {
   "cell_type": "markdown",
   "metadata": {},
   "source": [
    "## TRY-EXCEPT-ELSE-FINALLY"
   ]
  },
  {
   "cell_type": "code",
   "execution_count": 25,
   "metadata": {},
   "outputs": [
    {
     "name": "stdout",
     "output_type": "stream",
     "text": [
      "Programa terminado\n"
     ]
    }
   ],
   "source": [
    "a = input('Coloque um denominador')\n",
    "\n",
    "try: # obrigatório\n",
    "    a = int(a)\n",
    "    float(1/a)\n",
    "except (ValueError,TypeError): # obrigatório\n",
    "    print(f'Não é possivel converter o input {a} para int')\n",
    "except ZeroDivisionError: # opcional\n",
    "    print('Não é possivel dividir por zero')\n",
    "except: # opcional\n",
    "    print('Erro desconhecido.\\nContactar administrador da rede.')\n",
    "\n",
    "else: # opcional: Executar o código associado se apenas o bloco de código em try for executado até ao final\n",
    "    print('Operação de conversão para inteiro e divisão bem sucedida')\n",
    "\n",
    "finally: # opcional: Executa sempre que o bloco try ou except é foi executado\n",
    "    print('Programa terminado')"
   ]
  },
  {
   "cell_type": "markdown",
   "metadata": {},
   "source": [
    "## Contemplar exceções de inputs do utilizador"
   ]
  },
  {
   "cell_type": "code",
   "execution_count": 26,
   "metadata": {},
   "outputs": [
    {
     "name": "stdout",
     "output_type": "stream",
     "text": [
      "dfgsdfgsdfg não é um numero inteiro.\n",
      "Introduza novamente.\n",
      "dfgdsfg não é um numero inteiro.\n",
      "Introduza novamente.\n",
      "Valor 15 introduzido.\n",
      "Valor OK.\n",
      "Programa terminado.\n"
     ]
    }
   ],
   "source": [
    "while True:\n",
    "    data = input('Introduza um numero inteiro.\\nIntroduza X para sair.')\n",
    "    try:\n",
    "        data = int(data)\n",
    "    except:\n",
    "        if data.upper() == 'X':\n",
    "            break\n",
    "        else:\n",
    "            print(f'{data} não é um numero inteiro.\\nIntroduza novamente.')\n",
    "    else:\n",
    "        print(f'Valor {data} introduzido.\\nValor OK.')\n",
    "\n",
    "print('Programa terminado.')"
   ]
  },
  {
   "cell_type": "code",
   "execution_count": 28,
   "metadata": {},
   "outputs": [
    {
     "name": "stdout",
     "output_type": "stream",
     "text": [
      "sfhsadbjkfbhasdfjas não é um numero inteiro.\n",
      "Introduza novamente.\n",
      "Valor 105 introduzido.\n",
      "Valor OK.\n",
      " não é um numero inteiro.\n",
      "Introduza novamente.\n",
      "Valor 15 introduzido.\n",
      "Valor OK.\n",
      "fdsfdsfsdfs não é um numero inteiro.\n",
      "Introduza novamente.\n",
      "Programa terminado.\n"
     ]
    }
   ],
   "source": [
    "while True:\n",
    "    data = input('Introduza um numero inteiro.\\nIntroduza X para sair.')\n",
    "    if data.upper() == 'X':\n",
    "        break\n",
    "    try:\n",
    "        data = int(data)\n",
    "    except:\n",
    "        print(f'{data} não é um numero inteiro.\\nIntroduza novamente.')\n",
    "    else:\n",
    "        print(f'Valor {data} introduzido.\\nValor OK.')\n",
    "\n",
    "print('Programa terminado.')"
   ]
  },
  {
   "cell_type": "markdown",
   "metadata": {},
   "source": [
    "### Obter a a exceção que ocorreu"
   ]
  },
  {
   "cell_type": "code",
   "execution_count": 33,
   "metadata": {},
   "outputs": [
    {
     "name": "stdout",
     "output_type": "stream",
     "text": [
      "sdfadsfadsf não é um numero inteiro.\n",
      "Introduza novamente.\n",
      "Traceback (most recent call last):\n",
      "  File \"C:\\Users\\joaop\\AppData\\Local\\Temp\\ipykernel_20360\\3174374846.py\", line 10, in <module>\n",
      "    data = int(data)\n",
      "           ^^^^^^^^^\n",
      "ValueError: invalid literal for int() with base 10: 'sdfadsfadsf'\n",
      "\n",
      "['Traceback (most recent call last):\\n', '  File \"C:\\\\Users\\\\joaop\\\\AppData\\\\Local\\\\Temp\\\\ipykernel_20360\\\\3174374846.py\", line 10, in <module>\\n    data = int(data)\\n           ^^^^^^^^^\\n', \"ValueError: invalid literal for int() with base 10: 'sdfadsfadsf'\\n\"]\n",
      " não é um numero inteiro.\n",
      "Introduza novamente.\n",
      "Traceback (most recent call last):\n",
      "  File \"C:\\Users\\joaop\\AppData\\Local\\Temp\\ipykernel_20360\\3174374846.py\", line 10, in <module>\n",
      "    data = int(data)\n",
      "           ^^^^^^^^^\n",
      "ValueError: invalid literal for int() with base 10: ''\n",
      "\n",
      "['Traceback (most recent call last):\\n', '  File \"C:\\\\Users\\\\joaop\\\\AppData\\\\Local\\\\Temp\\\\ipykernel_20360\\\\3174374846.py\", line 10, in <module>\\n    data = int(data)\\n           ^^^^^^^^^\\n', \"ValueError: invalid literal for int() with base 10: ''\\n\"]\n",
      "Programa terminado.\n"
     ]
    }
   ],
   "source": [
    "import traceback # Para obter informação sobre a exceção\n",
    "\n",
    "erros = []\n",
    "\n",
    "while True:\n",
    "    data = input('Introduza um numero inteiro.\\nIntroduza X para sair.')\n",
    "    if data.upper() == 'X':\n",
    "        break\n",
    "    try:\n",
    "        data = int(data)\n",
    "    except Exception as e: # Obter a exceção ocorrida\n",
    "        print(f'{data} não é um numero inteiro.\\nIntroduza novamente.')\n",
    "        s = [str(type(e)), str(e)]\n",
    "        erros.append(s)\n",
    "        print(traceback.format_exc()) # Descrição do local onde a exceção ocorreu em formato string\n",
    "        print(traceback.format_exception(e)) # Descrição do local onde a exceção ocorreu em formato lista\n",
    "        erros[0] # Obter a exceção\n",
    "        erros[1] # obter a descrição da exceção\n",
    "    else:\n",
    "        print(f'Valor {data} introduzido.\\nValor OK.')\n",
    "\n",
    "print('Programa terminado.')"
   ]
  }
 ],
 "metadata": {
  "kernelspec": {
   "display_name": "UFCD_10793_04_AG",
   "language": "python",
   "name": "python3"
  },
  "language_info": {
   "codemirror_mode": {
    "name": "ipython",
    "version": 3
   },
   "file_extension": ".py",
   "mimetype": "text/x-python",
   "name": "python",
   "nbconvert_exporter": "python",
   "pygments_lexer": "ipython3",
   "version": "3.11.7"
  }
 },
 "nbformat": 4,
 "nbformat_minor": 2
}
