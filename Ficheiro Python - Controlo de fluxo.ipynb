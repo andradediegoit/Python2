{
 "cells": [
  {
   "cell_type": "markdown",
   "metadata": {},
   "source": [
    "# 1. Estruturas de seleção\n",
    "## 1.1. Condição IF"
   ]
  },
  {
   "cell_type": "code",
   "execution_count": 26,
   "metadata": {},
   "outputs": [
    {
     "name": "stdout",
     "output_type": "stream",
     "text": [
      "10 é maior ou igual que 31\n",
      "resultado de x:30\n",
      "x maior que 10\n",
      "Programa terminado\n"
     ]
    }
   ],
   "source": [
    "x = 10\n",
    "y = 0\n",
    "\n",
    "if x <= 10:\n",
    "    print(f'{x} é maior ou igual que 31')\n",
    "    x += 20\n",
    "    y +=10\n",
    "    print(f'resultado de x:{x}')\n",
    "    if 20 < x <= 30:\n",
    "        print('x maior que 10')\n",
    "\n",
    "print('Programa terminado')"
   ]
  },
  {
   "cell_type": "markdown",
   "metadata": {},
   "source": [
    "## 1.2. Condição IF-ELSE"
   ]
  },
  {
   "cell_type": "code",
   "execution_count": 28,
   "metadata": {},
   "outputs": [
    {
     "name": "stdout",
     "output_type": "stream",
     "text": [
      "x é menor que 10 ou é maior que 21\n"
     ]
    }
   ],
   "source": [
    "x = 9\n",
    "\n",
    "if x >= 10 and x <= 21:\n",
    "    print('x é maior ou igual que 10 e menor ou igual que 21')\n",
    "else:\n",
    "    print('x é menor que 10 ou é maior que 21')"
   ]
  },
  {
   "cell_type": "markdown",
   "metadata": {},
   "source": [
    "## 1.3. Condição IF-ELSE reduzida"
   ]
  },
  {
   "cell_type": "code",
   "execution_count": 29,
   "metadata": {},
   "outputs": [
    {
     "name": "stdout",
     "output_type": "stream",
     "text": [
      "x é menor que 10 ou é maior que 21\n"
     ]
    }
   ],
   "source": [
    "x = 9\n",
    "\n",
    "print('x é maior ou igual que 10 e menor ou igual que 21') if 10 <= x <= 21 else print('x é menor que 10 ou é maior que 21')"
   ]
  }
 ],
 "metadata": {
  "kernelspec": {
   "display_name": "UFCD_10793_04_AG",
   "language": "python",
   "name": "python3"
  },
  "language_info": {
   "codemirror_mode": {
    "name": "ipython",
    "version": 3
   },
   "file_extension": ".py",
   "mimetype": "text/x-python",
   "name": "python",
   "nbconvert_exporter": "python",
   "pygments_lexer": "ipython3",
   "version": "3.11.7"
  }
 },
 "nbformat": 4,
 "nbformat_minor": 2
}
