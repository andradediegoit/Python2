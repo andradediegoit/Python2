{
 "cells": [
  {
   "cell_type": "markdown",
   "metadata": {},
   "source": [
    "## Exercício 1"
   ]
  },
  {
   "cell_type": "code",
   "execution_count": 11,
   "metadata": {},
   "outputs": [],
   "source": [
    "x = 123234432432"
   ]
  },
  {
   "cell_type": "markdown",
   "metadata": {},
   "source": [
    "### Exercício 2"
   ]
  },
  {
   "cell_type": "code",
   "execution_count": 12,
   "metadata": {},
   "outputs": [],
   "source": [
    "nome = str(1561681556)"
   ]
  },
  {
   "cell_type": "markdown",
   "metadata": {},
   "source": [
    "### Exercício 3"
   ]
  },
  {
   "cell_type": "code",
   "execution_count": 13,
   "metadata": {},
   "outputs": [
    {
     "name": "stdout",
     "output_type": "stream",
     "text": [
      "<class 'str'>\n"
     ]
    }
   ],
   "source": [
    "flt = 1.3\n",
    "\n",
    "flt_str = str(flt)\n",
    "\n",
    "print(type(flt_str))"
   ]
  },
  {
   "cell_type": "code",
   "execution_count": 14,
   "metadata": {},
   "outputs": [
    {
     "data": {
      "text/plain": [
       "str"
      ]
     },
     "execution_count": 14,
     "metadata": {},
     "output_type": "execute_result"
    }
   ],
   "source": [
    "type(flt_str)\n"
   ]
  },
  {
   "cell_type": "markdown",
   "metadata": {},
   "source": [
    "### Exercício 4"
   ]
  },
  {
   "cell_type": "code",
   "execution_count": 15,
   "metadata": {},
   "outputs": [
    {
     "data": {
      "text/plain": [
       "'\\nRespostas corretas\\n\\nA) C) F)\\n\\n\\n'"
      ]
     },
     "execution_count": 15,
     "metadata": {},
     "output_type": "execute_result"
    }
   ],
   "source": [
    "'''\n",
    "Respostas corretas\n",
    "\n",
    "A) C) F)\n",
    "\n",
    "\n",
    "'''"
   ]
  },
  {
   "cell_type": "markdown",
   "metadata": {},
   "source": [
    "### Exercício 5"
   ]
  },
  {
   "cell_type": "code",
   "execution_count": 16,
   "metadata": {},
   "outputs": [
    {
     "name": "stdout",
     "output_type": "stream",
     "text": [
      "A variável introduzida foi Joao\n",
      "O tipo de variável introduzido é\n",
      "<class 'str'>\n"
     ]
    }
   ],
   "source": [
    "userInput = input(\"Introduza o seu nome\")\n",
    "print(\"A variável introduzida foi \" + userInput + \"\\nO tipo de variável introduzido é\\n\" + str(type(userInput)))\n"
   ]
  },
  {
   "cell_type": "code",
   "execution_count": 17,
   "metadata": {},
   "outputs": [
    {
     "name": "stdout",
     "output_type": "stream",
     "text": [
      "A variável introduzida foi Joao\n",
      "O tipo de variável introduzido é\n",
      " <class 'str'>\n"
     ]
    }
   ],
   "source": [
    "print(\"A variável introduzida foi \" + userInput + \"\\nO tipo de variável introduzido é\\n\",type(userInput))"
   ]
  },
  {
   "cell_type": "code",
   "execution_count": 18,
   "metadata": {},
   "outputs": [
    {
     "data": {
      "text/plain": [
       "str"
      ]
     },
     "execution_count": 18,
     "metadata": {},
     "output_type": "execute_result"
    }
   ],
   "source": [
    "type(userInput)"
   ]
  },
  {
   "cell_type": "markdown",
   "metadata": {},
   "source": [
    "### Exercício 6"
   ]
  },
  {
   "cell_type": "code",
   "execution_count": 19,
   "metadata": {},
   "outputs": [],
   "source": [
    "var1 = var2 = var3 = 'João'"
   ]
  },
  {
   "cell_type": "markdown",
   "metadata": {},
   "source": [
    "### Exercício 7"
   ]
  },
  {
   "cell_type": "code",
   "execution_count": 20,
   "metadata": {},
   "outputs": [
    {
     "name": "stdout",
     "output_type": "stream",
     "text": [
      "Programar\n",
      "em\n",
      "Python\n",
      "é\n",
      "espetacular\n"
     ]
    }
   ],
   "source": [
    "var1 ='Programar'\n",
    "var2 ='em'\n",
    "var3 ='Python'\n",
    "var4 ='é'\n",
    "var5 ='espetacular'\n",
    "\n",
    "var1 , var2 , var3 , var4 , var5 = 'Programar', 'em','Python','é','espetacular'\n",
    "\n",
    "print(var1 + '\\n' + var2 + '\\n' + var3+ '\\n' + var4 + '\\n' + var5)\n",
    "\n",
    "#print(var1 , '\\n' , var2 + '\\n' , var3 , '\\n' , var4 , '\\n' , var5)\n"
   ]
  },
  {
   "cell_type": "markdown",
   "metadata": {},
   "source": [
    "### Exercício 8"
   ]
  },
  {
   "cell_type": "code",
   "execution_count": 21,
   "metadata": {},
   "outputs": [
    {
     "name": "stdout",
     "output_type": "stream",
     "text": [
      "6\n"
     ]
    }
   ],
   "source": [
    "var1 , var2 , var3 = 1, 2 ,3\n",
    "\n",
    "print(var1 + var2 + var3)"
   ]
  },
  {
   "cell_type": "markdown",
   "metadata": {},
   "source": [
    "### Exercício 9"
   ]
  },
  {
   "cell_type": "code",
   "execution_count": 22,
   "metadata": {},
   "outputs": [
    {
     "name": "stdout",
     "output_type": "stream",
     "text": [
      "Modo referências\n",
      "O seu nome é Joao Araujo,\n",
      "com 40 de idade\n",
      "e tem 78.3 kg.\n",
      "Modo fstring\n",
      "O seu nome é Joao Araujo,\n",
      "com 40 de idade\n",
      "e tem 78.3 kg.\n",
      "Modo format\n",
      "O seu nome é Joao Araujo,\n",
      "com 40 de idade\n",
      "e tem 78.3 kg.\n"
     ]
    }
   ],
   "source": [
    "pnome = input('Introduza o seu primeiro nome:')\n",
    "unome = input('Introduza o seu ultimo nome:')\n",
    "idade = int(input('Introduza a sua idade:'))\n",
    "peso = float(input('Introduza o seu peso:'))\n",
    "\n",
    "\n",
    "print(\"Modo referências\\nO seu nome é %s %s,\\ncom %d de idade\\ne tem %0.1f kg.\" % (pnome, unome, idade, peso ))\n",
    "\n",
    "# %d ou %i corresponde a uma variável do tipo inteiro\n",
    "\n",
    "print(f\"Modo fstring\\nO seu nome é {pnome} {unome},\\ncom {idade} de idade\\ne tem {peso} kg.\")\n",
    "\n",
    "print(\"Modo format\\nO seu nome é {} {},\\ncom {} de idade\\ne tem {} kg.\".format(pnome,unome,idade,peso))\n"
   ]
  },
  {
   "cell_type": "markdown",
   "metadata": {},
   "source": [
    "### Exercício 10"
   ]
  },
  {
   "cell_type": "code",
   "execution_count": 23,
   "metadata": {},
   "outputs": [
    {
     "name": "stdout",
     "output_type": "stream",
     "text": [
      "João\n"
     ]
    }
   ],
   "source": [
    "lista = ['Olá','o','meu', 'nome', 'é', 'João']\n",
    "\n",
    "#Fazer print do elemento João\n",
    "print(lista[5])"
   ]
  },
  {
   "cell_type": "code",
   "execution_count": 33,
   "metadata": {},
   "outputs": [
    {
     "name": "stdout",
     "output_type": "stream",
     "text": [
      "40\n"
     ]
    }
   ],
   "source": [
    "userLista = []\n",
    "userLista.append(input('Introduza o primeiro elemento'))\n",
    "userLista.append(input('Introduza o segundo elemento'))\n",
    "userLista.append(input('Introduza o terceiro elemento'))\n",
    "userLista.append(input('Introduza o quarto elemento'))\n",
    "userLista.append(input('Introduza o cinco elemento'))\n",
    "userLista.append(input('Introduza o sexto elemento'))\n",
    "\n",
    "print(userLista[5])\n",
    "\n"
   ]
  },
  {
   "cell_type": "code",
   "execution_count": 34,
   "metadata": {},
   "outputs": [
    {
     "name": "stdout",
     "output_type": "stream",
     "text": [
      "Olá\n"
     ]
    }
   ],
   "source": [
    "var1 = input('Introduza o primeiro elemento')\n",
    "var2 = input('Introduza o segundo elemento')\n",
    "var3 = input('Introduza o terceiro elemento')\n",
    "var4 = input('Introduza o quarto elemento')\n",
    "var5 = input('Introduza o quinto elemento')\n",
    "\n",
    "userlista2 = [var1,var2,var3,var4,var5]\n",
    "\n",
    "print(userlista2[4])"
   ]
  },
  {
   "cell_type": "code",
   "execution_count": 35,
   "metadata": {},
   "outputs": [
    {
     "name": "stdout",
     "output_type": "stream",
     "text": [
      "Araújo\n"
     ]
    }
   ],
   "source": [
    "userlista3 = [input('Introduza o primeiro elemento'),input('Introduza o segundo elemento'),input('Introduza o terceiro elemento'),input('Introduza o quarto elemento'),input('Introduza o quinto elemento')]\n",
    "\n",
    "print(userlista3[1])"
   ]
  },
  {
   "cell_type": "markdown",
   "metadata": {},
   "source": [
    "### Exercício 11"
   ]
  },
  {
   "cell_type": "code",
   "execution_count": 36,
   "metadata": {},
   "outputs": [
    {
     "name": "stdout",
     "output_type": "stream",
     "text": [
      "Nome: Maria \n",
      "Idade: 20 \n",
      "Profissão: Gestora Industrial\n"
     ]
    }
   ],
   "source": [
    "# Exercício 11\n",
    "\n",
    "nomes = {\"nome1\" : \"João\", \"nome2\" : \"António\", \"nome3\" : \"Maria\", \"nome4\" : \"Susana\", \"nome5\" : \"Beatriz\"}\n",
    "idades = {\"idade1\" : 37, \"idade2\" : 28, \"idade3\" : 20, \"idade4\" : 35, \"idade5\" : 26}\n",
    "profissoes = {\"profissao1\" : \"Engenheiro Electrotécnico\", \"profissão2\" : \"Engenheiro Informático\", \"profissão3\" : \"Gestora Industrial\", \"profissão4\" : \"Contabilista\", \"profissão5\" : \"Administrativa\"}\n",
    "\n",
    "#Utilizador introduz o nome\n",
    "input_nome = input(\"Escreva o nome de uma pessoa.\")\n",
    "#Criar uma lista com as palavras chave do dicionário nomes\n",
    "lista_indice_nomes = list(nomes.keys())\n",
    "#Criar uma lista para cada conteúdo de todos os dicionários\n",
    "lista_nomes = list(nomes.values())\n",
    "lista_idades = list(idades.values())\n",
    "lista_profissoes = list(profissoes.values())\n",
    "#Extrair o indíce na lista_nomes que corresponde ao nome introduzido pelo utilizador\n",
    "indice_nome = lista_nomes.index(input_nome)\n",
    "#Colocar no output o nome, idade e profissão que correspondem ao indice encontrado\n",
    "print('Nome: %s \\nIdade: %s \\nProfissão: %s' % (lista_nomes[indice_nome], lista_idades[indice_nome], lista_profissoes[indice_nome]))\n"
   ]
  },
  {
   "cell_type": "code",
   "execution_count": 30,
   "metadata": {},
   "outputs": [
    {
     "name": "stdout",
     "output_type": "stream",
     "text": [
      "['nome1', 'nome2', 'nome3', 'nome4', 'nome5']\n",
      "['João', 'António', 'Maria', 'Susana', 'Beatriz']\n"
     ]
    }
   ],
   "source": [
    "nomes_keys_list = list(nomes.keys())\n",
    "\n",
    "print(nomes_keys_list)\n",
    "\n",
    "nomes_values_list = list(nomes.values())\n",
    "\n",
    "print(nomes_values_list)"
   ]
  },
  {
   "cell_type": "code",
   "execution_count": 31,
   "metadata": {},
   "outputs": [],
   "source": [
    "nomes = {\"nome1\" : \"João\", \"nome2\" : \"António\", \"nome3\" : \"Maria\", \"nome4\" : \"Susana\", \"nome5\" : \"Beatriz\"}\n",
    "idades = {\"idade1\" : 37, \"idade2\" : 28, \"idade3\" : 20, \"idade4\" : 35, \"idade5\" : 26}\n",
    "profissoes = {\"profissao1\" : \"Engenheiro Electrotécnico\", \"profissão2\" : \"Engenheiro Informático\", \"profissão3\" : \"Gestora Industrial\", \"profissão4\" : \"Contabilista\", \"profissão5\" : \"Administrativa\"}\n",
    "\n",
    "\n",
    "var1 = list(nomes.keys())\n",
    "var2 = list(idades.keys())\n",
    "\n",
    "var3 = list(nomes.values())"
   ]
  },
  {
   "cell_type": "markdown",
   "metadata": {},
   "source": [
    "### Alternativa"
   ]
  },
  {
   "cell_type": "code",
   "execution_count": 40,
   "metadata": {},
   "outputs": [
    {
     "ename": "KeyError",
     "evalue": "'gdfgdfbcv'",
     "output_type": "error",
     "traceback": [
      "\u001b[1;31m---------------------------------------------------------------------------\u001b[0m",
      "\u001b[1;31mKeyError\u001b[0m                                  Traceback (most recent call last)",
      "Cell \u001b[1;32mIn[40], line 12\u001b[0m\n\u001b[0;32m      2\u001b[0m myDict\u001b[38;5;241m=\u001b[39m{\n\u001b[0;32m      3\u001b[0m     \u001b[38;5;124m'\u001b[39m\u001b[38;5;124mJoão\u001b[39m\u001b[38;5;124m'\u001b[39m : {\u001b[38;5;124m\"\u001b[39m\u001b[38;5;124mnome\u001b[39m\u001b[38;5;124m\"\u001b[39m : \u001b[38;5;124m'\u001b[39m\u001b[38;5;124mJoão\u001b[39m\u001b[38;5;124m'\u001b[39m, \u001b[38;5;124m\"\u001b[39m\u001b[38;5;124midade\u001b[39m\u001b[38;5;124m\"\u001b[39m : \u001b[38;5;124m\"\u001b[39m\u001b[38;5;124m38 \u001b[39m\u001b[38;5;124m\"\u001b[39m, \u001b[38;5;124m\"\u001b[39m\u001b[38;5;124mprofissão\u001b[39m\u001b[38;5;124m\"\u001b[39m : \u001b[38;5;124m'\u001b[39m\u001b[38;5;124mProgramador\u001b[39m\u001b[38;5;124m'\u001b[39m},\n\u001b[0;32m      4\u001b[0m     \u001b[38;5;124m'\u001b[39m\u001b[38;5;124mPaulo\u001b[39m\u001b[38;5;124m'\u001b[39m : {\u001b[38;5;124m\"\u001b[39m\u001b[38;5;124mnome\u001b[39m\u001b[38;5;124m\"\u001b[39m : \u001b[38;5;124m\"\u001b[39m\u001b[38;5;124mPaulo\u001b[39m\u001b[38;5;124m\"\u001b[39m, \u001b[38;5;124m\"\u001b[39m\u001b[38;5;124midade\u001b[39m\u001b[38;5;124m\"\u001b[39m : \u001b[38;5;124m\"\u001b[39m\u001b[38;5;124m40\u001b[39m\u001b[38;5;124m\"\u001b[39m , \u001b[38;5;124m\"\u001b[39m\u001b[38;5;124mprofissão\u001b[39m\u001b[38;5;124m\"\u001b[39m : \u001b[38;5;124m'\u001b[39m\u001b[38;5;124mPadeiro\u001b[39m\u001b[38;5;124m'\u001b[39m},\n\u001b[1;32m   (...)\u001b[0m\n\u001b[0;32m      7\u001b[0m     \u001b[38;5;124m'\u001b[39m\u001b[38;5;124mPedro\u001b[39m\u001b[38;5;124m'\u001b[39m : {\u001b[38;5;124m\"\u001b[39m\u001b[38;5;124mnome\u001b[39m\u001b[38;5;124m\"\u001b[39m : \u001b[38;5;124m\"\u001b[39m\u001b[38;5;124mPedro\u001b[39m\u001b[38;5;124m\"\u001b[39m, \u001b[38;5;124m\"\u001b[39m\u001b[38;5;124midade\u001b[39m\u001b[38;5;124m\"\u001b[39m : \u001b[38;5;124m\"\u001b[39m\u001b[38;5;124m44\u001b[39m\u001b[38;5;124m\"\u001b[39m , \u001b[38;5;124m\"\u001b[39m\u001b[38;5;124mprofissão\u001b[39m\u001b[38;5;124m\"\u001b[39m : \u001b[38;5;124m'\u001b[39m\u001b[38;5;124mSegurança\u001b[39m\u001b[38;5;124m'\u001b[39m}\n\u001b[0;32m      8\u001b[0m }\n\u001b[0;32m     10\u001b[0m varPessoas\u001b[38;5;241m=\u001b[39m\u001b[38;5;28minput\u001b[39m(\u001b[38;5;124m'\u001b[39m\u001b[38;5;124mDigite o nome de uma pessoa para saber mais informações: \u001b[39m\u001b[38;5;124m'\u001b[39m)\n\u001b[1;32m---> 12\u001b[0m \u001b[38;5;28mprint\u001b[39m(\u001b[38;5;124m'\u001b[39m\u001b[38;5;124mNome: \u001b[39m\u001b[38;5;124m'\u001b[39m \u001b[38;5;241m+\u001b[39m myDict[varPessoas][\u001b[38;5;124m'\u001b[39m\u001b[38;5;124mnome\u001b[39m\u001b[38;5;124m'\u001b[39m] \u001b[38;5;241m+\u001b[39m \u001b[38;5;124m'\u001b[39m\u001b[38;5;130;01m\\n\u001b[39;00m\u001b[38;5;124mIdade: \u001b[39m\u001b[38;5;124m'\u001b[39m \u001b[38;5;241m+\u001b[39m myDict[varPessoas][\u001b[38;5;124m'\u001b[39m\u001b[38;5;124midade\u001b[39m\u001b[38;5;124m'\u001b[39m] \u001b[38;5;241m+\u001b[39m\u001b[38;5;124m'\u001b[39m\u001b[38;5;130;01m\\n\u001b[39;00m\u001b[38;5;124mProfissão:\u001b[39m\u001b[38;5;124m'\u001b[39m, myDict[varPessoas][\u001b[38;5;124m'\u001b[39m\u001b[38;5;124mprofissão\u001b[39m\u001b[38;5;124m'\u001b[39m])\n",
      "\u001b[1;31mKeyError\u001b[0m: 'gdfgdfbcv'"
     ]
    }
   ],
   "source": [
    "#var = input('Introduza o primeiro nome')\n",
    "myDict={\n",
    "    'João' : {\"nome\" : 'João', \"idade\" : \"38 \", \"profissão\" : 'Programador'},\n",
    "    'Paulo' : {\"nome\" : \"Paulo\", \"idade\" : \"40\" , \"profissão\" : 'Padeiro'},\n",
    "    'Ana' : {\"nome\" : \"Ana\", \"idade\" : \"37\" , \"profissão\" : 'Vendedora'},\n",
    "    'Emília' : {\"nome\" : \"Emília\", \"idade\" : \"52\" , \"profissão\" : 'Motorista'},\n",
    "    'Pedro' : {\"nome\" : \"Pedro\", \"idade\" : \"44\" , \"profissão\" : 'Segurança'}\n",
    "}\n",
    "\n",
    "varPessoas=input('Digite o nome de uma pessoa para saber mais informações: ')\n",
    "\n",
    "print('Nome: ' + myDict[varPessoas]['nome'] + '\\nIdade: ' + myDict[varPessoas]['idade'] +'\\nProfissão:', myDict[varPessoas]['profissão'])\n"
   ]
  },
  {
   "cell_type": "markdown",
   "metadata": {},
   "source": [
    "### Exercício 12"
   ]
  },
  {
   "cell_type": "code",
   "execution_count": 41,
   "metadata": {},
   "outputs": [
    {
     "name": "stdout",
     "output_type": "stream",
     "text": [
      "Formação de Python é espetacular\n"
     ]
    }
   ],
   "source": [
    "var = \"FormaçãodePythonéespetacular\"\n",
    "\n",
    "var = var[:8] + \" \" + var[8:10] + \" \" + var[10:16] + \" \" + var[16] + \" \" + var[17:]\n",
    "print(var)\n"
   ]
  },
  {
   "cell_type": "code",
   "execution_count": null,
   "metadata": {},
   "outputs": [
    {
     "name": "stdout",
     "output_type": "stream",
     "text": [
      "Formação de Python é espetacular\n"
     ]
    }
   ],
   "source": [
    "var = \"FormaçãodePythonéespetacular\"\n",
    "\n",
    "#var = var[:8] , var[8:10] , var[10:16] , var[16] , var[17:]\n",
    "print(var[:8] , var[8:10] , var[10:16] , var[16] , var[17:])"
   ]
  },
  {
   "cell_type": "code",
   "execution_count": null,
   "metadata": {},
   "outputs": [
    {
     "name": "stdout",
     "output_type": "stream",
     "text": [
      "Formação de Python é espetacular\n"
     ]
    }
   ],
   "source": [
    "x='FormaçãodePythonéespetacular'\n",
    "y=x[0:8] + \" \" + x[8:10] + \" \" + x[10:16] + \" \" + x[16] + \" \" + x[-11:]\n",
    "print(y)"
   ]
  },
  {
   "cell_type": "markdown",
   "metadata": {},
   "source": [
    "### Exercício 13"
   ]
  },
  {
   "cell_type": "code",
   "execution_count": 42,
   "metadata": {},
   "outputs": [
    {
     "name": "stdout",
     "output_type": "stream",
     "text": [
      "[37, 28, 45, 33, 22]\n",
      "[37, 28, 20, 35, 26]\n"
     ]
    }
   ],
   "source": [
    "pessoa_1 = {\"nome\" : 'João', \"idade\": 37, \"profissão\": \"Eng.\"}\n",
    "pessoa_2 = {\"nome\" : 'Maria', \"idade\": 28, \"profissão\": \"fsdf.\"}\n",
    "pessoa_3 = {\"nome\" : 'Miguel', \"idade\": 45, \"profissão\": \"sdf.\"}\n",
    "pessoa_4 = {\"nome\" : 'José', \"idade\": 33, \"profissão\": \"sdf.\"}\n",
    "pessoa_5 = {\"nome\" : 'António', \"idade\": 22, \"profissão\": \"fghfg.\"}\n",
    "\n",
    "\n",
    "lista_pessoas = [pessoa_1[\"idade\"], pessoa_2[\"idade\"], pessoa_3[\"idade\"], pessoa_4[\"idade\"], pessoa_5[\"idade\"]]\n",
    "\n",
    "lista_pessoas11 = list(idades.values()) # Primeiro dicionário criado na pergunta 11\n",
    "\n",
    "print(lista_pessoas)\n",
    "\n",
    "print(lista_pessoas11)\n"
   ]
  },
  {
   "cell_type": "code",
   "execution_count": 43,
   "metadata": {},
   "outputs": [
    {
     "name": "stdout",
     "output_type": "stream",
     "text": [
      "['38 ', '40', '37', '52', '44']\n"
     ]
    }
   ],
   "source": [
    "lista_pessoas= [myDict['João']['idade'], myDict['Paulo']['idade'], myDict['Ana']['idade'], myDict['Emília']['idade'],myDict['Pedro']['idade']]\n",
    "\n",
    "print(lista_pessoas)"
   ]
  },
  {
   "cell_type": "code",
   "execution_count": 44,
   "metadata": {},
   "outputs": [
    {
     "name": "stdout",
     "output_type": "stream",
     "text": [
      "[35, 18, 19, 19, 35]\n"
     ]
    }
   ],
   "source": [
    "Dicionario = {\n",
    "    0 : {'Nome' : input('Nome'), 'idade' : 35, 'profissão' : 'professor'},\n",
    "    1 : {'nome' : input('Nome'), 'idade' : 18, 'profissão' : 'farmaceutico'},\n",
    "    2 : {'nome' : input('Nome'), 'idade' : 19, 'profissão' : 'farmaceutico1'},\n",
    "    3 : {'nome' : input('Nome'), 'idade' : 19, 'profissão' : 'farmaceutico2'},\n",
    "    4 : {'nome' : input('Nome'), 'idade' : 35, 'profissão' : 'tecnica'}\n",
    "}\n",
    "\n",
    "varDictValue0 = Dicionario[0]['idade']\n",
    "varDictValue1 = Dicionario[1]['idade']\n",
    "varDictValue2 = Dicionario[2]['idade']\n",
    "varDictValue3 = Dicionario[3]['idade']\n",
    "varDictValue4 = Dicionario[4]['idade']\n",
    "idades_var = varDictValue0, varDictValue1 , varDictValue2 , varDictValue3, varDictValue4 # Cria um tuple\n",
    "idades_var_1 = (varDictValue0, varDictValue1 , varDictValue2 , varDictValue3, varDictValue4) # Cria um tuple\n",
    "print(list(idades_var))"
   ]
  },
  {
   "cell_type": "markdown",
   "metadata": {},
   "source": [
    "### Exercício 14"
   ]
  },
  {
   "cell_type": "code",
   "execution_count": 45,
   "metadata": {},
   "outputs": [
    {
     "name": "stdout",
     "output_type": "stream",
     "text": [
      "625.0\n"
     ]
    }
   ],
   "source": [
    "val1 = input(\"Introduza o primeiro valor.\")\n",
    "val2 = input(\"Introduza o segundo valor.\")\n",
    "\n",
    "val1_float = float(val1)\n",
    "val2_float = float(val2)\n",
    "print(val1_float * val2_float)"
   ]
  },
  {
   "cell_type": "code",
   "execution_count": 47,
   "metadata": {},
   "outputs": [
    {
     "ename": "ValueError",
     "evalue": "could not convert string to float: 'h'",
     "output_type": "error",
     "traceback": [
      "\u001b[1;31m---------------------------------------------------------------------------\u001b[0m",
      "\u001b[1;31mValueError\u001b[0m                                Traceback (most recent call last)",
      "Cell \u001b[1;32mIn[47], line 1\u001b[0m\n\u001b[1;32m----> 1\u001b[0m val1 \u001b[38;5;241m=\u001b[39m \u001b[38;5;28mfloat\u001b[39m(\u001b[38;5;28minput\u001b[39m(\u001b[38;5;124m\"\u001b[39m\u001b[38;5;124mIntroduza o primeiro valor.\u001b[39m\u001b[38;5;124m\"\u001b[39m))\n\u001b[0;32m      2\u001b[0m val2 \u001b[38;5;241m=\u001b[39m \u001b[38;5;28mfloat\u001b[39m(\u001b[38;5;28minput\u001b[39m(\u001b[38;5;124m\"\u001b[39m\u001b[38;5;124mIntroduza o segundo valor.\u001b[39m\u001b[38;5;124m\"\u001b[39m))\n\u001b[0;32m      4\u001b[0m \u001b[38;5;28mprint\u001b[39m(val1 \u001b[38;5;241m*\u001b[39m val2)\n",
      "\u001b[1;31mValueError\u001b[0m: could not convert string to float: 'h'"
     ]
    }
   ],
   "source": [
    "val1 = float(input(\"Introduza o primeiro valor.\"))\n",
    "val2 = float(input(\"Introduza o segundo valor.\"))\n",
    "\n",
    "print(val1 * val2)"
   ]
  },
  {
   "cell_type": "code",
   "execution_count": 50,
   "metadata": {},
   "outputs": [],
   "source": [
    "var = '15,12555'\n",
    "\n",
    "var_1 = var.replace(',','.')"
   ]
  },
  {
   "cell_type": "code",
   "execution_count": 51,
   "metadata": {},
   "outputs": [
    {
     "data": {
      "text/plain": [
       "15.12555"
      ]
     },
     "execution_count": 51,
     "metadata": {},
     "output_type": "execute_result"
    }
   ],
   "source": [
    "float(var_1)"
   ]
  },
  {
   "cell_type": "markdown",
   "metadata": {},
   "source": [
    "### Exercício 15"
   ]
  },
  {
   "cell_type": "code",
   "execution_count": 53,
   "metadata": {},
   "outputs": [
    {
     "name": "stdout",
     "output_type": "stream",
     "text": [
      "True\n"
     ]
    }
   ],
   "source": [
    "val = input(\"Introduza um numero.\")\n",
    "\n",
    "val_float = float(val)\n",
    "# Resto da divisão \n",
    "resto_divisao = val_float % 2\n",
    "#Se o resto da divisão for 0, então o numero é par\n",
    "print(resto_divisao == 0)"
   ]
  },
  {
   "cell_type": "code",
   "execution_count": 55,
   "metadata": {},
   "outputs": [
    {
     "name": "stdout",
     "output_type": "stream",
     "text": [
      "O numero é par\n"
     ]
    }
   ],
   "source": [
    "val = input(\"Introduza um numero.\")\n",
    "\n",
    "val_float = float(val)\n",
    "# Resto da divisão \n",
    "resto_divisao = int(val_float % 2)\n",
    "#Se o resto da divisão for 0, então o numero é par\n",
    "res_lis = ['O numero é par', 'O numero é impar']\n",
    "print(res_lis[resto_divisao])\n"
   ]
  },
  {
   "cell_type": "markdown",
   "metadata": {},
   "source": [
    "### Exercício 16"
   ]
  },
  {
   "cell_type": "code",
   "execution_count": 56,
   "metadata": {},
   "outputs": [
    {
     "name": "stdout",
     "output_type": "stream",
     "text": [
      "True\n",
      "False\n",
      "False\n",
      "False\n",
      "False\n"
     ]
    }
   ],
   "source": [
    "# Primeiro dicionário criado na pergunta 11\n",
    "print(nomes[\"nome1\"] == \"João\")\n",
    "print(nomes[\"nome2\"] == \"João\")\n",
    "print(nomes[\"nome3\"] == \"João\")\n",
    "print(nomes[\"nome4\"] == \"João\")\n",
    "print(nomes[\"nome5\"] == \"João\")"
   ]
  },
  {
   "cell_type": "code",
   "execution_count": 59,
   "metadata": {},
   "outputs": [
    {
     "name": "stdout",
     "output_type": "stream",
     "text": [
      "True\n"
     ]
    }
   ],
   "source": [
    "# Segundo dicionário criado na pergunta 11\n",
    "print('João' in myDict)"
   ]
  },
  {
   "cell_type": "code",
   "execution_count": 67,
   "metadata": {},
   "outputs": [
    {
     "name": "stdout",
     "output_type": "stream",
     "text": [
      "{'Nome': 'João', 'idade': 35, 'profissão': 'professor'}\n"
     ]
    },
    {
     "data": {
      "text/plain": [
       "2"
      ]
     },
     "execution_count": 67,
     "metadata": {},
     "output_type": "execute_result"
    }
   ],
   "source": [
    "print(str(Dicionario[0]))\n",
    "str(Dicionario[0]).find('No') # Não recomendado para utilizar pesquisa em dicionários"
   ]
  },
  {
   "cell_type": "code",
   "execution_count": null,
   "metadata": {},
   "outputs": [],
   "source": [
    "varDict = {\n",
    "    0:{'nome':'João', 'idade':39, 'profissão': 'Programador'},\n",
    "    1:{'nome':'Helder', 'idade':38, 'profissão': 'Contabilista'},\n",
    "    2:{'nome':'Joaquim', 'idade':60, 'profissão': 'Agricultor'},\n",
    "    3:{'nome':'Liliana', 'idade':27, 'profissão': 'Business Analist'},\n",
    "    4:{'nome':'Maia', 'idade':65, 'profissão': 'Doméstica'}\n",
    "}"
   ]
  },
  {
   "cell_type": "code",
   "execution_count": null,
   "metadata": {},
   "outputs": [
    {
     "name": "stdout",
     "output_type": "stream",
     "text": [
      "[{'nome': 'João', 'idade': 39, 'profissão': 'Programador'}, {'nome': 'Helder', 'idade': 38, 'profissão': 'Contabilista'}, {'nome': 'Joaquim', 'idade': 60, 'profissão': 'Agricultor'}, {'nome': 'Liliana', 'idade': 27, 'profissão': 'Business Analist'}, {'nome': 'Maia', 'idade': 65, 'profissão': 'Doméstica'}]\n",
      "False\n"
     ]
    },
    {
     "data": {
      "text/plain": [
       "True"
      ]
     },
     "execution_count": 53,
     "metadata": {},
     "output_type": "execute_result"
    }
   ],
   "source": [
    "varDictValue = list(varDict.values())\n",
    "print(varDictValue)\n",
    "print('João' in varDictValue)\n",
    "\n",
    "'João' in varDictValue[0].values()"
   ]
  },
  {
   "cell_type": "markdown",
   "metadata": {},
   "source": [
    "### Exercício 17"
   ]
  },
  {
   "cell_type": "code",
   "execution_count": 68,
   "metadata": {},
   "outputs": [
    {
     "name": "stdout",
     "output_type": "stream",
     "text": [
      "7.0 False\n",
      "10.0 True\n",
      "0.0 False\n"
     ]
    }
   ],
   "source": [
    "num1 = input(\"Introduza o primeiro numero.\")\n",
    "num2 = input(\"Introduza o segundo numero.\")\n",
    "num3 = input(\"Introduza o terceiro numero.\")\n",
    "\n",
    "num1 = float(num1)\n",
    "num2 = float(num2)\n",
    "num3 = float(num3)\n",
    "\n",
    "print(num1 , num1 > 0 and num1 <= 10 and num1 != 7)\n",
    "\n",
    "print(num2, num2 > 0 and num2 <= 10 and num2 != 7)\n",
    "\n",
    "print(num3, num3 > 0 and num3 <= 10 and num3 != 7)"
   ]
  },
  {
   "cell_type": "code",
   "execution_count": 70,
   "metadata": {},
   "outputs": [
    {
     "name": "stdout",
     "output_type": "stream",
     "text": [
      "Condição Falsa\n"
     ]
    }
   ],
   "source": [
    "if num1 > 0 and num1 <= 10 and num1 != 7:\n",
    "    print('Condição Verdadeira')\n",
    "else:\n",
    "    print('Condição Falsa')"
   ]
  }
 ],
 "metadata": {
  "kernelspec": {
   "display_name": "Python 3.10.6 ('UFCD_0804_026')",
   "language": "python",
   "name": "python3"
  },
  "language_info": {
   "codemirror_mode": {
    "name": "ipython",
    "version": 3
   },
   "file_extension": ".py",
   "mimetype": "text/x-python",
   "name": "python",
   "nbconvert_exporter": "python",
   "pygments_lexer": "ipython3",
   "version": "3.11.7"
  },
  "orig_nbformat": 4,
  "vscode": {
   "interpreter": {
    "hash": "5805d5b2f6b29dc56b695b70fc0af34a206dc4e8dffec630778c66a1ce2f3b59"
   }
  }
 },
 "nbformat": 4,
 "nbformat_minor": 2
}
